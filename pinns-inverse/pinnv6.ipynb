{
  "cells": [
    {
      "cell_type": "code",
      "execution_count": 1,
      "metadata": {
        "colab": {
          "base_uri": "https://localhost:8080/"
        },
        "id": "EpYcl-A3SLIg",
        "outputId": "38a761fa-8876-4556-f006-773408fc8ab1"
      },
      "outputs": [
        {
          "name": "stdout",
          "output_type": "stream",
          "text": [
            "--2025-01-20 07:08:42--  https://raw.githubusercontent.com/omniscientoctopus/Physics-Informed-Neural-Networks/7d26e55cc665b79b652b226860177fa4defe9190/PyTorch/Burgers'%20Equation/Data/burgers_shock_mu_005_pi.mat\n",
            "Resolving raw.githubusercontent.com (raw.githubusercontent.com)... 185.199.108.133, 185.199.109.133, 185.199.110.133, ...\n",
            "Connecting to raw.githubusercontent.com (raw.githubusercontent.com)|185.199.108.133|:443... connected.\n",
            "HTTP request sent, awaiting response... 200 OK\n",
            "Length: 157672 (154K) [application/octet-stream]\n",
            "Saving to: ‘burgers_shock_mu_005_pi.mat’\n",
            "\n",
            "burgers_shock_mu_00 100%[===================>] 153.98K  --.-KB/s    in 0.009s  \n",
            "\n",
            "2025-01-20 07:08:43 (16.6 MB/s) - ‘burgers_shock_mu_005_pi.mat’ saved [157672/157672]\n",
            "\n"
          ]
        }
      ],
      "source": [
        "!wget https://raw.githubusercontent.com/omniscientoctopus/Physics-Informed-Neural-Networks/7d26e55cc665b79b652b226860177fa4defe9190/PyTorch/Burgers\\'%20Equation/Data/burgers_shock_mu_005_pi.mat"
      ]
    },
    {
      "cell_type": "code",
      "execution_count": 68,
      "metadata": {
        "colab": {
          "base_uri": "https://localhost:8080/"
        },
        "id": "QiAPk-A88383",
        "outputId": "c23540db-c408-4888-e2d6-047e64a11689"
      },
      "outputs": [
        {
          "name": "stdout",
          "output_type": "stream",
          "text": [
            "--2025-01-20 07:44:51--  https://raw.githubusercontent.com/broccubali/PINNs/siddhi/pde-gen/burgers/data/burgerSkewedNormal.npy\n",
            "Resolving raw.githubusercontent.com (raw.githubusercontent.com)... 185.199.110.133, 185.199.109.133, 185.199.111.133, ...\n",
            "Connecting to raw.githubusercontent.com (raw.githubusercontent.com)|185.199.110.133|:443... connected.\n",
            "HTTP request sent, awaiting response... 200 OK\n",
            "Length: 823424 (804K) [application/octet-stream]\n",
            "Saving to: ‘burgerSkewedNormal.npy’\n",
            "\n",
            "burgerSkewedNormal. 100%[===================>] 804.12K  --.-KB/s    in 0.007s  \n",
            "\n",
            "2025-01-20 07:44:52 (118 MB/s) - ‘burgerSkewedNormal.npy’ saved [823424/823424]\n",
            "\n",
            "--2025-01-20 07:44:52--  https://raw.githubusercontent.com/broccubali/PINNs/master/pde-gen/burgers/data/t_coordinate.npy\n",
            "Resolving raw.githubusercontent.com (raw.githubusercontent.com)... 185.199.108.133, 185.199.109.133, 185.199.110.133, ...\n",
            "Connecting to raw.githubusercontent.com (raw.githubusercontent.com)|185.199.108.133|:443... connected.\n",
            "HTTP request sent, awaiting response... 200 OK\n",
            "Length: 936 [application/octet-stream]\n",
            "Saving to: ‘t_coordinate.npy.2’\n",
            "\n",
            "t_coordinate.npy.2  100%[===================>]     936  --.-KB/s    in 0s      \n",
            "\n",
            "2025-01-20 07:44:53 (43.3 MB/s) - ‘t_coordinate.npy.2’ saved [936/936]\n",
            "\n",
            "--2025-01-20 07:44:53--  https://raw.githubusercontent.com/broccubali/PINNs/master/pde-gen/burgers/data/x_coordinate.npy\n",
            "Resolving raw.githubusercontent.com (raw.githubusercontent.com)... 185.199.108.133, 185.199.109.133, 185.199.110.133, ...\n",
            "Connecting to raw.githubusercontent.com (raw.githubusercontent.com)|185.199.108.133|:443... connected.\n",
            "HTTP request sent, awaiting response... 200 OK\n",
            "Length: 4224 (4.1K) [application/octet-stream]\n",
            "Saving to: ‘x_coordinate.npy.2’\n",
            "\n",
            "x_coordinate.npy.2  100%[===================>]   4.12K  --.-KB/s    in 0s      \n",
            "\n",
            "2025-01-20 07:44:54 (57.6 MB/s) - ‘x_coordinate.npy.2’ saved [4224/4224]\n",
            "\n"
          ]
        }
      ],
      "source": [
        "# !wget https://raw.githubusercontent.com/broccubali/PINNs/siddhi/pde-gen/burgers/data/burgerClean.npy\n",
        "# !wget https://raw.githubusercontent.com/broccubali/PINNs/master/pde-gen/burgers/data/burgerExponential.npy\n",
        "!wget https://raw.githubusercontent.com/broccubali/PINNs/siddhi/pde-gen/burgers/data/burgerSkewedNormal.npy\n",
        "!wget https://raw.githubusercontent.com/broccubali/PINNs/master/pde-gen/burgers/data/t_coordinate.npy\n",
        "!wget https://raw.githubusercontent.com/broccubali/PINNs/master/pde-gen/burgers/data/x_coordinate.npy"
      ]
    },
    {
      "cell_type": "markdown",
      "metadata": {
        "id": "oj6BZ7YFbcg6"
      },
      "source": [
        "# pinn class"
      ]
    },
    {
      "cell_type": "code",
      "execution_count": 34,
      "metadata": {
        "colab": {
          "base_uri": "https://localhost:8080/"
        },
        "id": "7zMBM8RvSZ-B",
        "outputId": "c3c4fdbc-ad2d-4bdd-d374-50ab2e296468"
      },
      "outputs": [
        {
          "name": "stdout",
          "output_type": "stream",
          "text": [
            "PINN(\n",
            "  (layers): ModuleList(\n",
            "    (0): Linear(in_features=2, out_features=20, bias=True)\n",
            "    (1): Tanh()\n",
            "    (2): Linear(in_features=20, out_features=20, bias=True)\n",
            "    (3): Tanh()\n",
            "    (4): Linear(in_features=20, out_features=20, bias=True)\n",
            "    (5): Tanh()\n",
            "    (6): Linear(in_features=20, out_features=20, bias=True)\n",
            "    (7): Tanh()\n",
            "    (8): Linear(in_features=20, out_features=20, bias=True)\n",
            "    (9): Tanh()\n",
            "    (10): Linear(in_features=20, out_features=20, bias=True)\n",
            "    (11): Tanh()\n",
            "    (12): Linear(in_features=20, out_features=20, bias=True)\n",
            "    (13): Tanh()\n",
            "    (14): Linear(in_features=20, out_features=20, bias=True)\n",
            "    (15): Tanh()\n",
            "    (16): Linear(in_features=20, out_features=20, bias=True)\n",
            "    (17): Tanh()\n",
            "    (18): Linear(in_features=20, out_features=20, bias=True)\n",
            "    (19): Tanh()\n",
            "    (20): Linear(in_features=20, out_features=1, bias=True)\n",
            "  )\n",
            "  (loss): MSELoss()\n",
            ")\n"
          ]
        }
      ],
      "source": [
        "import torch\n",
        "import torch.nn as nn\n",
        "import numpy as np\n",
        "from scipy.io import loadmat\n",
        "from tqdm import tqdm\n",
        "\n",
        "\n",
        "class PINN(nn.Module):\n",
        "    def __init__(self, input_size, hidden_size, output_size):\n",
        "        super(PINN, self).__init__()\n",
        "        self.layers = nn.ModuleList(\n",
        "            [\n",
        "                (\n",
        "                    nn.Linear(input_size if i == 0 else hidden_size, hidden_size)\n",
        "                    if i % 2 == 0\n",
        "                    else nn.Tanh()\n",
        "                )\n",
        "                for i in range(20)\n",
        "            ]\n",
        "        )\n",
        "        self.layers.append(nn.Linear(hidden_size, output_size))\n",
        "        self.loss = nn.MSELoss()\n",
        "        self.lambda2 = nn.Parameter(\n",
        "            torch.tensor([0.01], dtype=torch.float32, device=\"cuda\")\n",
        "        )\n",
        "        self.lambda1 = nn.Parameter(\n",
        "            torch.tensor([1.0], dtype=torch.float32, device=\"cuda\")\n",
        "        )\n",
        "        self.optimizer = torch.optim.Adam(self.parameters(), lr=1e-3)\n",
        "        self.optimizer.param_groups[0][\"params\"].append(self.lambda1)\n",
        "        self.optimizer.param_groups[0][\"params\"].append(self.lambda2)\n",
        "\n",
        "    def forward(self, x):\n",
        "        for layer in self.layers:\n",
        "            x = layer(x)\n",
        "        return x\n",
        "\n",
        "    def loss_fn(self, x, u):\n",
        "        u_pred = self.forward(x)\n",
        "        return self.loss(u_pred, u)\n",
        "\n",
        "    def residual_loss(self, xtrain, fhat):\n",
        "        x = xtrain[:, 0]\n",
        "        t = xtrain[:, 1]\n",
        "        g = xtrain.clone()\n",
        "        g.requires_grad = True\n",
        "        u_pred = self.forward(g)\n",
        "        u_x_t = torch.autograd.grad(\n",
        "            u_pred,\n",
        "            g,\n",
        "            torch.ones([xtrain.shape[0], 1]).to(\"cuda\"),\n",
        "            retain_graph=True,\n",
        "            create_graph=True,\n",
        "        )[0]\n",
        "        u_xx_tt = torch.autograd.grad(\n",
        "            u_x_t, g, torch.ones(xtrain.shape).to(\"cuda\"), create_graph=True\n",
        "        )[0]\n",
        "        u_x = u_x_t[:, [0]]\n",
        "        u_t = u_x_t[:, [1]]\n",
        "        u_xx = u_xx_tt[:, [0]]\n",
        "        return self.loss(u_t + (self.lambda1 * u_pred * u_x) - (self.lambda2 * u_xx), fhat)\n",
        "\n",
        "    def total_loss(self, xtrain, utrain, fhat):\n",
        "        return self.loss_fn(xtrain, utrain) + self.residual_loss(xtrain, fhat)\n",
        "\n",
        "    def train_model(self, xtrain, utrain, epochs=1000):\n",
        "        fhat = torch.zeros(xtrain.shape[0], 1, device=\"cuda\")\n",
        "        for epoch in tqdm(range(epochs)):\n",
        "            self.optimizer.zero_grad()\n",
        "            loss = self.total_loss(xtrain, utrain, fhat)\n",
        "            loss.backward()\n",
        "            self.optimizer.step()\n",
        "            if epoch % 1000 == 0:\n",
        "                print(f\"Epoch {epoch}, Loss {loss.item()}, Nu {self.lambda2.item()}, Lambda {self.lambda1.item()}\")\n",
        "\n",
        "\n",
        "\n",
        "model = PINN(input_size=2, hidden_size=20, output_size=1).to(\"cuda\")\n",
        "print(model)"
      ]
    },
    {
      "cell_type": "markdown",
      "metadata": {
        "id": "rGkiaXm9becD"
      },
      "source": [
        "# load data"
      ]
    },
    {
      "cell_type": "code",
      "execution_count": 3,
      "metadata": {
        "colab": {
          "base_uri": "https://localhost:8080/"
        },
        "id": "7rMohbkTURuR",
        "outputId": "dfdcd16d-98fa-4b0a-9f0d-fd7d4438e6c1"
      },
      "outputs": [
        {
          "data": {
            "text/plain": [
              "((100, 256), (100, 256), torch.Size([100, 256]))"
            ]
          },
          "execution_count": 3,
          "metadata": {},
          "output_type": "execute_result"
        }
      ],
      "source": [
        "data = loadmat(\"../data/burgers_shock_mu_01_pi.mat\")\n",
        "u = data[\"usol\"].T\n",
        "x = data[\"x\"]\n",
        "t = data[\"t\"]\n",
        "\n",
        "# u = np.load(\"burgerSkewedNormal.npy\")\n",
        "# x = np.load(\"x_coordinate.npy\")\n",
        "# t = np.load(\"t_coordinate.npy\")[:-1]\n",
        "x = torch.tensor(x, dtype=torch.float32)\n",
        "t = torch.tensor(t, dtype=torch.float32)\n",
        "u = torch.tensor(u, dtype=torch.float32)\n",
        "# form a meshgrid, where X contains all the x points from -1 to 1, 100 times for 100 time steps.\n",
        "# T contains all 100 time steps from 0 to 1, 256 times for 256 x points\n",
        "X, T = np.meshgrid(x, t)\n",
        "X.shape, T.shape, u.shape"
      ]
    },
    {
      "cell_type": "code",
      "execution_count": 27,
      "metadata": {
        "colab": {
          "base_uri": "https://localhost:8080/"
        },
        "id": "sGCO290KuIJQ",
        "outputId": "bb6d1e62-8c79-4781-8513-8d4e335bbdce"
      },
      "outputs": [],
      "source": [
        "# !pip install pyDOE"
      ]
    },
    {
      "cell_type": "markdown",
      "metadata": {},
      "source": [
        "# Train data"
      ]
    },
    {
      "cell_type": "code",
      "execution_count": 7,
      "metadata": {
        "colab": {
          "base_uri": "https://localhost:8080/"
        },
        "id": "TKCTUeIjYtMr",
        "outputId": "53c191b4-3cea-4987-fcd1-cb5d57fd3ffa"
      },
      "outputs": [
        {
          "data": {
            "text/plain": [
              "((10000, 2), torch.Size([10000, 1]))"
            ]
          },
          "execution_count": 7,
          "metadata": {},
          "output_type": "execute_result"
        }
      ],
      "source": [
        "from pyDOE import lhs\n",
        "\n",
        "xtrue = np.hstack((X.flatten()[:, None], T.flatten()[:, None]))\n",
        "lb = xtrue[0]\n",
        "ub = xtrue[-1]\n",
        "idx = np.random.choice(25600, 10000, replace=False)\n",
        "xtrain = xtrue[idx, :]\n",
        "utrain = u.flatten()[idx][:, None]\n",
        "xtrain.shape, utrain.shape"
      ]
    },
    {
      "cell_type": "code",
      "execution_count": 12,
      "metadata": {
        "id": "UyVlnnvEtwrx"
      },
      "outputs": [],
      "source": [
        "device = torch.device(\"cuda\")\n",
        "Xtrain = torch.tensor(xtrain, dtype=torch.float32, device=device)\n",
        "Xtrue = torch.tensor(xtrue, dtype=torch.float32, device=device)\n",
        "utrain = utrain.to(device)\n",
        "utrue = u.flatten()[:, None]"
      ]
    },
    {
      "cell_type": "code",
      "execution_count": 36,
      "metadata": {
        "colab": {
          "base_uri": "https://localhost:8080/"
        },
        "id": "8mgoUFvYtwrx",
        "outputId": "f2820436-ac15-44af-cfe4-1808860559a1"
      },
      "outputs": [
        {
          "name": "stderr",
          "output_type": "stream",
          "text": [
            "  0%|          | 34/10000 [00:00<00:57, 173.84it/s]"
          ]
        },
        {
          "name": "stdout",
          "output_type": "stream",
          "text": [
            "Epoch 0, Loss 0.3765890896320343, Nu 0.009826750494539738, Lambda 0.9999733567237854\n",
            "Gradients of lambda1: tensor([5.2545e-10], device='cuda:0')\n",
            "Gradients of lambda2: tensor([4.2907e-09], device='cuda:0')\n"
          ]
        },
        {
          "name": "stderr",
          "output_type": "stream",
          "text": [
            " 10%|█         | 1038/10000 [00:05<00:47, 189.05it/s]"
          ]
        },
        {
          "name": "stdout",
          "output_type": "stream",
          "text": [
            "Epoch 1000, Loss 0.01671781577169895, Nu 0.005971658509224653, Lambda 0.531352162361145\n",
            "Gradients of lambda1: tensor([-0.0047], device='cuda:0')\n",
            "Gradients of lambda2: tensor([0.0024], device='cuda:0')\n"
          ]
        },
        {
          "name": "stderr",
          "output_type": "stream",
          "text": [
            " 20%|██        | 2034/10000 [00:11<00:44, 177.68it/s]"
          ]
        },
        {
          "name": "stdout",
          "output_type": "stream",
          "text": [
            "Epoch 2000, Loss 0.00922861322760582, Nu 0.0055933427065610886, Lambda 0.623054027557373\n",
            "Gradients of lambda1: tensor([0.0460], device='cuda:0')\n",
            "Gradients of lambda2: tensor([-5.6615], device='cuda:0')\n"
          ]
        },
        {
          "name": "stderr",
          "output_type": "stream",
          "text": [
            " 30%|███       | 3025/10000 [00:17<00:43, 159.74it/s]"
          ]
        },
        {
          "name": "stdout",
          "output_type": "stream",
          "text": [
            "Epoch 3000, Loss 0.0043974448926746845, Nu 0.005260472651571035, Lambda 0.7191067337989807\n",
            "Gradients of lambda1: tensor([-0.0098], device='cuda:0')\n",
            "Gradients of lambda2: tensor([0.7175], device='cuda:0')\n"
          ]
        },
        {
          "name": "stderr",
          "output_type": "stream",
          "text": [
            " 40%|████      | 4035/10000 [00:23<00:34, 173.92it/s]"
          ]
        },
        {
          "name": "stdout",
          "output_type": "stream",
          "text": [
            "Epoch 4000, Loss 0.00301537336781621, Nu 0.0052988650277256966, Lambda 0.7813065648078918\n",
            "Gradients of lambda1: tensor([-0.0101], device='cuda:0')\n",
            "Gradients of lambda2: tensor([1.0102], device='cuda:0')\n"
          ]
        },
        {
          "name": "stderr",
          "output_type": "stream",
          "text": [
            " 50%|█████     | 5024/10000 [00:28<00:28, 176.07it/s]"
          ]
        },
        {
          "name": "stdout",
          "output_type": "stream",
          "text": [
            "Epoch 5000, Loss 0.0022295580711215734, Nu 0.005321396980434656, Lambda 0.8274524807929993\n",
            "Gradients of lambda1: tensor([-0.0072], device='cuda:0')\n",
            "Gradients of lambda2: tensor([0.6699], device='cuda:0')\n"
          ]
        },
        {
          "name": "stderr",
          "output_type": "stream",
          "text": [
            " 60%|██████    | 6032/10000 [00:34<00:20, 190.55it/s]"
          ]
        },
        {
          "name": "stdout",
          "output_type": "stream",
          "text": [
            "Epoch 6000, Loss 0.0017372160218656063, Nu 0.0054121436551213264, Lambda 0.8622661828994751\n",
            "Gradients of lambda1: tensor([0.0072], device='cuda:0')\n",
            "Gradients of lambda2: tensor([-1.3182], device='cuda:0')\n"
          ]
        },
        {
          "name": "stderr",
          "output_type": "stream",
          "text": [
            " 70%|███████   | 7026/10000 [00:39<00:16, 175.84it/s]"
          ]
        },
        {
          "name": "stdout",
          "output_type": "stream",
          "text": [
            "Epoch 7000, Loss 0.0013814765261486173, Nu 0.005369751714169979, Lambda 0.888217031955719\n",
            "Gradients of lambda1: tensor([0.0005], device='cuda:0')\n",
            "Gradients of lambda2: tensor([-0.3292], device='cuda:0')\n"
          ]
        },
        {
          "name": "stderr",
          "output_type": "stream",
          "text": [
            " 80%|████████  | 8024/10000 [00:44<00:11, 178.15it/s]"
          ]
        },
        {
          "name": "stdout",
          "output_type": "stream",
          "text": [
            "Epoch 8000, Loss 0.0011533654760569334, Nu 0.005356267094612122, Lambda 0.9059507250785828\n",
            "Gradients of lambda1: tensor([-0.0095], device='cuda:0')\n",
            "Gradients of lambda2: tensor([1.2686], device='cuda:0')\n"
          ]
        },
        {
          "name": "stderr",
          "output_type": "stream",
          "text": [
            " 90%|█████████ | 9035/10000 [00:50<00:05, 185.55it/s]"
          ]
        },
        {
          "name": "stdout",
          "output_type": "stream",
          "text": [
            "Epoch 9000, Loss 0.0009527383372187614, Nu 0.005258429329842329, Lambda 0.9197857975959778\n",
            "Gradients of lambda1: tensor([-0.0125], device='cuda:0')\n",
            "Gradients of lambda2: tensor([1.8685], device='cuda:0')\n"
          ]
        },
        {
          "name": "stderr",
          "output_type": "stream",
          "text": [
            "100%|██████████| 10000/10000 [00:56<00:00, 177.70it/s]\n"
          ]
        }
      ],
      "source": [
        "model.train_model(Xtrain, utrain, epochs=10000)"
      ]
    }
  ],
  "metadata": {
    "accelerator": "GPU",
    "colab": {
      "gpuType": "T4",
      "provenance": []
    },
    "kernelspec": {
      "display_name": "torch",
      "language": "python",
      "name": "python3"
    },
    "language_info": {
      "codemirror_mode": {
        "name": "ipython",
        "version": 3
      },
      "file_extension": ".py",
      "mimetype": "text/x-python",
      "name": "python",
      "nbconvert_exporter": "python",
      "pygments_lexer": "ipython3",
      "version": "3.12.3"
    }
  },
  "nbformat": 4,
  "nbformat_minor": 0
}
