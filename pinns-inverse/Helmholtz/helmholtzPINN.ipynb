{
 "cells": [
  {
   "cell_type": "code",
   "execution_count": 28,
   "metadata": {},
   "outputs": [],
   "source": [
    "import torch\n",
    "import torch.nn as nn\n",
    "import numpy as np\n",
    "from scipy.io import loadmat\n",
    "from tqdm import tqdm\n",
    "from pyDOE import lhs\n",
    "import torch.optim as optim"
   ]
  },
  {
   "cell_type": "code",
   "execution_count": 29,
   "metadata": {},
   "outputs": [],
   "source": [
    "# class PINN(nn.Module):\n",
    "#     def __init__(self, input_size, hidden_size, output_size):\n",
    "#         super(PINN, self).__init__()\n",
    "#         self.layers = nn.ModuleList(\n",
    "#             [\n",
    "#                 nn.Linear(input_size if i == 0 else hidden_size, hidden_size)\n",
    "#                 if i % 2 == 0\n",
    "#                 else nn.Tanh()\n",
    "#                 for i in range(10)\n",
    "#             ]\n",
    "#         )\n",
    "#         self.layers.append(nn.Linear(hidden_size, output_size))\n",
    "        \n",
    "#         # Trainable parameter for the wave number squared (k^2)\n",
    "#         self.k2 = nn.Parameter(torch.tensor([30.0], dtype=torch.float32, device=\"cuda\"))\n",
    "\n",
    "#         # Optimizer\n",
    "#         self.optimizer = torch.optim.Adam(self.parameters(), lr=1e-3)\n",
    "#         self.optimizer.param_groups[0][\"params\"].append(self.k2)\n",
    "        \n",
    "#         self.loss = nn.MSELoss()\n",
    "\n",
    "#     def forward(self, x):\n",
    "#         for layer in self.layers:\n",
    "#             x = layer(x)\n",
    "#         return x\n",
    "\n",
    "#     def loss_fn(self, x, u):\n",
    "#         u_pred = self.forward(x)\n",
    "#         return self.loss(u_pred, u)\n",
    "\n",
    "#     # def residual_loss(self, xtrain):\n",
    "#     #     g = xtrain.clone()\n",
    "#     #     g.requires_grad = True\n",
    "#     #     u_pred = self.forward(g)\n",
    "        \n",
    "#     #     # Compute gradients\n",
    "#     #     u_grad = torch.autograd.grad(\n",
    "#     #         u_pred, g, torch.ones_like(u_pred), retain_graph=True, create_graph=True\n",
    "#     #     )[0]\n",
    "#     #     u_lap = torch.autograd.grad(\n",
    "#     #         u_grad, g, torch.ones_like(u_grad), create_graph=True\n",
    "#     #     )[0].sum(dim=1, keepdim=True)\n",
    "        \n",
    "#     #     # Residual form of the Helmholtz equation\n",
    "#     #     residual = u_lap + self.k2 * u_pred\n",
    "#     #     return self.loss(residual, torch.zeros_like(residual))\n",
    "#     #     THIS IS VERY STUPID OMFG LET'S TRY SOMETHING ELSE CUZ THE GODS HATE ME AND LIFE IS AN ENDLESS PIT OF DESPAIR THAT IS VOID OF ALL HAPPINESS\n",
    "    \n",
    "#     def residual_loss(self, xtrain, fhat):\n",
    "#         g = xtrain.clone()\n",
    "#         g.requires_grad = True\n",
    "#         u_pred = self.forward(g)\n",
    "        \n",
    "#         # Compute gradients\n",
    "#         u_grad = torch.autograd.grad(\n",
    "#             u_pred, g, torch.ones_like(u_pred), create_graph=True, retain_graph=True\n",
    "#         )[0]\n",
    "#         u_xx = torch.autograd.grad(\n",
    "#             u_grad[:, [0]], g, torch.ones_like(u_grad[:, [0]]), create_graph=True\n",
    "#         )[0][:, [0]]\n",
    "#         u_tt = torch.autograd.grad(\n",
    "#             u_grad[:, [1]], g, torch.ones_like(u_grad[:, [1]]), create_graph=True\n",
    "#         )[0][:, [1]]\n",
    "        \n",
    "#         # Residual calculation\n",
    "#         residual = u_xx + u_tt + self.k2 * u_pred - fhat\n",
    "#         return torch.mean(residual**2)  # Mean squared error for the residual\n",
    "\n",
    "\n",
    "#     def total_loss(self, xtrain, utrain):\n",
    "#         alpha_female = 10.0\n",
    "#         data_loss = self.loss_fn(xtrain, utrain)  # Match observed data\n",
    "#         physics_loss = self.residual_loss(xtrain)  # Enforce governing equations\n",
    "#         return data_loss + alpha_female* physics_loss\n",
    "\n",
    "#     def train_model(self, xtrain, utrain, epochs=10000):\n",
    "#         for epoch in tqdm(range(epochs)):\n",
    "#             self.optimizer.zero_grad()\n",
    "#             loss = self.total_loss(xtrain, utrain)\n",
    "#             loss.backward()\n",
    "#             self.optimizer.step()\n",
    "            \n",
    "#             # Logging\n",
    "#             if epoch % 1000 == 0:\n",
    "#                 print(\n",
    "#                     f\"Epoch {epoch}, Loss {loss.item()}, \"\n",
    "#                     f\"k^2 (Wave Number Squared) {self.k2.item()}\"\n",
    "#                 )"
   ]
  },
  {
   "cell_type": "code",
   "execution_count": 48,
   "metadata": {},
   "outputs": [],
   "source": [
    "# again.\n",
    "\n",
    "class PINN(nn.Module):\n",
    "    def __init__(self, input_size, hidden_size, output_size):\n",
    "        super(PINN, self).__init__()\n",
    "        self.layers = nn.ModuleList(\n",
    "            [\n",
    "                nn.Linear(input_size if i == 0 else hidden_size, hidden_size)\n",
    "                if i % 2 == 0\n",
    "                else nn.Tanh()\n",
    "                for i in range(10)\n",
    "            ]\n",
    "        )\n",
    "        self.layers.append(nn.Linear(hidden_size, output_size))\n",
    "        \n",
    "        # Trainable parameter for the wave number squared (k^2)\n",
    "        self.k2 = nn.Parameter(torch.tensor([1.0], dtype=torch.float32, device=\"cuda\")) \n",
    "\n",
    "        \n",
    "\n",
    "        # Optimizer\n",
    "        self.optimizer = torch.optim.Adam(self.parameters(), lr=1e-2)  # Larger learning rate\n",
    "        self.scheduler = torch.optim.lr_scheduler.StepLR(self.optimizer, step_size=1000, gamma=0.9)  # Scheduler to reduce LR\n",
    "\n",
    "        self.loss = nn.MSELoss()\n",
    "\n",
    "    def forward(self, x):\n",
    "        for layer in self.layers:\n",
    "            x = layer(x)\n",
    "        return x\n",
    "\n",
    "    def loss_fn(self, x, u):\n",
    "        u_pred = self.forward(x)\n",
    "        return self.loss(u_pred, u)\n",
    "\n",
    "    def residual_loss(self, xtrain, fhat):\n",
    "        # Physics-informed loss based on the Helmholtz equation\n",
    "        g = xtrain.clone()\n",
    "        g.requires_grad = True\n",
    "        u_pred = self.forward(g)\n",
    "        \n",
    "        # Compute the gradients for second derivatives (u_xx and u_tt)\n",
    "        u_grad = torch.autograd.grad(\n",
    "            u_pred, g, torch.ones_like(u_pred), create_graph=True, retain_graph=True\n",
    "        )[0]\n",
    "        u_xx = torch.autograd.grad(\n",
    "            u_grad[:, [0]], g, torch.ones_like(u_grad[:, [0]]), create_graph=True\n",
    "        )[0][:, [0]]\n",
    "        u_tt = torch.autograd.grad(\n",
    "            u_grad[:, [1]], g, torch.ones_like(u_grad[:, [1]]), create_graph=True\n",
    "        )[0][:, [1]]\n",
    "        \n",
    "        # Residual calculation for Helmholtz equation: u_xx + u_tt + k^2 * u = fhat\n",
    "        residual = u_xx + u_tt + self.k2 * u_pred - fhat\n",
    "        return torch.mean(residual**2)  # Mean squared error for the residual\n",
    "\n",
    "    def total_loss(self, xtrain, utrain):\n",
    "        alpha_female = 10.0\n",
    "        data_loss = self.loss_fn(xtrain, utrain)  # Match observed data\n",
    "        physics_loss = self.residual_loss(xtrain, utrain)  # Enforce governing equations\n",
    "        return data_loss + alpha_female * physics_loss\n",
    "\n",
    "    def train_model(self, xtrain, utrain, epochs=10000):\n",
    "        for epoch in tqdm(range(epochs)):\n",
    "            self.optimizer.zero_grad()\n",
    "            loss = self.total_loss(xtrain, utrain)\n",
    "            loss.backward()\n",
    "            self.optimizer.step()\n",
    "            self.scheduler.step()\n",
    "            \n",
    "            # Logging\n",
    "            if epoch % 1000 == 0:\n",
    "                print(\n",
    "                    f\"Epoch {epoch}, Loss {loss.item()}, \"\n",
    "                    f\"k^2 (Wave Number Squared) {self.k2.item()}\"\n",
    "                )"
   ]
  },
  {
   "cell_type": "code",
   "execution_count": 31,
   "metadata": {},
   "outputs": [],
   "source": [
    "u = np.load(\"/home/pes1ug22am100/Documents/Research and Experimentation/NoisyICML/pinns-inverse/Helmholtz/helmholtz_solution.npy\")  # BOB THE BUILDER\n",
    "x = np.load(\"/home/pes1ug22am100/Documents/Research and Experimentation/NoisyICML/pinns-inverse/Helmholtz/x_coordinate.npy\")  # BOB THE BUILDER\n",
    "t = np.load(\"/home/pes1ug22am100/Documents/Research and Experimentation/NoisyICML/pinns-inverse/Helmholtz/t_coordinate.npy\")[:-1]"
   ]
  },
  {
   "cell_type": "code",
   "execution_count": 32,
   "metadata": {},
   "outputs": [],
   "source": [
    "x = torch.tensor(x, dtype=torch.float32)\n",
    "t = torch.tensor(t, dtype=torch.float32)\n",
    "u = torch.tensor(u, dtype=torch.float32)"
   ]
  },
  {
   "cell_type": "code",
   "execution_count": 33,
   "metadata": {},
   "outputs": [],
   "source": [
    "X, T = np.meshgrid(x, t)\n",
    "xtrue = np.hstack((X.flatten()[:, None], T.flatten()[:, None]))\n",
    "utrue = u.flatten()[:, None]"
   ]
  },
  {
   "cell_type": "code",
   "execution_count": 49,
   "metadata": {},
   "outputs": [
    {
     "name": "stderr",
     "output_type": "stream",
     "text": [
      "/tmp/ipykernel_8086/181255850.py:7: UserWarning: To copy construct from a tensor, it is recommended to use sourceTensor.clone().detach() or sourceTensor.clone().detach().requires_grad_(True), rather than torch.tensor(sourceTensor).\n",
      "  Utrain = torch.tensor(utrain, dtype=torch.float32, device=device)\n",
      "  0%|          | 28/10000 [00:00<01:12, 138.04it/s]"
     ]
    },
    {
     "name": "stdout",
     "output_type": "stream",
     "text": [
      "Epoch 0, Loss 3.0966885089874268, k^2 (Wave Number Squared) 0.9900000095367432\n"
     ]
    },
    {
     "name": "stderr",
     "output_type": "stream",
     "text": [
      " 10%|█         | 1033/10000 [00:06<00:53, 166.85it/s]"
     ]
    },
    {
     "name": "stdout",
     "output_type": "stream",
     "text": [
      "Epoch 1000, Loss 2.555675983428955, k^2 (Wave Number Squared) 0.9473637342453003\n"
     ]
    },
    {
     "name": "stderr",
     "output_type": "stream",
     "text": [
      " 20%|██        | 2032/10000 [00:12<00:51, 154.76it/s]"
     ]
    },
    {
     "name": "stdout",
     "output_type": "stream",
     "text": [
      "Epoch 2000, Loss 2.570323944091797, k^2 (Wave Number Squared) 0.9548729658126831\n"
     ]
    },
    {
     "name": "stderr",
     "output_type": "stream",
     "text": [
      " 30%|███       | 3029/10000 [00:18<00:42, 164.76it/s]"
     ]
    },
    {
     "name": "stdout",
     "output_type": "stream",
     "text": [
      "Epoch 3000, Loss 2.5157828330993652, k^2 (Wave Number Squared) 0.8604449033737183\n"
     ]
    },
    {
     "name": "stderr",
     "output_type": "stream",
     "text": [
      " 40%|████      | 4027/10000 [00:25<00:37, 160.81it/s]"
     ]
    },
    {
     "name": "stdout",
     "output_type": "stream",
     "text": [
      "Epoch 4000, Loss 2.460891008377075, k^2 (Wave Number Squared) 0.4319142997264862\n"
     ]
    },
    {
     "name": "stderr",
     "output_type": "stream",
     "text": [
      " 50%|█████     | 5028/10000 [00:31<00:31, 156.83it/s]"
     ]
    },
    {
     "name": "stdout",
     "output_type": "stream",
     "text": [
      "Epoch 5000, Loss 2.2911429405212402, k^2 (Wave Number Squared) 0.5596798658370972\n"
     ]
    },
    {
     "name": "stderr",
     "output_type": "stream",
     "text": [
      " 60%|██████    | 6030/10000 [00:37<00:25, 154.75it/s]"
     ]
    },
    {
     "name": "stdout",
     "output_type": "stream",
     "text": [
      "Epoch 6000, Loss 2.2435576915740967, k^2 (Wave Number Squared) 1.1487218141555786\n"
     ]
    },
    {
     "name": "stderr",
     "output_type": "stream",
     "text": [
      " 70%|███████   | 7032/10000 [00:43<00:18, 164.80it/s]"
     ]
    },
    {
     "name": "stdout",
     "output_type": "stream",
     "text": [
      "Epoch 7000, Loss 2.1244864463806152, k^2 (Wave Number Squared) 0.774658739566803\n"
     ]
    },
    {
     "name": "stderr",
     "output_type": "stream",
     "text": [
      " 80%|████████  | 8021/10000 [00:50<00:12, 161.03it/s]"
     ]
    },
    {
     "name": "stdout",
     "output_type": "stream",
     "text": [
      "Epoch 8000, Loss 2.123868227005005, k^2 (Wave Number Squared) 0.7574743032455444\n"
     ]
    },
    {
     "name": "stderr",
     "output_type": "stream",
     "text": [
      " 90%|█████████ | 9022/10000 [00:56<00:06, 160.65it/s]"
     ]
    },
    {
     "name": "stdout",
     "output_type": "stream",
     "text": [
      "Epoch 9000, Loss 2.097508430480957, k^2 (Wave Number Squared) 1.1546372175216675\n"
     ]
    },
    {
     "name": "stderr",
     "output_type": "stream",
     "text": [
      "100%|██████████| 10000/10000 [01:02<00:00, 159.62it/s]\n"
     ]
    }
   ],
   "source": [
    "idx = np.random.choice(xtrue.shape[0], 10000, replace=False)\n",
    "xtrain = xtrue[idx, :]\n",
    "utrain = utrue[idx, :]\n",
    "\n",
    "device = torch.device(\"cuda\")\n",
    "Xtrain = torch.tensor(xtrain, dtype=torch.float32, device=device)\n",
    "Utrain = torch.tensor(utrain, dtype=torch.float32, device=device)\n",
    "\n",
    "model = PINN(input_size=2, hidden_size=20, output_size=1).to(device)\n",
    "model.train_model(Xtrain, Utrain, epochs=10000)\n"
   ]
  },
  {
   "cell_type": "code",
   "execution_count": null,
   "metadata": {},
   "outputs": [],
   "source": []
  }
 ],
 "metadata": {
  "kernelspec": {
   "display_name": "Python 3",
   "language": "python",
   "name": "python3"
  },
  "language_info": {
   "codemirror_mode": {
    "name": "ipython",
    "version": 3
   },
   "file_extension": ".py",
   "mimetype": "text/x-python",
   "name": "python",
   "nbconvert_exporter": "python",
   "pygments_lexer": "ipython3",
   "version": "3.10.12"
  }
 },
 "nbformat": 4,
 "nbformat_minor": 2
}
