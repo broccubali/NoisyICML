{
  "cells": [
    {
      "cell_type": "code",
      "execution_count": 1,
      "metadata": {
        "id": "f9vMyZv_hQfo"
      },
      "outputs": [],
      "source": [
        "import torch\n",
        "import torch.nn as nn\n",
        "import numpy as np\n",
        "from scipy.io import loadmat\n",
        "from tqdm import tqdm\n",
        "from pyDOE import lhs\n",
        "import torch.optim as optim"
      ]
    },
    {
      "cell_type": "code",
      "execution_count": null,
      "metadata": {
        "colab": {
          "base_uri": "https://localhost:8080/"
        },
        "id": "IEKFoTdQhoRO",
        "outputId": "d9290768-edda-4960-ff04-09159059c311"
      },
      "outputs": [
        {
          "name": "stdout",
          "output_type": "stream",
          "text": [
            "Cloning into 'NoisyICML'...\n",
            "remote: Enumerating objects: 320, done.\u001b[K\n",
            "remote: Counting objects: 100% (118/118), done.\u001b[K\n",
            "remote: Compressing objects: 100% (102/102), done.\u001b[K\n",
            "remote: Total 320 (delta 49), reused 64 (delta 16), pack-reused 202 (from 1)\u001b[K\n",
            "Receiving objects: 100% (320/320), 88.75 MiB | 32.71 MiB/s, done.\n",
            "Resolving deltas: 100% (142/142), done.\n"
          ]
        }
      ],
      "source": [
        "# !git clone https://github.com/broccubali/NoisyICML.git"
      ]
    },
    {
      "cell_type": "code",
      "execution_count": 31,
      "metadata": {
        "id": "unXI9qdOhQfw"
      },
      "outputs": [],
      "source": [
        "# again.\n",
        "import torch.nn.init as init\n",
        "class PINN(nn.Module):\n",
        "    def __init__(self, input_size, hidden_size, output_size):\n",
        "        super(PINN, self).__init__()\n",
        "        self.layers = nn.ModuleList(\n",
        "            [\n",
        "                nn.Linear(input_size if i == 0 else hidden_size, hidden_size)\n",
        "                if i % 2 == 0\n",
        "                else nn.SiLU()\n",
        "                for i in range(10)\n",
        "            ]\n",
        "        )\n",
        "        self.layers.append(nn.Linear(hidden_size, output_size))\n",
        "        for layer in self.layers:\n",
        "            if isinstance(layer, nn.Linear):\n",
        "                init.xavier_normal_(layer.weight)  # Initialize weights\n",
        "                if layer.bias is not None:  # Initialize biases to zero\n",
        "                    init.zeros_(layer.bias)\n",
        "\n",
        "        # Trainable parameter for the wave number squared (k^2)\n",
        "        self.a1 = nn.Parameter(torch.tensor([0.7], dtype=torch.float32, device=\"cuda\"))\n",
        "        self.a2 = nn.Parameter(torch.tensor([0.7], dtype=torch.float32, device=\"cuda\"))\n",
        "        # Optimizer\n",
        "        self.optimizer = torch.optim.Adam(self.parameters(), lr=1e-2)\n",
        "        self.loss = nn.MSELoss()\n",
        "\n",
        "    def forward(self, x):\n",
        "        for layer in self.layers:\n",
        "            x = layer(x)\n",
        "        return x\n",
        "\n",
        "    def loss_fn(self, train, u):\n",
        "        u_pred = self.forward(train)\n",
        "        return self.loss(u_pred, u)\n",
        "\n",
        "    def residual_loss(self, train):\n",
        "        # Physics-informed loss based on the Helmholtz equation\n",
        "        g = train.clone()\n",
        "        g.requires_grad = True\n",
        "        u_pred = self.forward(g)\n",
        "\n",
        "        # Compute the gradients for second derivatives (u_xx and u_tt)\n",
        "        u_diff = torch.autograd.grad(\n",
        "            u_pred, g, torch.ones_like(u_pred), create_graph=True, retain_graph=True\n",
        "        )[0]\n",
        "        u_x = u_diff[:, 0]\n",
        "        u_y = u_diff[:, 1]\n",
        "        u_xx = torch.autograd.grad(\n",
        "            u_x, g, torch.ones_like(g[:, 0]), create_graph=True\n",
        "        )[0][:, 0] # <---- Similar modification to select the second derivative with respect to X\n",
        "        u_yy = torch.autograd.grad(\n",
        "            u_y, g, torch.ones_like(g[:, 1]), create_graph=True\n",
        "        )[0][:, 1]\n",
        "        k2 = (self.a1**2 + self.a2**2) * np.pi**2\n",
        "        fhat = -k2 * torch.sin(self.a1 * np.pi * g[:, 0]) * torch.sin(self.a2 * np.pi * g[:, 1])\n",
        "        residual = u_xx + u_yy + ((k2) * u_pred) - fhat # <---- Also fixed k to k2\n",
        "        return self.loss(residual, torch.zeros_like(residual))\n",
        "\n",
        "    def total_loss(self, train, utrain,):\n",
        "        alpha_female = 10.0\n",
        "        data_loss = self.loss_fn(train, utrain)  # Match observed data\n",
        "        physics_loss = self.residual_loss(train)  # Enforce governing equations\n",
        "        return data_loss, physics_loss, data_loss + physics_loss\n",
        "\n",
        "\n",
        "    def train_model(self, train, utrain, epochs=100):\n",
        "        self.train()\n",
        "        for epoch in tqdm(range(epochs)):\n",
        "            self.optimizer.zero_grad()\n",
        "            a, b, loss = self.total_loss(train, utrain)\n",
        "            loss.backward()\n",
        "            self.optimizer.step()\n",
        "            if epoch % 100 == 0:\n",
        "                print(f\"Epoch {epoch+1}/{epochs}, Loss = {loss.item()}, a1 = {self.a1.item()}, a2 = {self.a2.item()}, Data Loss = {a.item()}, Physics Loss = {b.item()}\")"
      ]
    },
    {
      "cell_type": "code",
      "execution_count": 39,
      "metadata": {
        "colab": {
          "base_uri": "https://localhost:8080/"
        },
        "id": "APsuh05yy2P0",
        "outputId": "950008ba-16bc-4874-8a51-81210d70cc50"
      },
      "outputs": [
        {
          "data": {
            "text/plain": [
              "(101, 101)"
            ]
          },
          "execution_count": 39,
          "metadata": {},
          "output_type": "execute_result"
        }
      ],
      "source": [
        "x = np.linspace(-1, 1, 101)\n",
        "y = np.linspace(-1, 1, 101)\n",
        "X, Y = np.meshgrid(x, y)\n",
        "\n",
        "# True wave numbers\n",
        "a1_true, a2_true = 1.0, 1.0\n",
        "u_true = np.sin(a1_true * np.pi * X) * np.sin(a2_true * np.pi * Y)  # True solution\n",
        "u_true.shape"
      ]
    },
    {
      "cell_type": "code",
      "execution_count": 54,
      "metadata": {
        "colab": {
          "base_uri": "https://localhost:8080/"
        },
        "id": "kv22c3ljyBff",
        "outputId": "6badc3a7-4672-4928-9d57-70db7db64d82"
      },
      "outputs": [
        {
          "data": {
            "text/plain": [
              "torch.Size([10201, 2])"
            ]
          },
          "execution_count": 54,
          "metadata": {},
          "output_type": "execute_result"
        }
      ],
      "source": [
        "device = \"cuda\"\n",
        "X_train = torch.tensor(X.flatten(), dtype=torch.float32).to(device)\n",
        "Y_train = torch.tensor(Y.flatten(), dtype=torch.float32).to(device)\n",
        "U_train = torch.tensor(u_true.T.flatten(), dtype=torch.float32).to(device)\n",
        "train = torch.stack((X_train, Y_train), dim=1).to(device)\n",
        "train.shape"
      ]
    },
    {
      "cell_type": "code",
      "execution_count": 55,
      "metadata": {
        "id": "GkpNJO49FHdB"
      },
      "outputs": [],
      "source": [
        "# idx = np.random.choice(train.shape[0], 10000, replace=False)\n",
        "# train = train[idx, :]\n",
        "# U_train = U_train[idx, None]\n",
        "# train.shape, U_train.shape"
      ]
    },
    {
      "cell_type": "code",
      "execution_count": 56,
      "metadata": {
        "colab": {
          "base_uri": "https://localhost:8080/",
          "height": 418
        },
        "id": "zgUTBBjShQf1",
        "outputId": "a4c3e099-25f8-494a-fd49-49f3586d85cf"
      },
      "outputs": [
        {
          "name": "stderr",
          "output_type": "stream",
          "text": [
            "  0%|          | 0/2000 [00:00<?, ?it/s]/home/shusrith/projects/torch/lib/python3.12/site-packages/torch/nn/modules/loss.py:608: UserWarning: Using a target size (torch.Size([10201])) that is different to the input size (torch.Size([10201, 1])). This will likely lead to incorrect results due to broadcasting. Please ensure they have the same size.\n",
            "  return F.mse_loss(input, target, reduction=self.reduction)\n",
            "  0%|          | 3/2000 [00:00<01:30, 22.19it/s]"
          ]
        },
        {
          "name": "stdout",
          "output_type": "stream",
          "text": [
            "Epoch 1/2000, Loss = 0.2451324462890625, a1 = 0.005596859380602837, a2 = 0.2331409603357315, Data Loss = 0.24507784843444824, Physics Loss = 5.459379099193029e-05\n"
          ]
        },
        {
          "name": "stderr",
          "output_type": "stream",
          "text": [
            "  5%|▌         | 104/2000 [00:06<01:57, 16.16it/s]"
          ]
        },
        {
          "name": "stdout",
          "output_type": "stream",
          "text": [
            "Epoch 101/2000, Loss = 0.24507403373718262, a1 = 0.00027282972587272525, a2 = 0.15129773318767548, Data Loss = 0.24507401883602142, Physics Loss = 8.548785679352022e-09\n"
          ]
        },
        {
          "name": "stderr",
          "output_type": "stream",
          "text": [
            " 10%|█         | 204/2000 [00:12<01:51, 16.15it/s]"
          ]
        },
        {
          "name": "stdout",
          "output_type": "stream",
          "text": [
            "Epoch 201/2000, Loss = 0.24507401883602142, a1 = 0.00014651946548838168, a2 = 0.15128807723522186, Data Loss = 0.24507401883602142, Physics Loss = 4.0242471577300876e-09\n"
          ]
        },
        {
          "name": "stderr",
          "output_type": "stream",
          "text": [
            " 15%|█▌        | 304/2000 [00:18<01:44, 16.16it/s]"
          ]
        },
        {
          "name": "stdout",
          "output_type": "stream",
          "text": [
            "Epoch 301/2000, Loss = 0.24507401883602142, a1 = 0.00015262117085512727, a2 = 0.15128807723522186, Data Loss = 0.24507401883602142, Physics Loss = 2.1907555769473674e-09\n"
          ]
        },
        {
          "name": "stderr",
          "output_type": "stream",
          "text": [
            " 20%|██        | 404/2000 [00:25<01:38, 16.16it/s]"
          ]
        },
        {
          "name": "stdout",
          "output_type": "stream",
          "text": [
            "Epoch 401/2000, Loss = 0.24507401883602142, a1 = 0.00015603392967022955, a2 = 0.15128807723522186, Data Loss = 0.24507401883602142, Physics Loss = 1.0858990373563415e-09\n"
          ]
        },
        {
          "name": "stderr",
          "output_type": "stream",
          "text": [
            " 25%|██▌       | 504/2000 [00:31<01:32, 16.16it/s]"
          ]
        },
        {
          "name": "stdout",
          "output_type": "stream",
          "text": [
            "Epoch 501/2000, Loss = 0.24507401883602142, a1 = 0.00015776885265950114, a2 = 0.15128807723522186, Data Loss = 0.24507401883602142, Physics Loss = 5.042314898950906e-10\n"
          ]
        },
        {
          "name": "stderr",
          "output_type": "stream",
          "text": [
            " 30%|███       | 604/2000 [00:37<01:26, 16.16it/s]"
          ]
        },
        {
          "name": "stdout",
          "output_type": "stream",
          "text": [
            "Epoch 601/2000, Loss = 0.24507401883602142, a1 = 0.00015865360910538584, a2 = 0.15128807723522186, Data Loss = 0.24507401883602142, Physics Loss = 2.338781945887547e-10\n"
          ]
        },
        {
          "name": "stderr",
          "output_type": "stream",
          "text": [
            " 35%|███▍      | 697/2000 [00:43<01:21, 16.03it/s]\n"
          ]
        },
        {
          "ename": "KeyboardInterrupt",
          "evalue": "",
          "output_type": "error",
          "traceback": [
            "\u001b[0;31m---------------------------------------------------------------------------\u001b[0m",
            "\u001b[0;31mKeyboardInterrupt\u001b[0m                         Traceback (most recent call last)",
            "Cell \u001b[0;32mIn[56], line 2\u001b[0m\n\u001b[1;32m      1\u001b[0m model \u001b[38;5;241m=\u001b[39m PINN(input_size\u001b[38;5;241m=\u001b[39m\u001b[38;5;241m2\u001b[39m, hidden_size\u001b[38;5;241m=\u001b[39m\u001b[38;5;241m50\u001b[39m, output_size\u001b[38;5;241m=\u001b[39m\u001b[38;5;241m1\u001b[39m)\u001b[38;5;241m.\u001b[39mto(device)\n\u001b[0;32m----> 2\u001b[0m \u001b[43mmodel\u001b[49m\u001b[38;5;241;43m.\u001b[39;49m\u001b[43mtrain_model\u001b[49m\u001b[43m(\u001b[49m\u001b[43mtrain\u001b[49m\u001b[43m,\u001b[49m\u001b[43m \u001b[49m\u001b[43mU_train\u001b[49m\u001b[43m,\u001b[49m\u001b[43m \u001b[49m\u001b[43mepochs\u001b[49m\u001b[38;5;241;43m=\u001b[39;49m\u001b[38;5;241;43m2000\u001b[39;49m\u001b[43m)\u001b[49m\n",
            "Cell \u001b[0;32mIn[31], line 71\u001b[0m, in \u001b[0;36mPINN.train_model\u001b[0;34m(self, train, utrain, epochs)\u001b[0m\n\u001b[1;32m     69\u001b[0m \u001b[38;5;28;01mfor\u001b[39;00m epoch \u001b[38;5;129;01min\u001b[39;00m tqdm(\u001b[38;5;28mrange\u001b[39m(epochs)):\n\u001b[1;32m     70\u001b[0m     \u001b[38;5;28mself\u001b[39m\u001b[38;5;241m.\u001b[39moptimizer\u001b[38;5;241m.\u001b[39mzero_grad()\n\u001b[0;32m---> 71\u001b[0m     a, b, loss \u001b[38;5;241m=\u001b[39m \u001b[38;5;28;43mself\u001b[39;49m\u001b[38;5;241;43m.\u001b[39;49m\u001b[43mtotal_loss\u001b[49m\u001b[43m(\u001b[49m\u001b[43mtrain\u001b[49m\u001b[43m,\u001b[49m\u001b[43m \u001b[49m\u001b[43mutrain\u001b[49m\u001b[43m)\u001b[49m\n\u001b[1;32m     72\u001b[0m     loss\u001b[38;5;241m.\u001b[39mbackward()\n\u001b[1;32m     73\u001b[0m     \u001b[38;5;28mself\u001b[39m\u001b[38;5;241m.\u001b[39moptimizer\u001b[38;5;241m.\u001b[39mstep()\n",
            "Cell \u001b[0;32mIn[31], line 63\u001b[0m, in \u001b[0;36mPINN.total_loss\u001b[0;34m(self, train, utrain)\u001b[0m\n\u001b[1;32m     61\u001b[0m alpha_female \u001b[38;5;241m=\u001b[39m \u001b[38;5;241m10.0\u001b[39m\n\u001b[1;32m     62\u001b[0m data_loss \u001b[38;5;241m=\u001b[39m \u001b[38;5;28mself\u001b[39m\u001b[38;5;241m.\u001b[39mloss_fn(train, utrain)  \u001b[38;5;66;03m# Match observed data\u001b[39;00m\n\u001b[0;32m---> 63\u001b[0m physics_loss \u001b[38;5;241m=\u001b[39m \u001b[38;5;28;43mself\u001b[39;49m\u001b[38;5;241;43m.\u001b[39;49m\u001b[43mresidual_loss\u001b[49m\u001b[43m(\u001b[49m\u001b[43mtrain\u001b[49m\u001b[43m)\u001b[49m  \u001b[38;5;66;03m# Enforce governing equations\u001b[39;00m\n\u001b[1;32m     64\u001b[0m \u001b[38;5;28;01mreturn\u001b[39;00m data_loss, physics_loss, data_loss \u001b[38;5;241m+\u001b[39m physics_loss\n",
            "Cell \u001b[0;32mIn[31], line 49\u001b[0m, in \u001b[0;36mPINN.residual_loss\u001b[0;34m(self, train)\u001b[0m\n\u001b[1;32m     47\u001b[0m u_x \u001b[38;5;241m=\u001b[39m u_diff[:, \u001b[38;5;241m0\u001b[39m]\n\u001b[1;32m     48\u001b[0m u_y \u001b[38;5;241m=\u001b[39m u_diff[:, \u001b[38;5;241m1\u001b[39m]\n\u001b[0;32m---> 49\u001b[0m u_xx \u001b[38;5;241m=\u001b[39m \u001b[43mtorch\u001b[49m\u001b[38;5;241;43m.\u001b[39;49m\u001b[43mautograd\u001b[49m\u001b[38;5;241;43m.\u001b[39;49m\u001b[43mgrad\u001b[49m\u001b[43m(\u001b[49m\n\u001b[1;32m     50\u001b[0m \u001b[43m    \u001b[49m\u001b[43mu_x\u001b[49m\u001b[43m,\u001b[49m\u001b[43m \u001b[49m\u001b[43mg\u001b[49m\u001b[43m,\u001b[49m\u001b[43m \u001b[49m\u001b[43mtorch\u001b[49m\u001b[38;5;241;43m.\u001b[39;49m\u001b[43mones_like\u001b[49m\u001b[43m(\u001b[49m\u001b[43mg\u001b[49m\u001b[43m[\u001b[49m\u001b[43m:\u001b[49m\u001b[43m,\u001b[49m\u001b[43m \u001b[49m\u001b[38;5;241;43m0\u001b[39;49m\u001b[43m]\u001b[49m\u001b[43m)\u001b[49m\u001b[43m,\u001b[49m\u001b[43m \u001b[49m\u001b[43mcreate_graph\u001b[49m\u001b[38;5;241;43m=\u001b[39;49m\u001b[38;5;28;43;01mTrue\u001b[39;49;00m\n\u001b[1;32m     51\u001b[0m \u001b[43m\u001b[49m\u001b[43m)\u001b[49m[\u001b[38;5;241m0\u001b[39m][:, \u001b[38;5;241m0\u001b[39m] \u001b[38;5;66;03m# <---- Similar modification to select the second derivative with respect to X\u001b[39;00m\n\u001b[1;32m     52\u001b[0m u_yy \u001b[38;5;241m=\u001b[39m torch\u001b[38;5;241m.\u001b[39mautograd\u001b[38;5;241m.\u001b[39mgrad(\n\u001b[1;32m     53\u001b[0m     u_y, g, torch\u001b[38;5;241m.\u001b[39mones_like(g[:, \u001b[38;5;241m1\u001b[39m]), create_graph\u001b[38;5;241m=\u001b[39m\u001b[38;5;28;01mTrue\u001b[39;00m\n\u001b[1;32m     54\u001b[0m )[\u001b[38;5;241m0\u001b[39m][:, \u001b[38;5;241m1\u001b[39m]\n\u001b[1;32m     55\u001b[0m k2 \u001b[38;5;241m=\u001b[39m (\u001b[38;5;28mself\u001b[39m\u001b[38;5;241m.\u001b[39ma1\u001b[38;5;241m*\u001b[39m\u001b[38;5;241m*\u001b[39m\u001b[38;5;241m2\u001b[39m \u001b[38;5;241m+\u001b[39m \u001b[38;5;28mself\u001b[39m\u001b[38;5;241m.\u001b[39ma2\u001b[38;5;241m*\u001b[39m\u001b[38;5;241m*\u001b[39m\u001b[38;5;241m2\u001b[39m) \u001b[38;5;241m*\u001b[39m np\u001b[38;5;241m.\u001b[39mpi\u001b[38;5;241m*\u001b[39m\u001b[38;5;241m*\u001b[39m\u001b[38;5;241m2\u001b[39m\n",
            "File \u001b[0;32m~/projects/torch/lib/python3.12/site-packages/torch/autograd/__init__.py:496\u001b[0m, in \u001b[0;36mgrad\u001b[0;34m(outputs, inputs, grad_outputs, retain_graph, create_graph, only_inputs, allow_unused, is_grads_batched, materialize_grads)\u001b[0m\n\u001b[1;32m    492\u001b[0m     result \u001b[38;5;241m=\u001b[39m _vmap_internals\u001b[38;5;241m.\u001b[39m_vmap(vjp, \u001b[38;5;241m0\u001b[39m, \u001b[38;5;241m0\u001b[39m, allow_none_pass_through\u001b[38;5;241m=\u001b[39m\u001b[38;5;28;01mTrue\u001b[39;00m)(\n\u001b[1;32m    493\u001b[0m         grad_outputs_\n\u001b[1;32m    494\u001b[0m     )\n\u001b[1;32m    495\u001b[0m \u001b[38;5;28;01melse\u001b[39;00m:\n\u001b[0;32m--> 496\u001b[0m     result \u001b[38;5;241m=\u001b[39m \u001b[43m_engine_run_backward\u001b[49m\u001b[43m(\u001b[49m\n\u001b[1;32m    497\u001b[0m \u001b[43m        \u001b[49m\u001b[43moutputs\u001b[49m\u001b[43m,\u001b[49m\n\u001b[1;32m    498\u001b[0m \u001b[43m        \u001b[49m\u001b[43mgrad_outputs_\u001b[49m\u001b[43m,\u001b[49m\n\u001b[1;32m    499\u001b[0m \u001b[43m        \u001b[49m\u001b[43mretain_graph\u001b[49m\u001b[43m,\u001b[49m\n\u001b[1;32m    500\u001b[0m \u001b[43m        \u001b[49m\u001b[43mcreate_graph\u001b[49m\u001b[43m,\u001b[49m\n\u001b[1;32m    501\u001b[0m \u001b[43m        \u001b[49m\u001b[43minputs\u001b[49m\u001b[43m,\u001b[49m\n\u001b[1;32m    502\u001b[0m \u001b[43m        \u001b[49m\u001b[43mallow_unused\u001b[49m\u001b[43m,\u001b[49m\n\u001b[1;32m    503\u001b[0m \u001b[43m        \u001b[49m\u001b[43maccumulate_grad\u001b[49m\u001b[38;5;241;43m=\u001b[39;49m\u001b[38;5;28;43;01mFalse\u001b[39;49;00m\u001b[43m,\u001b[49m\n\u001b[1;32m    504\u001b[0m \u001b[43m    \u001b[49m\u001b[43m)\u001b[49m\n\u001b[1;32m    505\u001b[0m \u001b[38;5;28;01mif\u001b[39;00m materialize_grads:\n\u001b[1;32m    506\u001b[0m     \u001b[38;5;28;01mif\u001b[39;00m \u001b[38;5;28many\u001b[39m(\n\u001b[1;32m    507\u001b[0m         result[i] \u001b[38;5;129;01mis\u001b[39;00m \u001b[38;5;28;01mNone\u001b[39;00m \u001b[38;5;129;01mand\u001b[39;00m \u001b[38;5;129;01mnot\u001b[39;00m is_tensor_like(inputs[i])\n\u001b[1;32m    508\u001b[0m         \u001b[38;5;28;01mfor\u001b[39;00m i \u001b[38;5;129;01min\u001b[39;00m \u001b[38;5;28mrange\u001b[39m(\u001b[38;5;28mlen\u001b[39m(inputs))\n\u001b[1;32m    509\u001b[0m     ):\n",
            "File \u001b[0;32m~/projects/torch/lib/python3.12/site-packages/torch/autograd/graph.py:825\u001b[0m, in \u001b[0;36m_engine_run_backward\u001b[0;34m(t_outputs, *args, **kwargs)\u001b[0m\n\u001b[1;32m    823\u001b[0m     unregister_hooks \u001b[38;5;241m=\u001b[39m _register_logging_hooks_on_whole_graph(t_outputs)\n\u001b[1;32m    824\u001b[0m \u001b[38;5;28;01mtry\u001b[39;00m:\n\u001b[0;32m--> 825\u001b[0m     \u001b[38;5;28;01mreturn\u001b[39;00m \u001b[43mVariable\u001b[49m\u001b[38;5;241;43m.\u001b[39;49m\u001b[43m_execution_engine\u001b[49m\u001b[38;5;241;43m.\u001b[39;49m\u001b[43mrun_backward\u001b[49m\u001b[43m(\u001b[49m\u001b[43m  \u001b[49m\u001b[38;5;66;43;03m# Calls into the C++ engine to run the backward pass\u001b[39;49;00m\n\u001b[1;32m    826\u001b[0m \u001b[43m        \u001b[49m\u001b[43mt_outputs\u001b[49m\u001b[43m,\u001b[49m\u001b[43m \u001b[49m\u001b[38;5;241;43m*\u001b[39;49m\u001b[43margs\u001b[49m\u001b[43m,\u001b[49m\u001b[43m \u001b[49m\u001b[38;5;241;43m*\u001b[39;49m\u001b[38;5;241;43m*\u001b[39;49m\u001b[43mkwargs\u001b[49m\n\u001b[1;32m    827\u001b[0m \u001b[43m    \u001b[49m\u001b[43m)\u001b[49m  \u001b[38;5;66;03m# Calls into the C++ engine to run the backward pass\u001b[39;00m\n\u001b[1;32m    828\u001b[0m \u001b[38;5;28;01mfinally\u001b[39;00m:\n\u001b[1;32m    829\u001b[0m     \u001b[38;5;28;01mif\u001b[39;00m attach_logging_hooks:\n",
            "\u001b[0;31mKeyboardInterrupt\u001b[0m: "
          ]
        }
      ],
      "source": [
        "model = PINN(input_size=2, hidden_size=50, output_size=1).to(device)\n",
        "model.train_model(train, U_train, epochs=2000)"
      ]
    },
    {
      "cell_type": "code",
      "execution_count": 48,
      "metadata": {},
      "outputs": [
        {
          "data": {
            "image/png": "[encoded data removed]",
            "text/plain": [
              "<Figure size 640x480 with 2 Axes>"
            ]
          },
          "metadata": {},
          "output_type": "display_data"
        }
      ],
      "source": [
        "import matplotlib.pyplot as plt\n",
        "\n",
        "with torch.no_grad():\n",
        "    u_pred = model(train).cpu().numpy()\n",
        "plt.imshow(u_pred.reshape(101, 101), cmap=\"viridis\")\n",
        "plt.colorbar()\n",
        "plt.show()"
      ]
    },
    {
      "cell_type": "code",
      "execution_count": 45,
      "metadata": {},
      "outputs": [
        {
          "data": {
            "image/png": "[encoded data removed]",
            "text/plain": [
              "<Figure size 640x480 with 2 Axes>"
            ]
          },
          "metadata": {},
          "output_type": "display_data"
        }
      ],
      "source": [
        "plt.imshow(u_true, cmap=\"viridis\")\n",
        "plt.colorbar()\n",
        "plt.show()"
      ]
    },
    {
      "cell_type": "code",
      "execution_count": 46,
      "metadata": {
        "id": "cFN4T8RfhQf2"
      },
      "outputs": [],
      "source": [
        "import matplotlib.pyplot as plt\n",
        "import numpy as np\n",
        "from matplotlib import animation\n",
        "from tqdm import tqdm\n",
        "\n",
        "def visualize_helmholtz(X, Y, data, path):\n",
        "    \"\"\"\n",
        "    Visualizes the 2D Helmholtz solution as an animation.\n",
        "\n",
        "    Args:\n",
        "    X, Y : Meshgrid coordinates for plotting\n",
        "    data : 3D NumPy array [time, X, Y] representing the solution at different times\n",
        "    path : Path to save the animation\n",
        "    \"\"\"\n",
        "    fig, ax = plt.subplots()\n",
        "\n",
        "    # Use contour plot or imshow\n",
        "    im = ax.imshow(data[0], extent=[X.min(), X.max(), Y.min(), Y.max()],\n",
        "                   origin='lower', cmap='viridis', animated=True)\n",
        "    ax.set_xlabel(\"X-axis\")\n",
        "    ax.set_ylabel(\"Y-axis\")\n",
        "    ax.set_title(\"Helmholtz Equation Solution Animation\")\n",
        "\n",
        "    def update(frame):\n",
        "        im.set_array(data[frame])  # Update solution at new time step\n",
        "        return [im]\n",
        "\n",
        "    ani = animation.FuncAnimation(fig, update, frames=len(data), interval=50, blit=False)\n",
        "\n",
        "    writer = animation.PillowWriter(fps=15, bitrate=1800)\n",
        "    ani.save(path, writer=writer)\n",
        "    plt.close(fig)\n",
        "\n",
        "# Example Usage\n",
        "# Generate example Helmholtz solution data\n",
        "# x = np.linspace(-1, 1, 100)\n",
        "# y = np.linspace(-1, 1, 100)\n",
        "# X, Y = np.meshgrid(x, y)\n",
        "\n",
        "# # Example 2D Helmholtz wave solution evolving over time\n",
        "# time_steps = 50\n",
        "# a1, a2 = 1, 1\n",
        "# data = np.array([np.sin(a1 * np.pi * X) * np.sin(a2 * np.pi * Y) * np.cos(2 * np.pi * t / time_steps)\n",
        "#                  for t in range(time_steps)])\n",
        "\n",
        "# Visualize and save\n",
        "# visualize_helmholtz(X, Y, data, \"helmholtz_solution.gif\")"
      ]
    },
    {
      "cell_type": "code",
      "execution_count": 13,
      "metadata": {},
      "outputs": [
        {
          "data": {
            "text/plain": [
              "((32, 32), (1024, 1024), (1024, 1024))"
            ]
          },
          "execution_count": 13,
          "metadata": {},
          "output_type": "execute_result"
        }
      ],
      "source": [
        "x, y = X_train[:1024], Y_train[:1024]\n",
        "X, Y = np.meshgrid(x.cpu().numpy(), y.cpu().numpy())\n",
        "a = torch.stack((x, y), dim=1).to(device)\n",
        "u = model(a).detach().cpu().nump\n",
        "\n",
        "\n",
        "y().reshape(32, 32)\n",
        "u.shape, X.shape, Y.shape"
      ]
    },
    {
      "cell_type": "code",
      "execution_count": 50,
      "metadata": {},
      "outputs": [
        {
          "data": {
            "text/plain": [
              "(50, 101, 101)"
            ]
          },
          "execution_count": 50,
          "metadata": {},
          "output_type": "execute_result"
        }
      ],
      "source": [
        "# Create 50 time steps by adding small variations (e.g., sine wave modulation)\n",
        "t = np.linspace(0, 2 * np.pi, 50)\n",
        "u_time_series = np.array([u_true * np.sin(ti) for ti in t])\n",
        "# u_time_series = u_time_series[:, :, :]\n",
        "u_time_series.shape"
      ]
    },
    {
      "cell_type": "code",
      "execution_count": 51,
      "metadata": {},
      "outputs": [],
      "source": [
        "visualize_helmholtz(X, Y, u_time_series, \"helmholtz_solution.gif\")"
      ]
    }
  ],
  "metadata": {
    "accelerator": "GPU",
    "colab": {
      "gpuType": "T4",
      "provenance": []
    },
    "kernelspec": {
      "display_name": "Python (myenv)",
      "language": "python",
      "name": "torch"
    },
    "language_info": {
      "codemirror_mode": {
        "name": "ipython",
        "version": 3
      },
      "file_extension": ".py",
      "mimetype": "text/x-python",
      "name": "python",
      "nbconvert_exporter": "python",
      "pygments_lexer": "ipython3",
      "version": "3.12.3"
    }
  },
  "nbformat": 4,
  "nbformat_minor": 0
}
