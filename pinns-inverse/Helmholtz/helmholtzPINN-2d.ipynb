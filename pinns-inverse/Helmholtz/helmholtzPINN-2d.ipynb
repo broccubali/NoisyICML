{
  "cells": [
    {
      "cell_type": "code",
      "execution_count": 1,
      "metadata": {
        "id": "f9vMyZv_hQfo"
      },
      "outputs": [],
      "source": [
        "import torch\n",
        "import torch.nn as nn\n",
        "import numpy as np\n",
        "from scipy.io import loadmat\n",
        "from tqdm import tqdm\n",
        "from pyDOE import lhs\n",
        "import torch.optim as optim"
      ]
    },
    {
      "cell_type": "code",
      "execution_count": null,
      "metadata": {
        "colab": {
          "base_uri": "https://localhost:8080/"
        },
        "id": "IEKFoTdQhoRO",
        "outputId": "d9290768-edda-4960-ff04-09159059c311"
      },
      "outputs": [
        {
          "name": "stdout",
          "output_type": "stream",
          "text": [
            "Cloning into 'NoisyICML'...\n",
            "remote: Enumerating objects: 320, done.\u001b[K\n",
            "remote: Counting objects: 100% (118/118), done.\u001b[K\n",
            "remote: Compressing objects: 100% (102/102), done.\u001b[K\n",
            "remote: Total 320 (delta 49), reused 64 (delta 16), pack-reused 202 (from 1)\u001b[K\n",
            "Receiving objects: 100% (320/320), 88.75 MiB | 32.71 MiB/s, done.\n",
            "Resolving deltas: 100% (142/142), done.\n"
          ]
        }
      ],
      "source": [
        "# !git clone https://github.com/broccubali/NoisyICML.git"
      ]
    },
    {
      "cell_type": "code",
      "execution_count": 137,
      "metadata": {
        "id": "unXI9qdOhQfw"
      },
      "outputs": [],
      "source": [
        "# again.\n",
        "import torch.nn.init as init\n",
        "class PINN(nn.Module):\n",
        "    def __init__(self, input_size, hidden_size, output_size):\n",
        "        super(PINN, self).__init__()\n",
        "        self.layers = nn.ModuleList(\n",
        "            [\n",
        "                nn.Linear(input_size if i == 0 else hidden_size, hidden_size)\n",
        "                if i % 2 == 0\n",
        "                else nn.SiLU()\n",
        "                for i in range(10)\n",
        "            ]\n",
        "        )\n",
        "        self.layers.append(nn.Linear(hidden_size, output_size))\n",
        "        for layer in self.layers:\n",
        "            if isinstance(layer, nn.Linear):\n",
        "                init.xavier_normal_(layer.weight)  # Initialize weights\n",
        "                if layer.bias is not None:  # Initialize biases to zero\n",
        "                    init.zeros_(layer.bias)\n",
        "\n",
        "        # Trainable parameter for the wave number squared (k^2)\n",
        "        self.k = nn.Parameter(torch.tensor([5], dtype=torch.float32, device=\"cuda\"))\n",
        "\n",
        "        self.optimizer = optim.Adam(self.parameters(), lr=1e-2)\n",
        "        self.loss = nn.MSELoss()\n",
        "        # self.k = 5\n",
        "\n",
        "    def forward(self, x):\n",
        "        for layer in self.layers:\n",
        "            x = layer(x)\n",
        "        return x\n",
        "\n",
        "    def loss_fn(self, train, u):\n",
        "        u_pred = self.forward(train)\n",
        "        return self.loss(u_pred, u)\n",
        "\n",
        "    def residual_loss(self, train):\n",
        "        # Physics-informed loss based on the Helmholtz equation\n",
        "        g = train.clone()\n",
        "        g.requires_grad = True\n",
        "        u_pred = self.forward(g)\n",
        "\n",
        "        # Compute the gradients for second derivatives (u_xx and u_tt)\n",
        "        u_x = torch.autograd.grad(\n",
        "            u_pred, g, torch.ones_like(u_pred), create_graph=True, retain_graph=True\n",
        "        )[0]\n",
        "        u_xx = torch.autograd.grad(\n",
        "            u_x, g, torch.ones_like(g), create_graph=True\n",
        "        )[0] # <---- Similar modification to select the second derivative with respect to X\n",
        "\n",
        "        k2 = (self.k**2) * np.pi**2\n",
        "        fhat = -k2 * torch.sin(self.k * np.pi * g) \n",
        "        residual = u_xx  + ((self.k) * u_pred) - fhat # <---- Also fixed k to k2\n",
        "        return self.loss(residual, torch.zeros_like(residual))\n",
        "\n",
        "    def total_loss(self, train, utrain,):\n",
        "        alpha_female = 0.5\n",
        "        data_loss = self.loss_fn(train, utrain)  # Match observed data\n",
        "        physics_loss = self.residual_loss(train)  # Enforce governing equations\n",
        "        return data_loss, physics_loss, data_loss + physics_loss\n",
        "\n",
        "    def train_model(self, train, utrain, epochs=100):\n",
        "        self.train()\n",
        "        for epoch in tqdm(range(epochs)):\n",
        "            self.optimizer.zero_grad()\n",
        "            data_loss, physics_loss, loss = self.total_loss(train, utrain)\n",
        "            loss.backward()\n",
        "            torch.nn.utils.clip_grad_norm_(self.parameters(), max_norm=10.0)  # Adjust max_norm if needed\n",
        "            self.optimizer.step()\n",
        "            if epoch % 200 == 0:\n",
        "                print(f\"Epoch {epoch+1}/{epochs}, Loss = {loss.item()}, Data Loss = {data_loss.item()}, Physics Loss = {physics_loss.item()}, k = {self.k.item()}\")"
      ]
    },
    {
      "cell_type": "code",
      "execution_count": 145,
      "metadata": {
        "colab": {
          "base_uri": "https://localhost:8080/"
        },
        "id": "APsuh05yy2P0",
        "outputId": "950008ba-16bc-4874-8a51-81210d70cc50"
      },
      "outputs": [
        {
          "data": {
            "text/plain": [
              "(1024,)"
            ]
          },
          "execution_count": 145,
          "metadata": {},
          "output_type": "execute_result"
        }
      ],
      "source": [
        "x = np.linspace(-1, 1, 1024)\n",
        "k = 5\n",
        "u_true = np.sin(k * np.pi * x) \n",
        "u_true.shape"
      ]
    },
    {
      "cell_type": "code",
      "execution_count": 146,
      "metadata": {},
      "outputs": [],
      "source": [
        "from scipy.stats import skewnorm\n",
        "noise = skewnorm.rvs(a=1, scale=0.2, size=1024)\n",
        "u_train = u_true + noise"
      ]
    },
    {
      "cell_type": "code",
      "execution_count": 151,
      "metadata": {
        "colab": {
          "base_uri": "https://localhost:8080/"
        },
        "id": "kv22c3ljyBff",
        "outputId": "6badc3a7-4672-4928-9d57-70db7db64d82"
      },
      "outputs": [
        {
          "data": {
            "text/plain": [
              "(torch.Size([1024, 1]), torch.Size([1024, 1]))"
            ]
          },
          "execution_count": 151,
          "metadata": {},
          "output_type": "execute_result"
        }
      ],
      "source": [
        "device = \"cuda\"\n",
        "X_train = torch.tensor(x, dtype=torch.float32).to(device).unsqueeze(1)\n",
        "U_train = torch.tensor(u_train, dtype=torch.float32).to(device).unsqueeze(1)\n",
        "X_train.shape, U_train.shape"
      ]
    },
    {
      "cell_type": "code",
      "execution_count": 148,
      "metadata": {
        "id": "GkpNJO49FHdB"
      },
      "outputs": [
        {
          "data": {
            "text/plain": [
              "(torch.Size([512, 1]), torch.Size([512, 1]))"
            ]
          },
          "execution_count": 148,
          "metadata": {},
          "output_type": "execute_result"
        }
      ],
      "source": [
        "idx = np.random.choice(X_train.shape[0], 512, replace=False)\n",
        "X_train = X_train[idx]\n",
        "U_train = U_train[idx]\n",
        "X_train.shape, U_train.shape"
      ]
    },
    {
      "cell_type": "code",
      "execution_count": 149,
      "metadata": {
        "colab": {
          "base_uri": "https://localhost:8080/",
          "height": 418
        },
        "id": "zgUTBBjShQf1",
        "outputId": "a4c3e099-25f8-494a-fd49-49f3586d85cf"
      },
      "outputs": [
        {
          "name": "stderr",
          "output_type": "stream",
          "text": [
            "  0%|          | 47/20000 [00:00<01:26, 230.49it/s]"
          ]
        },
        {
          "name": "stdout",
          "output_type": "stream",
          "text": [
            "Epoch 1/20000, Loss = 30415.5546875, Data Loss = 0.5483824610710144, Physics Loss = 30415.005859375\n"
          ]
        },
        {
          "name": "stderr",
          "output_type": "stream",
          "text": [
            "  1%|          | 234/20000 [00:01<01:33, 211.32it/s]"
          ]
        },
        {
          "name": "stdout",
          "output_type": "stream",
          "text": [
            "Epoch 201/20000, Loss = 7928.20703125, Data Loss = 45.09920883178711, Physics Loss = 7883.10791015625\n"
          ]
        },
        {
          "name": "stderr",
          "output_type": "stream",
          "text": [
            "  2%|▏         | 421/20000 [00:01<01:30, 216.94it/s]"
          ]
        },
        {
          "name": "stdout",
          "output_type": "stream",
          "text": [
            "Epoch 401/20000, Loss = 5444.62890625, Data Loss = 63.27410888671875, Physics Loss = 5381.35498046875\n"
          ]
        },
        {
          "name": "stderr",
          "output_type": "stream",
          "text": [
            "  3%|▎         | 643/20000 [00:03<01:29, 215.95it/s]"
          ]
        },
        {
          "name": "stdout",
          "output_type": "stream",
          "text": [
            "Epoch 601/20000, Loss = 1544.885498046875, Data Loss = 97.83383178710938, Physics Loss = 1447.0516357421875\n"
          ]
        },
        {
          "name": "stderr",
          "output_type": "stream",
          "text": [
            "  4%|▍         | 836/20000 [00:03<01:20, 237.30it/s]"
          ]
        },
        {
          "name": "stdout",
          "output_type": "stream",
          "text": [
            "Epoch 801/20000, Loss = 619.535400390625, Data Loss = 105.83802795410156, Physics Loss = 513.6973876953125\n"
          ]
        },
        {
          "name": "stderr",
          "output_type": "stream",
          "text": [
            "  5%|▌         | 1044/20000 [00:04<01:28, 214.99it/s]"
          ]
        },
        {
          "name": "stdout",
          "output_type": "stream",
          "text": [
            "Epoch 1001/20000, Loss = 481.2346496582031, Data Loss = 46.16176986694336, Physics Loss = 435.0728759765625\n"
          ]
        },
        {
          "name": "stderr",
          "output_type": "stream",
          "text": [
            "  6%|▌         | 1216/20000 [00:05<01:22, 227.44it/s]"
          ]
        },
        {
          "name": "stdout",
          "output_type": "stream",
          "text": [
            "Epoch 1201/20000, Loss = 602.7183837890625, Data Loss = 31.944442749023438, Physics Loss = 570.77392578125\n"
          ]
        },
        {
          "name": "stderr",
          "output_type": "stream",
          "text": [
            "  7%|▋         | 1421/20000 [00:06<01:27, 211.67it/s]"
          ]
        },
        {
          "name": "stdout",
          "output_type": "stream",
          "text": [
            "Epoch 1401/20000, Loss = 406.2353820800781, Data Loss = 19.93918228149414, Physics Loss = 386.29620361328125\n"
          ]
        },
        {
          "name": "stderr",
          "output_type": "stream",
          "text": [
            "  8%|▊         | 1626/20000 [00:07<01:26, 211.37it/s]"
          ]
        },
        {
          "name": "stdout",
          "output_type": "stream",
          "text": [
            "Epoch 1601/20000, Loss = 239.059814453125, Data Loss = 15.23870849609375, Physics Loss = 223.82110595703125\n"
          ]
        },
        {
          "name": "stderr",
          "output_type": "stream",
          "text": [
            "  9%|▉         | 1821/20000 [00:08<01:30, 200.77it/s]"
          ]
        },
        {
          "name": "stdout",
          "output_type": "stream",
          "text": [
            "Epoch 1801/20000, Loss = 143.22161865234375, Data Loss = 12.600767135620117, Physics Loss = 130.620849609375\n"
          ]
        },
        {
          "name": "stderr",
          "output_type": "stream",
          "text": [
            " 10%|█         | 2023/20000 [00:09<01:28, 202.75it/s]"
          ]
        },
        {
          "name": "stdout",
          "output_type": "stream",
          "text": [
            "Epoch 2001/20000, Loss = 212.42518615722656, Data Loss = 11.632978439331055, Physics Loss = 200.79220581054688\n"
          ]
        },
        {
          "name": "stderr",
          "output_type": "stream",
          "text": [
            " 11%|█         | 2218/20000 [00:10<01:28, 200.56it/s]"
          ]
        },
        {
          "name": "stdout",
          "output_type": "stream",
          "text": [
            "Epoch 2201/20000, Loss = 244.1116943359375, Data Loss = 10.685694694519043, Physics Loss = 233.42599487304688\n"
          ]
        },
        {
          "name": "stderr",
          "output_type": "stream",
          "text": [
            " 12%|█▏        | 2441/20000 [00:11<01:20, 218.68it/s]"
          ]
        },
        {
          "name": "stdout",
          "output_type": "stream",
          "text": [
            "Epoch 2401/20000, Loss = 194.33624267578125, Data Loss = 9.91470718383789, Physics Loss = 184.42153930664062\n"
          ]
        },
        {
          "name": "stderr",
          "output_type": "stream",
          "text": [
            " 13%|█▎        | 2640/20000 [00:12<01:23, 208.57it/s]"
          ]
        },
        {
          "name": "stdout",
          "output_type": "stream",
          "text": [
            "Epoch 2601/20000, Loss = 70.88264465332031, Data Loss = 9.373910903930664, Physics Loss = 61.50873565673828\n"
          ]
        },
        {
          "name": "stderr",
          "output_type": "stream",
          "text": [
            " 14%|█▍        | 2841/20000 [00:13<01:23, 205.59it/s]"
          ]
        },
        {
          "name": "stdout",
          "output_type": "stream",
          "text": [
            "Epoch 2801/20000, Loss = 206.3766632080078, Data Loss = 8.665536880493164, Physics Loss = 197.71112060546875\n"
          ]
        },
        {
          "name": "stderr",
          "output_type": "stream",
          "text": [
            " 15%|█▌        | 3044/20000 [00:14<01:15, 224.43it/s]"
          ]
        },
        {
          "name": "stdout",
          "output_type": "stream",
          "text": [
            "Epoch 3001/20000, Loss = 121.4084243774414, Data Loss = 7.65915584564209, Physics Loss = 113.749267578125\n"
          ]
        },
        {
          "name": "stderr",
          "output_type": "stream",
          "text": [
            " 16%|█▌        | 3242/20000 [00:15<01:08, 245.56it/s]"
          ]
        },
        {
          "name": "stdout",
          "output_type": "stream",
          "text": [
            "Epoch 3201/20000, Loss = 155.33392333984375, Data Loss = 7.780243396759033, Physics Loss = 147.55368041992188\n"
          ]
        },
        {
          "name": "stderr",
          "output_type": "stream",
          "text": [
            " 17%|█▋        | 3440/20000 [00:15<01:13, 224.89it/s]"
          ]
        },
        {
          "name": "stdout",
          "output_type": "stream",
          "text": [
            "Epoch 3401/20000, Loss = 141.9626922607422, Data Loss = 7.029402256011963, Physics Loss = 134.93328857421875\n"
          ]
        },
        {
          "name": "stderr",
          "output_type": "stream",
          "text": [
            " 18%|█▊        | 3628/20000 [00:16<01:11, 228.39it/s]"
          ]
        },
        {
          "name": "stdout",
          "output_type": "stream",
          "text": [
            "Epoch 3601/20000, Loss = 101.67874908447266, Data Loss = 6.133711814880371, Physics Loss = 95.54503631591797\n"
          ]
        },
        {
          "name": "stderr",
          "output_type": "stream",
          "text": [
            " 19%|█▉        | 3834/20000 [00:17<01:13, 221.14it/s]"
          ]
        },
        {
          "name": "stdout",
          "output_type": "stream",
          "text": [
            "Epoch 3801/20000, Loss = 120.26859283447266, Data Loss = 5.229649543762207, Physics Loss = 115.0389404296875\n"
          ]
        },
        {
          "name": "stderr",
          "output_type": "stream",
          "text": [
            " 20%|██        | 4033/20000 [00:18<01:08, 234.30it/s]"
          ]
        },
        {
          "name": "stdout",
          "output_type": "stream",
          "text": [
            "Epoch 4001/20000, Loss = 226.3389434814453, Data Loss = 4.108109474182129, Physics Loss = 222.2308349609375\n"
          ]
        },
        {
          "name": "stderr",
          "output_type": "stream",
          "text": [
            " 21%|██        | 4229/20000 [00:19<01:10, 224.06it/s]"
          ]
        },
        {
          "name": "stdout",
          "output_type": "stream",
          "text": [
            "Epoch 4201/20000, Loss = 495.3608703613281, Data Loss = 4.437583923339844, Physics Loss = 490.92327880859375\n"
          ]
        },
        {
          "name": "stderr",
          "output_type": "stream",
          "text": [
            " 22%|██▏       | 4441/20000 [00:20<01:11, 217.71it/s]"
          ]
        },
        {
          "name": "stdout",
          "output_type": "stream",
          "text": [
            "Epoch 4401/20000, Loss = 60.883975982666016, Data Loss = 4.381840229034424, Physics Loss = 56.50213623046875\n"
          ]
        },
        {
          "name": "stderr",
          "output_type": "stream",
          "text": [
            " 23%|██▎       | 4641/20000 [00:21<01:14, 205.31it/s]"
          ]
        },
        {
          "name": "stdout",
          "output_type": "stream",
          "text": [
            "Epoch 4601/20000, Loss = 91.26435852050781, Data Loss = 3.6028027534484863, Physics Loss = 87.66155242919922\n"
          ]
        },
        {
          "name": "stderr",
          "output_type": "stream",
          "text": [
            " 24%|██▍       | 4837/20000 [00:22<01:02, 243.91it/s]"
          ]
        },
        {
          "name": "stdout",
          "output_type": "stream",
          "text": [
            "Epoch 4801/20000, Loss = 51.25105285644531, Data Loss = 2.9875755310058594, Physics Loss = 48.26347732543945\n"
          ]
        },
        {
          "name": "stderr",
          "output_type": "stream",
          "text": [
            " 25%|██▌       | 5046/20000 [00:23<01:06, 224.56it/s]"
          ]
        },
        {
          "name": "stdout",
          "output_type": "stream",
          "text": [
            "Epoch 5001/20000, Loss = 188.97421264648438, Data Loss = 2.344940662384033, Physics Loss = 186.6292724609375\n"
          ]
        },
        {
          "name": "stderr",
          "output_type": "stream",
          "text": [
            " 26%|██▌       | 5238/20000 [00:23<01:04, 228.65it/s]"
          ]
        },
        {
          "name": "stdout",
          "output_type": "stream",
          "text": [
            "Epoch 5201/20000, Loss = 366.0375671386719, Data Loss = 2.340341329574585, Physics Loss = 363.6972351074219\n"
          ]
        },
        {
          "name": "stderr",
          "output_type": "stream",
          "text": [
            " 27%|██▋       | 5430/20000 [00:24<01:03, 229.19it/s]"
          ]
        },
        {
          "name": "stdout",
          "output_type": "stream",
          "text": [
            "Epoch 5401/20000, Loss = 466.7425842285156, Data Loss = 2.658489227294922, Physics Loss = 464.0841064453125\n"
          ]
        },
        {
          "name": "stderr",
          "output_type": "stream",
          "text": [
            " 28%|██▊       | 5632/20000 [00:25<01:08, 208.81it/s]"
          ]
        },
        {
          "name": "stdout",
          "output_type": "stream",
          "text": [
            "Epoch 5601/20000, Loss = 146.4387664794922, Data Loss = 2.4508001804351807, Physics Loss = 143.9879608154297\n"
          ]
        },
        {
          "name": "stderr",
          "output_type": "stream",
          "text": [
            " 29%|██▉       | 5841/20000 [00:26<01:01, 231.76it/s]"
          ]
        },
        {
          "name": "stdout",
          "output_type": "stream",
          "text": [
            "Epoch 5801/20000, Loss = 178.53564453125, Data Loss = 1.7842731475830078, Physics Loss = 176.75137329101562\n"
          ]
        },
        {
          "name": "stderr",
          "output_type": "stream",
          "text": [
            " 30%|███       | 6033/20000 [00:27<00:59, 235.85it/s]"
          ]
        },
        {
          "name": "stdout",
          "output_type": "stream",
          "text": [
            "Epoch 6001/20000, Loss = 118.94993591308594, Data Loss = 1.4621080160140991, Physics Loss = 117.48783111572266\n"
          ]
        },
        {
          "name": "stderr",
          "output_type": "stream",
          "text": [
            " 31%|███       | 6242/20000 [00:28<01:03, 218.08it/s]"
          ]
        },
        {
          "name": "stdout",
          "output_type": "stream",
          "text": [
            "Epoch 6201/20000, Loss = 100.71589660644531, Data Loss = 1.1835310459136963, Physics Loss = 99.53236389160156\n"
          ]
        },
        {
          "name": "stderr",
          "output_type": "stream",
          "text": [
            " 32%|███▏      | 6427/20000 [00:29<00:58, 233.36it/s]"
          ]
        },
        {
          "name": "stdout",
          "output_type": "stream",
          "text": [
            "Epoch 6401/20000, Loss = 80.62857818603516, Data Loss = 0.9557474851608276, Physics Loss = 79.6728286743164\n"
          ]
        },
        {
          "name": "stderr",
          "output_type": "stream",
          "text": [
            " 33%|███▎      | 6642/20000 [00:30<01:01, 218.77it/s]"
          ]
        },
        {
          "name": "stdout",
          "output_type": "stream",
          "text": [
            "Epoch 6601/20000, Loss = 41.824195861816406, Data Loss = 0.6622440814971924, Physics Loss = 41.16195297241211\n"
          ]
        },
        {
          "name": "stderr",
          "output_type": "stream",
          "text": [
            " 34%|███▍      | 6827/20000 [00:31<00:56, 231.39it/s]"
          ]
        },
        {
          "name": "stdout",
          "output_type": "stream",
          "text": [
            "Epoch 6801/20000, Loss = 165.09750366210938, Data Loss = 0.8299287557601929, Physics Loss = 164.267578125\n"
          ]
        },
        {
          "name": "stderr",
          "output_type": "stream",
          "text": [
            " 35%|███▌      | 7027/20000 [00:32<01:03, 204.05it/s]"
          ]
        },
        {
          "name": "stdout",
          "output_type": "stream",
          "text": [
            "Epoch 7001/20000, Loss = 126.21908569335938, Data Loss = 0.6856365203857422, Physics Loss = 125.533447265625\n"
          ]
        },
        {
          "name": "stderr",
          "output_type": "stream",
          "text": [
            " 36%|███▌      | 7241/20000 [00:33<00:56, 227.11it/s]"
          ]
        },
        {
          "name": "stdout",
          "output_type": "stream",
          "text": [
            "Epoch 7201/20000, Loss = 155.12498474121094, Data Loss = 1.3252429962158203, Physics Loss = 153.79974365234375\n"
          ]
        },
        {
          "name": "stderr",
          "output_type": "stream",
          "text": [
            " 37%|███▋      | 7435/20000 [00:33<00:54, 231.94it/s]"
          ]
        },
        {
          "name": "stdout",
          "output_type": "stream",
          "text": [
            "Epoch 7401/20000, Loss = 369.4864501953125, Data Loss = 0.5781484246253967, Physics Loss = 368.9082946777344\n"
          ]
        },
        {
          "name": "stderr",
          "output_type": "stream",
          "text": [
            " 38%|███▊      | 7639/20000 [00:34<00:57, 215.85it/s]"
          ]
        },
        {
          "name": "stdout",
          "output_type": "stream",
          "text": [
            "Epoch 7601/20000, Loss = 290.55096435546875, Data Loss = 0.2236177921295166, Physics Loss = 290.32733154296875\n"
          ]
        },
        {
          "name": "stderr",
          "output_type": "stream",
          "text": [
            " 39%|███▉      | 7839/20000 [00:35<00:56, 215.12it/s]"
          ]
        },
        {
          "name": "stdout",
          "output_type": "stream",
          "text": [
            "Epoch 7801/20000, Loss = 49.408206939697266, Data Loss = 0.2806798815727234, Physics Loss = 49.127525329589844\n"
          ]
        },
        {
          "name": "stderr",
          "output_type": "stream",
          "text": [
            " 40%|████      | 8039/20000 [00:36<00:55, 216.76it/s]"
          ]
        },
        {
          "name": "stdout",
          "output_type": "stream",
          "text": [
            "Epoch 8001/20000, Loss = 84.34935760498047, Data Loss = 0.34633684158325195, Physics Loss = 84.00302124023438\n"
          ]
        },
        {
          "name": "stderr",
          "output_type": "stream",
          "text": [
            " 41%|████      | 8224/20000 [00:37<00:52, 224.13it/s]"
          ]
        },
        {
          "name": "stdout",
          "output_type": "stream",
          "text": [
            "Epoch 8201/20000, Loss = 84.9509048461914, Data Loss = 0.3303329348564148, Physics Loss = 84.62057495117188\n"
          ]
        },
        {
          "name": "stderr",
          "output_type": "stream",
          "text": [
            " 42%|████▏     | 8431/20000 [00:38<00:54, 211.01it/s]"
          ]
        },
        {
          "name": "stdout",
          "output_type": "stream",
          "text": [
            "Epoch 8401/20000, Loss = 76.75247955322266, Data Loss = 0.30310794711112976, Physics Loss = 76.44937133789062\n"
          ]
        },
        {
          "name": "stderr",
          "output_type": "stream",
          "text": [
            " 43%|████▎     | 8640/20000 [00:39<00:55, 206.53it/s]"
          ]
        },
        {
          "name": "stdout",
          "output_type": "stream",
          "text": [
            "Epoch 8601/20000, Loss = 54.863399505615234, Data Loss = 0.2184186577796936, Physics Loss = 54.644981384277344\n"
          ]
        },
        {
          "name": "stderr",
          "output_type": "stream",
          "text": [
            " 44%|████▍     | 8838/20000 [00:40<00:45, 244.34it/s]"
          ]
        },
        {
          "name": "stdout",
          "output_type": "stream",
          "text": [
            "Epoch 8801/20000, Loss = 66.5391616821289, Data Loss = 0.053185831755399704, Physics Loss = 66.48597717285156\n"
          ]
        },
        {
          "name": "stderr",
          "output_type": "stream",
          "text": [
            " 45%|████▌     | 9027/20000 [00:41<00:48, 225.95it/s]"
          ]
        },
        {
          "name": "stdout",
          "output_type": "stream",
          "text": [
            "Epoch 9001/20000, Loss = 96.43644714355469, Data Loss = 0.12917748093605042, Physics Loss = 96.30726623535156\n"
          ]
        },
        {
          "name": "stderr",
          "output_type": "stream",
          "text": [
            " 46%|████▌     | 9246/20000 [00:42<00:44, 240.60it/s]"
          ]
        },
        {
          "name": "stdout",
          "output_type": "stream",
          "text": [
            "Epoch 9201/20000, Loss = 56.094852447509766, Data Loss = 0.19729672372341156, Physics Loss = 55.89755630493164\n"
          ]
        },
        {
          "name": "stderr",
          "output_type": "stream",
          "text": [
            " 47%|████▋     | 9448/20000 [00:43<00:42, 248.89it/s]"
          ]
        },
        {
          "name": "stdout",
          "output_type": "stream",
          "text": [
            "Epoch 9401/20000, Loss = 59.61990737915039, Data Loss = 0.14611651003360748, Physics Loss = 59.47378921508789\n"
          ]
        },
        {
          "name": "stderr",
          "output_type": "stream",
          "text": [
            " 48%|████▊     | 9634/20000 [00:43<00:51, 200.60it/s]"
          ]
        },
        {
          "name": "stdout",
          "output_type": "stream",
          "text": [
            "Epoch 9601/20000, Loss = 37.31773376464844, Data Loss = 0.12779021263122559, Physics Loss = 37.189945220947266\n"
          ]
        },
        {
          "name": "stderr",
          "output_type": "stream",
          "text": [
            " 49%|████▉     | 9826/20000 [00:44<00:49, 204.49it/s]"
          ]
        },
        {
          "name": "stdout",
          "output_type": "stream",
          "text": [
            "Epoch 9801/20000, Loss = 89.32627868652344, Data Loss = 0.0602409690618515, Physics Loss = 89.26603698730469\n"
          ]
        },
        {
          "name": "stderr",
          "output_type": "stream",
          "text": [
            " 50%|█████     | 10028/20000 [00:45<00:43, 230.54it/s]"
          ]
        },
        {
          "name": "stdout",
          "output_type": "stream",
          "text": [
            "Epoch 10001/20000, Loss = 60.469459533691406, Data Loss = 0.0648830458521843, Physics Loss = 60.40457534790039\n"
          ]
        },
        {
          "name": "stderr",
          "output_type": "stream",
          "text": [
            " 51%|█████     | 10237/20000 [00:46<00:45, 215.63it/s]"
          ]
        },
        {
          "name": "stdout",
          "output_type": "stream",
          "text": [
            "Epoch 10201/20000, Loss = 56.08433151245117, Data Loss = 0.0673704519867897, Physics Loss = 56.01696014404297\n"
          ]
        },
        {
          "name": "stderr",
          "output_type": "stream",
          "text": [
            " 52%|█████▏    | 10448/20000 [00:47<00:40, 236.13it/s]"
          ]
        },
        {
          "name": "stdout",
          "output_type": "stream",
          "text": [
            "Epoch 10401/20000, Loss = 74.6259765625, Data Loss = 0.05436963215470314, Physics Loss = 74.57160949707031\n"
          ]
        },
        {
          "name": "stderr",
          "output_type": "stream",
          "text": [
            " 53%|█████▎    | 10646/20000 [00:48<00:39, 236.28it/s]"
          ]
        },
        {
          "name": "stdout",
          "output_type": "stream",
          "text": [
            "Epoch 10601/20000, Loss = 85.09478759765625, Data Loss = 0.14184701442718506, Physics Loss = 84.95294189453125\n"
          ]
        },
        {
          "name": "stderr",
          "output_type": "stream",
          "text": [
            " 54%|█████▍    | 10834/20000 [00:49<00:41, 223.21it/s]"
          ]
        },
        {
          "name": "stdout",
          "output_type": "stream",
          "text": [
            "Epoch 10801/20000, Loss = 82.23201751708984, Data Loss = 0.0759517028927803, Physics Loss = 82.15606689453125\n"
          ]
        },
        {
          "name": "stderr",
          "output_type": "stream",
          "text": [
            " 55%|█████▌    | 11023/20000 [00:50<00:38, 232.02it/s]"
          ]
        },
        {
          "name": "stdout",
          "output_type": "stream",
          "text": [
            "Epoch 11001/20000, Loss = 60.2752799987793, Data Loss = 0.08409303426742554, Physics Loss = 60.19118881225586\n"
          ]
        },
        {
          "name": "stderr",
          "output_type": "stream",
          "text": [
            " 56%|█████▌    | 11231/20000 [00:51<00:39, 221.28it/s]"
          ]
        },
        {
          "name": "stdout",
          "output_type": "stream",
          "text": [
            "Epoch 11201/20000, Loss = 33.47418975830078, Data Loss = 0.052515286952257156, Physics Loss = 33.42167282104492\n"
          ]
        },
        {
          "name": "stderr",
          "output_type": "stream",
          "text": [
            " 57%|█████▋    | 11430/20000 [00:52<00:36, 233.02it/s]"
          ]
        },
        {
          "name": "stdout",
          "output_type": "stream",
          "text": [
            "Epoch 11401/20000, Loss = 32.874053955078125, Data Loss = 0.04549606144428253, Physics Loss = 32.828556060791016\n"
          ]
        },
        {
          "name": "stderr",
          "output_type": "stream",
          "text": [
            " 58%|█████▊    | 11644/20000 [00:53<00:36, 226.01it/s]"
          ]
        },
        {
          "name": "stdout",
          "output_type": "stream",
          "text": [
            "Epoch 11601/20000, Loss = 47.893028259277344, Data Loss = 0.04134192690253258, Physics Loss = 47.8516845703125\n"
          ]
        },
        {
          "name": "stderr",
          "output_type": "stream",
          "text": [
            " 59%|█████▉    | 11840/20000 [00:54<00:40, 199.82it/s]"
          ]
        },
        {
          "name": "stdout",
          "output_type": "stream",
          "text": [
            "Epoch 11801/20000, Loss = 53.99615478515625, Data Loss = 0.036933783441782, Physics Loss = 53.95922088623047\n"
          ]
        },
        {
          "name": "stderr",
          "output_type": "stream",
          "text": [
            " 60%|██████    | 12039/20000 [00:54<00:37, 211.83it/s]"
          ]
        },
        {
          "name": "stdout",
          "output_type": "stream",
          "text": [
            "Epoch 12001/20000, Loss = 54.55636215209961, Data Loss = 0.03742440789937973, Physics Loss = 54.51893615722656\n"
          ]
        },
        {
          "name": "stderr",
          "output_type": "stream",
          "text": [
            " 61%|██████    | 12230/20000 [00:55<00:35, 219.20it/s]"
          ]
        },
        {
          "name": "stdout",
          "output_type": "stream",
          "text": [
            "Epoch 12201/20000, Loss = 44.975521087646484, Data Loss = 0.0695362389087677, Physics Loss = 44.905982971191406\n"
          ]
        },
        {
          "name": "stderr",
          "output_type": "stream",
          "text": [
            " 62%|██████▏   | 12430/20000 [00:56<00:37, 199.31it/s]"
          ]
        },
        {
          "name": "stdout",
          "output_type": "stream",
          "text": [
            "Epoch 12401/20000, Loss = 56.30697250366211, Data Loss = 0.04070159047842026, Physics Loss = 56.26626968383789\n"
          ]
        },
        {
          "name": "stderr",
          "output_type": "stream",
          "text": [
            " 63%|██████▎   | 12626/20000 [00:57<00:35, 208.87it/s]"
          ]
        },
        {
          "name": "stdout",
          "output_type": "stream",
          "text": [
            "Epoch 12601/20000, Loss = 59.12596130371094, Data Loss = 0.03938942775130272, Physics Loss = 59.086570739746094\n"
          ]
        },
        {
          "name": "stderr",
          "output_type": "stream",
          "text": [
            " 64%|██████▍   | 12839/20000 [00:58<00:31, 227.10it/s]"
          ]
        },
        {
          "name": "stdout",
          "output_type": "stream",
          "text": [
            "Epoch 12801/20000, Loss = 52.65348815917969, Data Loss = 0.038211919367313385, Physics Loss = 52.61527633666992\n"
          ]
        },
        {
          "name": "stderr",
          "output_type": "stream",
          "text": [
            " 65%|██████▌   | 13027/20000 [00:59<00:29, 234.07it/s]"
          ]
        },
        {
          "name": "stdout",
          "output_type": "stream",
          "text": [
            "Epoch 13001/20000, Loss = 42.77217102050781, Data Loss = 0.03533355891704559, Physics Loss = 42.736839294433594\n"
          ]
        },
        {
          "name": "stderr",
          "output_type": "stream",
          "text": [
            " 66%|██████▌   | 13231/20000 [01:00<00:36, 187.89it/s]"
          ]
        },
        {
          "name": "stdout",
          "output_type": "stream",
          "text": [
            "Epoch 13201/20000, Loss = 51.95501708984375, Data Loss = 0.03678897023200989, Physics Loss = 51.91822814941406\n"
          ]
        },
        {
          "name": "stderr",
          "output_type": "stream",
          "text": [
            " 67%|██████▋   | 13439/20000 [01:01<00:28, 230.87it/s]"
          ]
        },
        {
          "name": "stdout",
          "output_type": "stream",
          "text": [
            "Epoch 13401/20000, Loss = 117.12944030761719, Data Loss = 0.039801593869924545, Physics Loss = 117.08963775634766\n"
          ]
        },
        {
          "name": "stderr",
          "output_type": "stream",
          "text": [
            " 68%|██████▊   | 13628/20000 [01:02<00:27, 232.01it/s]"
          ]
        },
        {
          "name": "stdout",
          "output_type": "stream",
          "text": [
            "Epoch 13601/20000, Loss = 52.172977447509766, Data Loss = 0.04715798795223236, Physics Loss = 52.12582015991211\n"
          ]
        },
        {
          "name": "stderr",
          "output_type": "stream",
          "text": [
            " 69%|██████▉   | 13835/20000 [01:03<00:31, 196.38it/s]"
          ]
        },
        {
          "name": "stdout",
          "output_type": "stream",
          "text": [
            "Epoch 13801/20000, Loss = 113.10771942138672, Data Loss = 0.04714323952794075, Physics Loss = 113.06057739257812\n"
          ]
        },
        {
          "name": "stderr",
          "output_type": "stream",
          "text": [
            " 70%|███████   | 14039/20000 [01:04<00:27, 216.48it/s]"
          ]
        },
        {
          "name": "stdout",
          "output_type": "stream",
          "text": [
            "Epoch 14001/20000, Loss = 122.8843002319336, Data Loss = 0.18929298222064972, Physics Loss = 122.69500732421875\n"
          ]
        },
        {
          "name": "stderr",
          "output_type": "stream",
          "text": [
            " 71%|███████   | 14246/20000 [01:05<00:26, 218.50it/s]"
          ]
        },
        {
          "name": "stdout",
          "output_type": "stream",
          "text": [
            "Epoch 14201/20000, Loss = 33.84455108642578, Data Loss = 0.07293839007616043, Physics Loss = 33.77161407470703\n"
          ]
        },
        {
          "name": "stderr",
          "output_type": "stream",
          "text": [
            " 72%|███████▏  | 14433/20000 [01:06<00:24, 223.61it/s]"
          ]
        },
        {
          "name": "stdout",
          "output_type": "stream",
          "text": [
            "Epoch 14401/20000, Loss = 92.96560668945312, Data Loss = 0.03789544105529785, Physics Loss = 92.9277114868164\n"
          ]
        },
        {
          "name": "stderr",
          "output_type": "stream",
          "text": [
            " 73%|███████▎  | 14641/20000 [01:07<00:23, 232.34it/s]"
          ]
        },
        {
          "name": "stdout",
          "output_type": "stream",
          "text": [
            "Epoch 14601/20000, Loss = 47.270687103271484, Data Loss = 0.03449287265539169, Physics Loss = 47.2361946105957\n"
          ]
        },
        {
          "name": "stderr",
          "output_type": "stream",
          "text": [
            " 74%|███████▍  | 14846/20000 [01:07<00:20, 250.49it/s]"
          ]
        },
        {
          "name": "stdout",
          "output_type": "stream",
          "text": [
            "Epoch 14801/20000, Loss = 35.707271575927734, Data Loss = 0.03536226227879524, Physics Loss = 35.67190933227539\n"
          ]
        },
        {
          "name": "stderr",
          "output_type": "stream",
          "text": [
            " 75%|███████▌  | 15042/20000 [01:08<00:22, 224.76it/s]"
          ]
        },
        {
          "name": "stdout",
          "output_type": "stream",
          "text": [
            "Epoch 15001/20000, Loss = 56.09677505493164, Data Loss = 0.035190120339393616, Physics Loss = 56.06158447265625\n"
          ]
        },
        {
          "name": "stderr",
          "output_type": "stream",
          "text": [
            " 76%|███████▌  | 15237/20000 [01:09<00:23, 200.01it/s]"
          ]
        },
        {
          "name": "stdout",
          "output_type": "stream",
          "text": [
            "Epoch 15201/20000, Loss = 76.93853759765625, Data Loss = 0.034216299653053284, Physics Loss = 76.9043197631836\n"
          ]
        },
        {
          "name": "stderr",
          "output_type": "stream",
          "text": [
            " 77%|███████▋  | 15431/20000 [01:10<00:24, 187.63it/s]"
          ]
        },
        {
          "name": "stdout",
          "output_type": "stream",
          "text": [
            "Epoch 15401/20000, Loss = 40.39906692504883, Data Loss = 0.03468339517712593, Physics Loss = 40.364383697509766\n"
          ]
        },
        {
          "name": "stderr",
          "output_type": "stream",
          "text": [
            " 78%|███████▊  | 15645/20000 [01:11<00:18, 238.65it/s]"
          ]
        },
        {
          "name": "stdout",
          "output_type": "stream",
          "text": [
            "Epoch 15601/20000, Loss = 26.78515625, Data Loss = 0.04109648987650871, Physics Loss = 26.744060516357422\n"
          ]
        },
        {
          "name": "stderr",
          "output_type": "stream",
          "text": [
            " 79%|███████▉  | 15834/20000 [01:12<00:17, 232.21it/s]"
          ]
        },
        {
          "name": "stdout",
          "output_type": "stream",
          "text": [
            "Epoch 15801/20000, Loss = 44.63077926635742, Data Loss = 0.03628626465797424, Physics Loss = 44.5944938659668\n"
          ]
        },
        {
          "name": "stderr",
          "output_type": "stream",
          "text": [
            " 80%|████████  | 16043/20000 [01:13<00:17, 223.01it/s]"
          ]
        },
        {
          "name": "stdout",
          "output_type": "stream",
          "text": [
            "Epoch 16001/20000, Loss = 40.87469482421875, Data Loss = 0.034666210412979126, Physics Loss = 40.84002685546875\n"
          ]
        },
        {
          "name": "stderr",
          "output_type": "stream",
          "text": [
            " 81%|████████  | 16238/20000 [01:14<00:17, 209.01it/s]"
          ]
        },
        {
          "name": "stdout",
          "output_type": "stream",
          "text": [
            "Epoch 16201/20000, Loss = 47.220497131347656, Data Loss = 0.03443522751331329, Physics Loss = 47.18606185913086\n"
          ]
        },
        {
          "name": "stderr",
          "output_type": "stream",
          "text": [
            " 82%|████████▏ | 16433/20000 [01:15<00:17, 204.53it/s]"
          ]
        },
        {
          "name": "stdout",
          "output_type": "stream",
          "text": [
            "Epoch 16401/20000, Loss = 32.31821823120117, Data Loss = 0.050258684903383255, Physics Loss = 32.26795959472656\n"
          ]
        },
        {
          "name": "stderr",
          "output_type": "stream",
          "text": [
            " 83%|████████▎ | 16630/20000 [01:16<00:15, 218.62it/s]"
          ]
        },
        {
          "name": "stdout",
          "output_type": "stream",
          "text": [
            "Epoch 16601/20000, Loss = 158.60610961914062, Data Loss = 0.1539861559867859, Physics Loss = 158.45211791992188\n"
          ]
        },
        {
          "name": "stderr",
          "output_type": "stream",
          "text": [
            " 84%|████████▍ | 16845/20000 [01:17<00:13, 238.22it/s]"
          ]
        },
        {
          "name": "stdout",
          "output_type": "stream",
          "text": [
            "Epoch 16801/20000, Loss = 33.33696746826172, Data Loss = 0.035196445882320404, Physics Loss = 33.3017692565918\n"
          ]
        },
        {
          "name": "stderr",
          "output_type": "stream",
          "text": [
            " 85%|████████▌ | 17038/20000 [01:18<00:13, 222.54it/s]"
          ]
        },
        {
          "name": "stdout",
          "output_type": "stream",
          "text": [
            "Epoch 17001/20000, Loss = 36.30634689331055, Data Loss = 0.03934254124760628, Physics Loss = 36.267005920410156\n"
          ]
        },
        {
          "name": "stderr",
          "output_type": "stream",
          "text": [
            " 86%|████████▌ | 17226/20000 [01:18<00:11, 233.62it/s]"
          ]
        },
        {
          "name": "stdout",
          "output_type": "stream",
          "text": [
            "Epoch 17201/20000, Loss = 40.17927551269531, Data Loss = 0.037563636898994446, Physics Loss = 40.1417121887207\n"
          ]
        },
        {
          "name": "stderr",
          "output_type": "stream",
          "text": [
            " 87%|████████▋ | 17444/20000 [01:19<00:11, 223.57it/s]"
          ]
        },
        {
          "name": "stdout",
          "output_type": "stream",
          "text": [
            "Epoch 17401/20000, Loss = 74.34993743896484, Data Loss = 0.03500386327505112, Physics Loss = 74.31493377685547\n"
          ]
        },
        {
          "name": "stderr",
          "output_type": "stream",
          "text": [
            " 88%|████████▊ | 17643/20000 [01:20<00:11, 206.90it/s]"
          ]
        },
        {
          "name": "stdout",
          "output_type": "stream",
          "text": [
            "Epoch 17601/20000, Loss = 624.14013671875, Data Loss = 0.045042943209409714, Physics Loss = 624.0950927734375\n"
          ]
        },
        {
          "name": "stderr",
          "output_type": "stream",
          "text": [
            " 89%|████████▉ | 17830/20000 [01:21<00:10, 202.10it/s]"
          ]
        },
        {
          "name": "stdout",
          "output_type": "stream",
          "text": [
            "Epoch 17801/20000, Loss = 18.425010681152344, Data Loss = 0.039776429533958435, Physics Loss = 18.385234832763672\n"
          ]
        },
        {
          "name": "stderr",
          "output_type": "stream",
          "text": [
            " 90%|█████████ | 18039/20000 [01:22<00:08, 236.46it/s]"
          ]
        },
        {
          "name": "stdout",
          "output_type": "stream",
          "text": [
            "Epoch 18001/20000, Loss = 52.568233489990234, Data Loss = 0.040860988199710846, Physics Loss = 52.527374267578125\n"
          ]
        },
        {
          "name": "stderr",
          "output_type": "stream",
          "text": [
            " 91%|█████████ | 18223/20000 [01:23<00:08, 213.12it/s]"
          ]
        },
        {
          "name": "stdout",
          "output_type": "stream",
          "text": [
            "Epoch 18201/20000, Loss = 44.937625885009766, Data Loss = 0.04229447990655899, Physics Loss = 44.89533233642578\n"
          ]
        },
        {
          "name": "stderr",
          "output_type": "stream",
          "text": [
            " 92%|█████████▏| 18425/20000 [01:24<00:07, 221.92it/s]"
          ]
        },
        {
          "name": "stdout",
          "output_type": "stream",
          "text": [
            "Epoch 18401/20000, Loss = 33.64773178100586, Data Loss = 0.03768713399767876, Physics Loss = 33.61004638671875\n"
          ]
        },
        {
          "name": "stderr",
          "output_type": "stream",
          "text": [
            " 93%|█████████▎| 18642/20000 [01:25<00:05, 241.16it/s]"
          ]
        },
        {
          "name": "stdout",
          "output_type": "stream",
          "text": [
            "Epoch 18601/20000, Loss = 31.832061767578125, Data Loss = 0.041781485080718994, Physics Loss = 31.790279388427734\n"
          ]
        },
        {
          "name": "stderr",
          "output_type": "stream",
          "text": [
            " 94%|█████████▍| 18827/20000 [01:26<00:05, 219.04it/s]"
          ]
        },
        {
          "name": "stdout",
          "output_type": "stream",
          "text": [
            "Epoch 18801/20000, Loss = 30.875051498413086, Data Loss = 0.037848372012376785, Physics Loss = 30.837203979492188\n"
          ]
        },
        {
          "name": "stderr",
          "output_type": "stream",
          "text": [
            " 95%|█████████▌| 19036/20000 [01:27<00:04, 235.07it/s]"
          ]
        },
        {
          "name": "stdout",
          "output_type": "stream",
          "text": [
            "Epoch 19001/20000, Loss = 73.0147476196289, Data Loss = 0.0902244970202446, Physics Loss = 72.92452239990234\n"
          ]
        },
        {
          "name": "stderr",
          "output_type": "stream",
          "text": [
            " 96%|█████████▌| 19241/20000 [01:28<00:03, 218.47it/s]"
          ]
        },
        {
          "name": "stdout",
          "output_type": "stream",
          "text": [
            "Epoch 19201/20000, Loss = 35.13682174682617, Data Loss = 0.03778589144349098, Physics Loss = 35.099037170410156\n"
          ]
        },
        {
          "name": "stderr",
          "output_type": "stream",
          "text": [
            " 97%|█████████▋| 19429/20000 [01:29<00:02, 223.89it/s]"
          ]
        },
        {
          "name": "stdout",
          "output_type": "stream",
          "text": [
            "Epoch 19401/20000, Loss = 26.877485275268555, Data Loss = 0.04145918786525726, Physics Loss = 26.83602523803711\n"
          ]
        },
        {
          "name": "stderr",
          "output_type": "stream",
          "text": [
            " 98%|█████████▊| 19627/20000 [01:30<00:01, 211.06it/s]"
          ]
        },
        {
          "name": "stdout",
          "output_type": "stream",
          "text": [
            "Epoch 19601/20000, Loss = 28.910696029663086, Data Loss = 0.04335526004433632, Physics Loss = 28.867340087890625\n"
          ]
        },
        {
          "name": "stderr",
          "output_type": "stream",
          "text": [
            " 99%|█████████▉| 19840/20000 [01:31<00:00, 217.72it/s]"
          ]
        },
        {
          "name": "stdout",
          "output_type": "stream",
          "text": [
            "Epoch 19801/20000, Loss = 39.13182067871094, Data Loss = 0.03335397318005562, Physics Loss = 39.09846496582031\n"
          ]
        },
        {
          "name": "stderr",
          "output_type": "stream",
          "text": [
            "100%|██████████| 20000/20000 [01:31<00:00, 217.67it/s]\n"
          ]
        }
      ],
      "source": [
        "model = PINN(input_size=1, hidden_size=20, output_size=1).to(device)\n",
        "model.train_model(X_train, U_train, epochs=20000)"
      ]
    },
    {
      "cell_type": "code",
      "execution_count": null,
      "metadata": {},
      "outputs": [],
      "source": [
        "import matplotlib.pyplot as plt\n",
        "\n",
        "with torch.no_grad():\n",
        "    u_pred = model(train).cpu().numpy()\n",
        "plt.imshow(u_pred.reshape(101, 101), cmap=\"viridis\")\n",
        "plt.colorbar()\n",
        "plt.show()"
      ]
    },
    {
      "cell_type": "code",
      "execution_count": 45,
      "metadata": {},
      "outputs": [
        {
          "data": {
            "image/png": "[encoded data removed]",
            "text/plain": [
              "<Figure size 640x480 with 2 Axes>"
            ]
          },
          "metadata": {},
          "output_type": "display_data"
        }
      ],
      "source": [
        "plt.imshow(u_true, cmap=\"viridis\")\n",
        "plt.colorbar()\n",
        "plt.show()"
      ]
    },
    {
      "cell_type": "code",
      "execution_count": 153,
      "metadata": {},
      "outputs": [
        {
          "data": {
            "image/png": "[encoded data removed]",
            "text/plain": [
              "<Figure size 640x480 with 1 Axes>"
            ]
          },
          "metadata": {},
          "output_type": "display_data"
        }
      ],
      "source": [
        "with torch.no_grad():\n",
        "    u_pred = model(X_train).cpu().numpy()\n",
        "plt.plot(u_true, label=\"True\")\n",
        "plt.plot(u_pred, label=\"Predicted\")\n",
        "# plt.plot(u_train, label=\"Noisy\")\n",
        "plt.legend()\n",
        "plt.show()"
      ]
    },
    {
      "cell_type": "code",
      "execution_count": 46,
      "metadata": {
        "id": "cFN4T8RfhQf2"
      },
      "outputs": [],
      "source": [
        "import matplotlib.pyplot as plt\n",
        "import numpy as np\n",
        "from matplotlib import animation\n",
        "from tqdm import tqdm\n",
        "\n",
        "def visualize_helmholtz(X, Y, data, path):\n",
        "    \"\"\"\n",
        "    Visualizes the 2D Helmholtz solution as an animation.\n",
        "\n",
        "    Args:\n",
        "    X, Y : Meshgrid coordinates for plotting\n",
        "    data : 3D NumPy array [time, X, Y] representing the solution at different times\n",
        "    path : Path to save the animation\n",
        "    \"\"\"\n",
        "    fig, ax = plt.subplots()\n",
        "\n",
        "    # Use contour plot or imshow\n",
        "    im = ax.imshow(data[0], extent=[X.min(), X.max(), Y.min(), Y.max()],\n",
        "                   origin='lower', cmap='viridis', animated=True)\n",
        "    ax.set_xlabel(\"X-axis\")\n",
        "    ax.set_ylabel(\"Y-axis\")\n",
        "    ax.set_title(\"Helmholtz Equation Solution Animation\")\n",
        "\n",
        "    def update(frame):\n",
        "        im.set_array(data[frame])  # Update solution at new time step\n",
        "        return [im]\n",
        "\n",
        "    ani = animation.FuncAnimation(fig, update, frames=len(data), interval=50, blit=False)\n",
        "\n",
        "    writer = animation.PillowWriter(fps=15, bitrate=1800)\n",
        "    ani.save(path, writer=writer)\n",
        "    plt.close(fig)\n",
        "\n",
        "# Example Usage\n",
        "# Generate example Helmholtz solution data\n",
        "# x = np.linspace(-1, 1, 100)\n",
        "# y = np.linspace(-1, 1, 100)\n",
        "# X, Y = np.meshgrid(x, y)\n",
        "\n",
        "# # Example 2D Helmholtz wave solution evolving over time\n",
        "# time_steps = 50\n",
        "# a1, a2 = 1, 1\n",
        "# data = np.array([np.sin(a1 * np.pi * X) * np.sin(a2 * np.pi * Y) * np.cos(2 * np.pi * t / time_steps)\n",
        "#                  for t in range(time_steps)])\n",
        "\n",
        "# Visualize and save\n",
        "# visualize_helmholtz(X, Y, data, \"helmholtz_solution.gif\")"
      ]
    },
    {
      "cell_type": "code",
      "execution_count": 13,
      "metadata": {},
      "outputs": [
        {
          "data": {
            "text/plain": [
              "((32, 32), (1024, 1024), (1024, 1024))"
            ]
          },
          "execution_count": 13,
          "metadata": {},
          "output_type": "execute_result"
        }
      ],
      "source": [
        "x, y = X_train[:1024], Y_train[:1024]\n",
        "X, Y = np.meshgrid(x.cpu().numpy(), y.cpu().numpy())\n",
        "a = torch.stack((x, y), dim=1).to(device)\n",
        "u = model(a).detach().cpu().nump\n",
        "\n",
        "\n",
        "y().reshape(32, 32)\n",
        "u.shape, X.shape, Y.shape"
      ]
    },
    {
      "cell_type": "code",
      "execution_count": 50,
      "metadata": {},
      "outputs": [
        {
          "data": {
            "text/plain": [
              "(50, 101, 101)"
            ]
          },
          "execution_count": 50,
          "metadata": {},
          "output_type": "execute_result"
        }
      ],
      "source": [
        "# Create 50 time steps by adding small variations (e.g., sine wave modulation)\n",
        "t = np.linspace(0, 2 * np.pi, 50)\n",
        "u_time_series = np.array([u_true * np.sin(ti) for ti in t])\n",
        "# u_time_series = u_time_series[:, :, :]\n",
        "u_time_series.shape"
      ]
    },
    {
      "cell_type": "code",
      "execution_count": 51,
      "metadata": {},
      "outputs": [],
      "source": [
        "visualize_helmholtz(X, Y, u_time_series, \"helmholtz_solution.gif\")"
      ]
    }
  ],
  "metadata": {
    "accelerator": "GPU",
    "colab": {
      "gpuType": "T4",
      "provenance": []
    },
    "kernelspec": {
      "display_name": "Python (myenv)",
      "language": "python",
      "name": "torch"
    },
    "language_info": {
      "codemirror_mode": {
        "name": "ipython",
        "version": 3
      },
      "file_extension": ".py",
      "mimetype": "text/x-python",
      "name": "python",
      "nbconvert_exporter": "python",
      "pygments_lexer": "ipython3",
      "version": "3.12.3"
    }
  },
  "nbformat": 4,
  "nbformat_minor": 0
}
