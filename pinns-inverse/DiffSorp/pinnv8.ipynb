{
 "cells": [
  {
   "cell_type": "code",
   "execution_count": 53,
   "metadata": {},
   "outputs": [],
   "source": [
    "import torch\n",
    "import torch.nn as nn\n",
    "import numpy as np\n",
    "from tqdm import tqdm\n",
    "\n",
    "\n",
    "class PINN(nn.Module):\n",
    "    def __init__(self, input_size, hidden_size, output_size, d, kd):\n",
    "        super(PINN, self).__init__()\n",
    "        # Define neural network layers\n",
    "        self.layers = nn.ModuleList(\n",
    "            [\n",
    "                (\n",
    "                    nn.Linear(input_size if i == 0 else hidden_size, hidden_size)\n",
    "                    if i % 2 == 0\n",
    "                    else nn.Tanh()\n",
    "                )\n",
    "                for i in range(20)\n",
    "            ]\n",
    "        )\n",
    "        # Output layer for concentration (C)\n",
    "        self.layers.append(nn.Linear(hidden_size, output_size))\n",
    "\n",
    "        # Learnable parameters: D and Kd (initially set as trainable parameters)\n",
    "        self.D = nn.Parameter(\n",
    "            torch.tensor([10.0], dtype=torch.float32, requires_grad=True)\n",
    "        )  # Diffusion coefficient\n",
    "        # self.Kd = nn.Parameter(\n",
    "        #     torch.tensor([10.0], dtype=torch.float32, requires_grad=True)\n",
    "        # )  # Sorption coefficient\n",
    "        # self.D = d\n",
    "        self.Kd = kd\n",
    "\n",
    "        # Loss function and optimizer\n",
    "        self.loss = nn.MSELoss()\n",
    "        self.optimizer = torch.optim.Adam(self.parameters(), lr=1e-4)\n",
    "\n",
    "    def forward(self, x):\n",
    "        # Feedforward pass to get concentration profile\n",
    "        for layer in self.layers:\n",
    "            x = layer(x)\n",
    "        return x\n",
    "\n",
    "    def residual_loss(self, xtrain):\n",
    "        g = xtrain.clone()\n",
    "        g.requires_grad = True\n",
    "        u_pred = self.forward(g)  # Predicted concentration\n",
    "\n",
    "        # Compute gradients for the residuals\n",
    "        u_x_t = torch.autograd.grad(\n",
    "            u_pred,\n",
    "            g,\n",
    "            torch.ones([g.shape[0], 1]).to(\"cuda\"),\n",
    "            retain_graph=True,\n",
    "            create_graph=True,\n",
    "        )[0]\n",
    "        u_xx_tt = torch.autograd.grad(\n",
    "            u_x_t, g, torch.ones(g.shape).to(\"cuda\"), create_graph=True\n",
    "        )[0]\n",
    "\n",
    "        # Diffusion term: u_xx (second spatial derivative)\n",
    "        u_xx = u_xx_tt[:, [0]]\n",
    "\n",
    "        # Physics-informed residual (diffusion-sorption-reaction equation)\n",
    "        residual = u_x_t[:, [1]] - (self.D / (1 + self.Kd)) * u_xx\n",
    "\n",
    "        return self.loss(\n",
    "            residual, torch.zeros_like(residual).to(\"cuda\")\n",
    "        )  # Residual should be zero\n",
    "\n",
    "    def total_loss(self, xtrain, utrain):\n",
    "        # Data loss: Compare predicted concentration to true concentration\n",
    "        data_loss = self.loss(self.forward(xtrain), utrain)\n",
    "\n",
    "        # Residual loss: Physics-informed\n",
    "        residual_loss = self.residual_loss(xtrain)\n",
    "\n",
    "        return data_loss, residual_loss, data_loss + residual_loss\n",
    "\n",
    "    def train_model(self, xtrain, utrain, epochs=1000):\n",
    "        for epoch in tqdm(range(epochs)):\n",
    "            self.optimizer.zero_grad()\n",
    "            a, b, loss = self.total_loss(xtrain, utrain)\n",
    "            loss.backward()\n",
    "            self.optimizer.step()\n",
    "            if epoch % 200 == 0:\n",
    "                print(\n",
    "                    f\"Epoch {epoch}, Loss {loss.item()}, Data Loss {a.item()}, Residual Loss {b.item()}, D {self.D.item()}\"\n",
    "                )"
   ]
  },
  {
   "cell_type": "code",
   "execution_count": 54,
   "metadata": {},
   "outputs": [
    {
     "data": {
      "text/plain": [
       "(torch.Size([20100, 2]), torch.Size([20100, 1]))"
      ]
     },
     "execution_count": 54,
     "metadata": {},
     "output_type": "execute_result"
    }
   ],
   "source": [
    "import h5py\n",
    "\n",
    "Nx = 100\n",
    "Nt = 201\n",
    "\n",
    "with h5py.File(\"diff_sorp.h5\", \"r\") as f:\n",
    "    dtrue = f[\"1\"][\"D\"][()]\n",
    "    ktrue = f[\"1\"][\"Kd\"][()]\n",
    "    C_all = f[\"1\"][\"data\"][:]\n",
    "    f.close()\n",
    "# Create input (x, t) and output (C) tensors\n",
    "x = np.linspace(0, 10, Nx)\n",
    "t = np.linspace(0, 1, Nt)\n",
    "X, T = np.meshgrid(x, t)\n",
    "X_train = torch.tensor(\n",
    "    np.hstack((X.flatten()[:, None], T.flatten()[:, None])), dtype=torch.float32\n",
    ").to(\"cuda\")\n",
    "C_train = torch.tensor(C_all.flatten()[:, None], dtype=torch.float32).to(\"cuda\")\n",
    "X_train.shape, C_train.shape"
   ]
  },
  {
   "cell_type": "code",
   "execution_count": 55,
   "metadata": {},
   "outputs": [
    {
     "data": {
      "text/plain": [
       "(82.44376791378382, 92.0820718580985)"
      ]
     },
     "execution_count": 55,
     "metadata": {},
     "output_type": "execute_result"
    }
   ],
   "source": [
    "dtrue, ktrue"
   ]
  },
  {
   "cell_type": "code",
   "execution_count": 56,
   "metadata": {},
   "outputs": [
    {
     "data": {
      "text/plain": [
       "(torch.Size([10000, 2]), torch.Size([10000, 1]))"
      ]
     },
     "execution_count": 56,
     "metadata": {},
     "output_type": "execute_result"
    }
   ],
   "source": [
    "idx = np.random.choice(Nx * Nt, 10000, replace=False)\n",
    "xtrain = X_train[idx]\n",
    "ctrain = C_train[idx]\n",
    "xtrain.shape, ctrain.shape"
   ]
  },
  {
   "cell_type": "code",
   "execution_count": 57,
   "metadata": {},
   "outputs": [
    {
     "name": "stderr",
     "output_type": "stream",
     "text": [
      "  0%|          | 35/10000 [00:00<00:57, 173.44it/s]"
     ]
    },
    {
     "name": "stdout",
     "output_type": "stream",
     "text": [
      "Epoch 0, Loss 0.1486700177192688, Data Loss 0.1486700028181076, Residual Loss 1.4683240401325293e-08, D 10.000001907348633\n"
     ]
    },
    {
     "name": "stderr",
     "output_type": "stream",
     "text": [
      "  2%|▏         | 226/10000 [00:01<00:51, 189.79it/s]"
     ]
    },
    {
     "name": "stdout",
     "output_type": "stream",
     "text": [
      "Epoch 200, Loss 0.09214071184396744, Data Loss 0.09213516861200333, Residual Loss 5.542055987461936e-06, D 10.018521308898926\n"
     ]
    },
    {
     "name": "stderr",
     "output_type": "stream",
     "text": [
      "  4%|▍         | 439/10000 [00:02<00:47, 202.32it/s]"
     ]
    },
    {
     "name": "stdout",
     "output_type": "stream",
     "text": [
      "Epoch 400, Loss 0.043837450444698334, Data Loss 0.042598187923431396, Residual Loss 0.001239262637682259, D 10.072480201721191\n"
     ]
    },
    {
     "name": "stderr",
     "output_type": "stream",
     "text": [
      "  6%|▋         | 635/10000 [00:03<00:44, 208.24it/s]"
     ]
    },
    {
     "name": "stdout",
     "output_type": "stream",
     "text": [
      "Epoch 600, Loss 0.016205137595534325, Data Loss 0.015617374330759048, Residual Loss 0.0005877629155293107, D 10.100500106811523\n"
     ]
    },
    {
     "name": "stderr",
     "output_type": "stream",
     "text": [
      "  8%|▊         | 831/10000 [00:04<00:44, 208.27it/s]"
     ]
    },
    {
     "name": "stdout",
     "output_type": "stream",
     "text": [
      "Epoch 800, Loss 0.005763827357441187, Data Loss 0.005266652442514896, Residual Loss 0.0004971750313416123, D 10.114243507385254\n"
     ]
    },
    {
     "name": "stderr",
     "output_type": "stream",
     "text": [
      " 10%|█         | 1030/10000 [00:05<00:48, 185.29it/s]"
     ]
    },
    {
     "name": "stdout",
     "output_type": "stream",
     "text": [
      "Epoch 1000, Loss 0.004270282573997974, Data Loss 0.0037647741846740246, Residual Loss 0.0005055085057392716, D 10.101052284240723\n"
     ]
    },
    {
     "name": "stderr",
     "output_type": "stream",
     "text": [
      " 12%|█▏        | 1231/10000 [00:06<00:45, 192.09it/s]"
     ]
    },
    {
     "name": "stdout",
     "output_type": "stream",
     "text": [
      "Epoch 1200, Loss 0.0038798702880740166, Data Loss 0.003431067569181323, Residual Loss 0.0004488026606850326, D 10.111394882202148\n"
     ]
    },
    {
     "name": "stderr",
     "output_type": "stream",
     "text": [
      " 14%|█▍        | 1437/10000 [00:07<00:44, 193.12it/s]"
     ]
    },
    {
     "name": "stdout",
     "output_type": "stream",
     "text": [
      "Epoch 1400, Loss 0.003658947767689824, Data Loss 0.0032497947104275227, Residual Loss 0.0004091529699508101, D 10.138211250305176\n"
     ]
    },
    {
     "name": "stderr",
     "output_type": "stream",
     "text": [
      " 16%|█▋        | 1632/10000 [00:08<00:44, 187.08it/s]"
     ]
    },
    {
     "name": "stdout",
     "output_type": "stream",
     "text": [
      "Epoch 1600, Loss 0.0035063999239355326, Data Loss 0.0031294096261262894, Residual Loss 0.0003769903560169041, D 10.169303894042969\n"
     ]
    },
    {
     "name": "stderr",
     "output_type": "stream",
     "text": [
      " 18%|█▊        | 1823/10000 [00:09<00:44, 183.71it/s]"
     ]
    },
    {
     "name": "stdout",
     "output_type": "stream",
     "text": [
      "Epoch 1800, Loss 0.003392882877960801, Data Loss 0.003041590331122279, Residual Loss 0.0003512925759423524, D 10.199975967407227\n"
     ]
    },
    {
     "name": "stderr",
     "output_type": "stream",
     "text": [
      " 20%|██        | 2032/10000 [00:10<00:43, 184.66it/s]"
     ]
    },
    {
     "name": "stdout",
     "output_type": "stream",
     "text": [
      "Epoch 2000, Loss 0.00331399729475379, Data Loss 0.0029818713665008545, Residual Loss 0.0003321259282529354, D 10.229395866394043\n"
     ]
    },
    {
     "name": "stderr",
     "output_type": "stream",
     "text": [
      " 22%|██▏       | 2228/10000 [00:11<00:40, 192.64it/s]"
     ]
    },
    {
     "name": "stdout",
     "output_type": "stream",
     "text": [
      "Epoch 2200, Loss 0.003246019361540675, Data Loss 0.00292591517791152, Residual Loss 0.00032010427094064653, D 10.257577896118164\n"
     ]
    },
    {
     "name": "stderr",
     "output_type": "stream",
     "text": [
      " 24%|██▍       | 2430/10000 [00:12<00:40, 189.03it/s]"
     ]
    },
    {
     "name": "stdout",
     "output_type": "stream",
     "text": [
      "Epoch 2400, Loss 0.0032030974980443716, Data Loss 0.0028930953703820705, Residual Loss 0.00031000221497379243, D 10.284610748291016\n"
     ]
    },
    {
     "name": "stderr",
     "output_type": "stream",
     "text": [
      " 26%|██▌       | 2620/10000 [00:13<00:42, 172.58it/s]"
     ]
    },
    {
     "name": "stdout",
     "output_type": "stream",
     "text": [
      "Epoch 2600, Loss 0.003172104014083743, Data Loss 0.0028710097540169954, Residual Loss 0.0003010942891705781, D 10.310602188110352\n"
     ]
    },
    {
     "name": "stderr",
     "output_type": "stream",
     "text": [
      " 28%|██▊       | 2835/10000 [00:14<00:36, 195.74it/s]"
     ]
    },
    {
     "name": "stdout",
     "output_type": "stream",
     "text": [
      "Epoch 2800, Loss 0.0031490905676037073, Data Loss 0.002856368664652109, Residual Loss 0.0002927218738477677, D 10.335631370544434\n"
     ]
    },
    {
     "name": "stderr",
     "output_type": "stream",
     "text": [
      " 30%|███       | 3036/10000 [00:15<00:34, 202.91it/s]"
     ]
    },
    {
     "name": "stdout",
     "output_type": "stream",
     "text": [
      "Epoch 3000, Loss 0.003131384029984474, Data Loss 0.0028456873260438442, Residual Loss 0.00028569670394062996, D 10.359795570373535\n"
     ]
    },
    {
     "name": "stderr",
     "output_type": "stream",
     "text": [
      " 32%|███▏      | 3225/10000 [00:16<00:33, 202.57it/s]"
     ]
    },
    {
     "name": "stdout",
     "output_type": "stream",
     "text": [
      "Epoch 3200, Loss 0.003122504334896803, Data Loss 0.002845153445377946, Residual Loss 0.00027735080220736563, D 10.383190155029297\n"
     ]
    },
    {
     "name": "stderr",
     "output_type": "stream",
     "text": [
      " 34%|███▍      | 3430/10000 [00:17<00:35, 185.98it/s]"
     ]
    },
    {
     "name": "stdout",
     "output_type": "stream",
     "text": [
      "Epoch 3400, Loss 0.0031056462321430445, Data Loss 0.0028311137575656176, Residual Loss 0.000274532416369766, D 10.405939102172852\n"
     ]
    },
    {
     "name": "stderr",
     "output_type": "stream",
     "text": [
      " 36%|███▌      | 3621/10000 [00:19<00:34, 183.60it/s]"
     ]
    },
    {
     "name": "stdout",
     "output_type": "stream",
     "text": [
      "Epoch 3600, Loss 0.0030957397539168596, Data Loss 0.002825000789016485, Residual Loss 0.0002707389649003744, D 10.428163528442383\n"
     ]
    },
    {
     "name": "stderr",
     "output_type": "stream",
     "text": [
      " 38%|███▊      | 3830/10000 [00:20<00:33, 182.71it/s]"
     ]
    },
    {
     "name": "stdout",
     "output_type": "stream",
     "text": [
      "Epoch 3800, Loss 0.0030870542395859957, Data Loss 0.002819215413182974, Residual Loss 0.00026783879729919136, D 10.449967384338379\n"
     ]
    },
    {
     "name": "stderr",
     "output_type": "stream",
     "text": [
      " 40%|████      | 4023/10000 [00:21<00:32, 181.71it/s]"
     ]
    },
    {
     "name": "stdout",
     "output_type": "stream",
     "text": [
      "Epoch 4000, Loss 0.0030792655888944864, Data Loss 0.002813479630276561, Residual Loss 0.0002657859877217561, D 10.471430778503418\n"
     ]
    },
    {
     "name": "stderr",
     "output_type": "stream",
     "text": [
      " 42%|████▏     | 4237/10000 [00:22<00:29, 195.91it/s]"
     ]
    },
    {
     "name": "stdout",
     "output_type": "stream",
     "text": [
      "Epoch 4200, Loss 0.003072078339755535, Data Loss 0.0028080607298761606, Residual Loss 0.0002640174934640527, D 10.492646217346191\n"
     ]
    },
    {
     "name": "stderr",
     "output_type": "stream",
     "text": [
      " 44%|████▍     | 4429/10000 [00:23<00:26, 209.29it/s]"
     ]
    },
    {
     "name": "stdout",
     "output_type": "stream",
     "text": [
      "Epoch 4400, Loss 0.0030653714202344418, Data Loss 0.00280277943238616, Residual Loss 0.00026259198784828186, D 10.513636589050293\n"
     ]
    },
    {
     "name": "stderr",
     "output_type": "stream",
     "text": [
      " 46%|████▋     | 4635/10000 [00:24<00:28, 189.38it/s]"
     ]
    },
    {
     "name": "stdout",
     "output_type": "stream",
     "text": [
      "Epoch 4600, Loss 0.0030629790853708982, Data Loss 0.0027991950046271086, Residual Loss 0.00026378402253612876, D 10.534441947937012\n"
     ]
    },
    {
     "name": "stderr",
     "output_type": "stream",
     "text": [
      " 48%|████▊     | 4824/10000 [00:25<00:25, 205.45it/s]"
     ]
    },
    {
     "name": "stdout",
     "output_type": "stream",
     "text": [
      "Epoch 4800, Loss 0.0030530071817338467, Data Loss 0.002792586339637637, Residual Loss 0.00026042075478471816, D 10.555134773254395\n"
     ]
    },
    {
     "name": "stderr",
     "output_type": "stream",
     "text": [
      " 50%|█████     | 5041/10000 [00:26<00:24, 203.61it/s]"
     ]
    },
    {
     "name": "stdout",
     "output_type": "stream",
     "text": [
      "Epoch 5000, Loss 0.0030472290236502886, Data Loss 0.002787598641589284, Residual Loss 0.00025963029474951327, D 10.57573413848877\n"
     ]
    },
    {
     "name": "stderr",
     "output_type": "stream",
     "text": [
      " 52%|█████▏    | 5228/10000 [00:27<00:25, 189.44it/s]"
     ]
    },
    {
     "name": "stdout",
     "output_type": "stream",
     "text": [
      "Epoch 5200, Loss 0.0030415840446949005, Data Loss 0.002782647730782628, Residual Loss 0.0002589363430161029, D 10.596207618713379\n"
     ]
    },
    {
     "name": "stderr",
     "output_type": "stream",
     "text": [
      " 54%|█████▍    | 5437/10000 [00:28<00:21, 207.91it/s]"
     ]
    },
    {
     "name": "stdout",
     "output_type": "stream",
     "text": [
      "Epoch 5400, Loss 0.0030360824894160032, Data Loss 0.00277781393378973, Residual Loss 0.00025826855562627316, D 10.616616249084473\n"
     ]
    },
    {
     "name": "stderr",
     "output_type": "stream",
     "text": [
      " 56%|█████▋    | 5630/10000 [00:29<00:21, 200.47it/s]"
     ]
    },
    {
     "name": "stdout",
     "output_type": "stream",
     "text": [
      "Epoch 5600, Loss 0.003030847990885377, Data Loss 0.0027725473046302795, Residual Loss 0.0002583006280474365, D 10.636987686157227\n"
     ]
    },
    {
     "name": "stderr",
     "output_type": "stream",
     "text": [
      " 58%|█████▊    | 5833/10000 [00:30<00:22, 187.54it/s]"
     ]
    },
    {
     "name": "stdout",
     "output_type": "stream",
     "text": [
      "Epoch 5800, Loss 0.003025430953130126, Data Loss 0.002768474631011486, Residual Loss 0.00025695632211863995, D 10.657231330871582\n"
     ]
    },
    {
     "name": "stderr",
     "output_type": "stream",
     "text": [
      " 60%|██████    | 6037/10000 [00:31<00:20, 192.09it/s]"
     ]
    },
    {
     "name": "stdout",
     "output_type": "stream",
     "text": [
      "Epoch 6000, Loss 0.003020009258762002, Data Loss 0.0027633861172944307, Residual Loss 0.00025662319967523217, D 10.677449226379395\n"
     ]
    },
    {
     "name": "stderr",
     "output_type": "stream",
     "text": [
      " 62%|██████▏   | 6223/10000 [00:32<00:18, 208.14it/s]"
     ]
    },
    {
     "name": "stdout",
     "output_type": "stream",
     "text": [
      "Epoch 6200, Loss 0.0030146792996674776, Data Loss 0.002760338829830289, Residual Loss 0.00025434052804484963, D 10.697667121887207\n"
     ]
    },
    {
     "name": "stderr",
     "output_type": "stream",
     "text": [
      " 64%|██████▍   | 6429/10000 [00:33<00:18, 188.21it/s]"
     ]
    },
    {
     "name": "stdout",
     "output_type": "stream",
     "text": [
      "Epoch 6400, Loss 0.0030126171186566353, Data Loss 0.0027627036906778812, Residual Loss 0.00024991354439407587, D 10.71788501739502\n"
     ]
    },
    {
     "name": "stderr",
     "output_type": "stream",
     "text": [
      " 66%|██████▌   | 6624/10000 [00:34<00:17, 194.50it/s]"
     ]
    },
    {
     "name": "stdout",
     "output_type": "stream",
     "text": [
      "Epoch 6600, Loss 0.0030031732749193907, Data Loss 0.0027501413132995367, Residual Loss 0.00025303204893134534, D 10.738102912902832\n"
     ]
    },
    {
     "name": "stderr",
     "output_type": "stream",
     "text": [
      " 68%|██████▊   | 6824/10000 [00:35<00:16, 187.14it/s]"
     ]
    },
    {
     "name": "stdout",
     "output_type": "stream",
     "text": [
      "Epoch 6800, Loss 0.0029975695069879293, Data Loss 0.0027460516430437565, Residual Loss 0.0002515178930480033, D 10.758308410644531\n"
     ]
    },
    {
     "name": "stderr",
     "output_type": "stream",
     "text": [
      " 70%|███████   | 7034/10000 [00:36<00:16, 180.64it/s]"
     ]
    },
    {
     "name": "stdout",
     "output_type": "stream",
     "text": [
      "Epoch 7000, Loss 0.002991914749145508, Data Loss 0.00274195009842515, Residual Loss 0.00024996462161652744, D 10.778522491455078\n"
     ]
    },
    {
     "name": "stderr",
     "output_type": "stream",
     "text": [
      " 72%|███████▏  | 7232/10000 [00:37<00:14, 190.23it/s]"
     ]
    },
    {
     "name": "stdout",
     "output_type": "stream",
     "text": [
      "Epoch 7200, Loss 0.0029864334501326084, Data Loss 0.002738473005592823, Residual Loss 0.00024796041543595493, D 10.79874038696289\n"
     ]
    },
    {
     "name": "stderr",
     "output_type": "stream",
     "text": [
      " 74%|███████▍  | 7419/10000 [00:38<00:13, 197.57it/s]"
     ]
    },
    {
     "name": "stdout",
     "output_type": "stream",
     "text": [
      "Epoch 7400, Loss 0.002981878351420164, Data Loss 0.002738028299063444, Residual Loss 0.00024385000870097429, D 10.818958282470703\n"
     ]
    },
    {
     "name": "stderr",
     "output_type": "stream",
     "text": [
      " 76%|███████▌  | 7623/10000 [00:39<00:13, 179.83it/s]"
     ]
    },
    {
     "name": "stdout",
     "output_type": "stream",
     "text": [
      "Epoch 7600, Loss 0.002976302057504654, Data Loss 0.002730964682996273, Residual Loss 0.0002453373745083809, D 10.839176177978516\n"
     ]
    },
    {
     "name": "stderr",
     "output_type": "stream",
     "text": [
      " 78%|███████▊  | 7831/10000 [00:41<00:11, 190.73it/s]"
     ]
    },
    {
     "name": "stdout",
     "output_type": "stream",
     "text": [
      "Epoch 7800, Loss 0.002971821231767535, Data Loss 0.0027273311279714108, Residual Loss 0.00024449010379612446, D 10.859420776367188\n"
     ]
    },
    {
     "name": "stderr",
     "output_type": "stream",
     "text": [
      " 80%|████████  | 8035/10000 [00:42<00:10, 190.18it/s]"
     ]
    },
    {
     "name": "stdout",
     "output_type": "stream",
     "text": [
      "Epoch 8000, Loss 0.0029676659032702446, Data Loss 0.0027240740600973368, Residual Loss 0.000243591726757586, D 10.879798889160156\n"
     ]
    },
    {
     "name": "stderr",
     "output_type": "stream",
     "text": [
      " 82%|████████▏ | 8221/10000 [00:43<00:09, 187.03it/s]"
     ]
    },
    {
     "name": "stdout",
     "output_type": "stream",
     "text": [
      "Epoch 8200, Loss 0.0029638030100613832, Data Loss 0.002720869844779372, Residual Loss 0.00024293322348967195, D 10.90019416809082\n"
     ]
    },
    {
     "name": "stderr",
     "output_type": "stream",
     "text": [
      " 84%|████████▍ | 8422/10000 [00:44<00:07, 199.51it/s]"
     ]
    },
    {
     "name": "stdout",
     "output_type": "stream",
     "text": [
      "Epoch 8400, Loss 0.002960213692858815, Data Loss 0.0027180847246199846, Residual Loss 0.00024212889547925442, D 10.920591354370117\n"
     ]
    },
    {
     "name": "stderr",
     "output_type": "stream",
     "text": [
      " 86%|████████▋ | 8632/10000 [00:45<00:06, 203.63it/s]"
     ]
    },
    {
     "name": "stdout",
     "output_type": "stream",
     "text": [
      "Epoch 8600, Loss 0.002956847194582224, Data Loss 0.002714879345148802, Residual Loss 0.00024196776212193072, D 10.940984725952148\n"
     ]
    },
    {
     "name": "stderr",
     "output_type": "stream",
     "text": [
      " 88%|████████▊ | 8830/10000 [00:46<00:07, 156.98it/s]"
     ]
    },
    {
     "name": "stdout",
     "output_type": "stream",
     "text": [
      "Epoch 8800, Loss 0.002957524498924613, Data Loss 0.0027089565992355347, Residual Loss 0.0002485678414814174, D 10.961385726928711\n"
     ]
    },
    {
     "name": "stderr",
     "output_type": "stream",
     "text": [
      " 90%|█████████ | 9041/10000 [00:47<00:04, 193.75it/s]"
     ]
    },
    {
     "name": "stdout",
     "output_type": "stream",
     "text": [
      "Epoch 9000, Loss 0.002951072296127677, Data Loss 0.0027076362166553736, Residual Loss 0.00024343606492038816, D 10.981781959533691\n"
     ]
    },
    {
     "name": "stderr",
     "output_type": "stream",
     "text": [
      " 92%|█████████▏| 9222/10000 [00:48<00:04, 192.17it/s]"
     ]
    },
    {
     "name": "stdout",
     "output_type": "stream",
     "text": [
      "Epoch 9200, Loss 0.0029478261712938547, Data Loss 0.002707664156332612, Residual Loss 0.00024016205861698836, D 11.002032279968262\n"
     ]
    },
    {
     "name": "stderr",
     "output_type": "stream",
     "text": [
      " 94%|█████████▍| 9434/10000 [00:49<00:03, 183.60it/s]"
     ]
    },
    {
     "name": "stdout",
     "output_type": "stream",
     "text": [
      "Epoch 9400, Loss 0.002945102285593748, Data Loss 0.002705455757677555, Residual Loss 0.0002396465715719387, D 11.02225399017334\n"
     ]
    },
    {
     "name": "stderr",
     "output_type": "stream",
     "text": [
      " 96%|█████████▋| 9627/10000 [00:50<00:02, 183.79it/s]"
     ]
    },
    {
     "name": "stdout",
     "output_type": "stream",
     "text": [
      "Epoch 9600, Loss 0.002942497143521905, Data Loss 0.0027032564394176006, Residual Loss 0.0002392408059677109, D 11.042471885681152\n"
     ]
    },
    {
     "name": "stderr",
     "output_type": "stream",
     "text": [
      " 98%|█████████▊| 9826/10000 [00:51<00:00, 200.19it/s]"
     ]
    },
    {
     "name": "stdout",
     "output_type": "stream",
     "text": [
      "Epoch 9800, Loss 0.0029399225022643805, Data Loss 0.002701374003663659, Residual Loss 0.00023854855680838227, D 11.062689781188965\n"
     ]
    },
    {
     "name": "stderr",
     "output_type": "stream",
     "text": [
      "100%|██████████| 10000/10000 [00:52<00:00, 190.15it/s]\n"
     ]
    }
   ],
   "source": [
    "model = PINN(2, 20, 1, dtrue, ktrue).to(\"cuda\")\n",
    "model.train_model(xtrain, ctrain, epochs=10000)"
   ]
  },
  {
   "cell_type": "code",
   "execution_count": 52,
   "metadata": {},
   "outputs": [
    {
     "data": {
      "text/plain": [
       "10.687514305114746"
      ]
     },
     "execution_count": 52,
     "metadata": {},
     "output_type": "execute_result"
    }
   ],
   "source": [
    "model.D.item()"
   ]
  },
  {
   "cell_type": "code",
   "execution_count": 51,
   "metadata": {},
   "outputs": [
    {
     "name": "stdout",
     "output_type": "stream",
     "text": [
      "tensor(-1.6507e-05)\n"
     ]
    },
    {
     "data": {
      "image/png": "[encoded data removed]",
      "text/plain": [
       "<Figure size 640x480 with 1 Axes>"
      ]
     },
     "metadata": {},
     "output_type": "display_data"
    }
   ],
   "source": [
    "import matplotlib.pyplot as plt\n",
    "\n",
    "with torch.no_grad():\n",
    "    C_pred = model.forward(xtrain).cpu().numpy()\n",
    "    C_pred = C_pred.reshape((Nx, 100))\n",
    "    print(torch.mean(ctrain.cpu() - C_pred.flatten()))\n",
    "    plt.plot(ctrain.cpu().numpy()[0], label=\"True\")\n",
    "    plt.plot(C_pred[0], label=\"Predicted\")\n",
    "    plt.show()"
   ]
  },
  {
   "cell_type": "code",
   "execution_count": null,
   "metadata": {},
   "outputs": [],
   "source": []
  }
 ],
 "metadata": {
  "kernelspec": {
   "display_name": "Python (myenv)",
   "language": "python",
   "name": "torch"
  },
  "language_info": {
   "codemirror_mode": {
    "name": "ipython",
    "version": 3
   },
   "file_extension": ".py",
   "mimetype": "text/x-python",
   "name": "python",
   "nbconvert_exporter": "python",
   "pygments_lexer": "ipython3",
   "version": "3.12.3"
  }
 },
 "nbformat": 4,
 "nbformat_minor": 2
}
