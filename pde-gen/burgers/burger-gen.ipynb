{
  "cells": [
    {
      "cell_type": "markdown",
      "id": "3e7bb83c",
      "metadata": {
        "id": "3e7bb83c",
        "papermill": {
          "duration": 0.006659,
          "end_time": "2024-11-21T10:12:04.151495",
          "exception": false,
          "start_time": "2024-11-21T10:12:04.144836",
          "status": "completed"
        },
        "tags": []
      },
      "source": [
        "# Dataset Generation\n",
        "\n",
        "The code has been adopted from https://github.com/pdebench/PDEBench and necessary modifications have been made to add noise to the data. Burger's equation has been used as an example to show proof of concept. Noise added is a random choice between skewed normal and exponential noise."
      ]
    },
    {
      "cell_type": "code",
      "execution_count": 9,
      "id": "810e3e20",
      "metadata": {
        "_cell_guid": "9f4733be-28d9-4d0c-b312-1a931304fe41",
        "_uuid": "8e47167d-b504-40aa-a505-4517a078c464",
        "execution": {
          "iopub.execute_input": "2024-11-21T10:12:04.165498Z",
          "iopub.status.busy": "2024-11-21T10:12:04.164967Z",
          "iopub.status.idle": "2024-11-21T10:12:06.834302Z",
          "shell.execute_reply": "2024-11-21T10:12:06.833075Z"
        },
        "id": "810e3e20",
        "jupyter": {
          "outputs_hidden": false
        },
        "papermill": {
          "duration": 2.679258,
          "end_time": "2024-11-21T10:12:06.836887",
          "exception": false,
          "start_time": "2024-11-21T10:12:04.157629",
          "status": "completed"
        },
        "tags": []
      },
      "outputs": [],
      "source": [
        "from __future__ import annotations\n",
        "\n",
        "import sys\n",
        "import time\n",
        "from math import ceil\n",
        "import numpy as np\n",
        "import jax\n",
        "import jax.numpy as jnp\n",
        "from jax import device_put, lax\n",
        "\n",
        "import numpy as np\n",
        "import matplotlib.pyplot as plt\n",
        "import h5py\n",
        "from scipy.stats import skewnorm"
      ]
    },
    {
      "cell_type": "markdown",
      "id": "573fa516",
      "metadata": {
        "id": "573fa516",
        "papermill": {
          "duration": 0.005579,
          "end_time": "2024-11-21T10:12:06.848429",
          "exception": false,
          "start_time": "2024-11-21T10:12:06.842850",
          "status": "completed"
        },
        "tags": []
      },
      "source": [
        "## Initial Conditions\n",
        "\n",
        "This function initializes the initial condition of the PDE based on the specified mode.\n",
        "\n",
        "\n",
        "- if mode is `sin`, the initial condition is a sine wave.\n",
        "- if mode is `gaussian`, the initial condition is a Gaussian distribution.\n",
        "- if mode is `step`, the initial condition is a step function.\n",
        "- if mode is `possin`, the initial condition is a positive sine wave, in which the entire sine wave stays above zero\n",
        "- if mode is `sinsin`, the initial condition is a double sine wave, with each wave having a different frequency\n"
      ]
    },
    {
      "cell_type": "code",
      "execution_count": 10,
      "id": "2d34c185",
      "metadata": {
        "_cell_guid": "83c49a27-c872-47f9-8949-84ec4746720f",
        "_uuid": "1628030f-1851-40b0-b0e2-97cdf26db840",
        "execution": {
          "iopub.execute_input": "2024-11-21T10:12:06.862353Z",
          "iopub.status.busy": "2024-11-21T10:12:06.861806Z",
          "iopub.status.idle": "2024-11-21T10:12:06.872883Z",
          "shell.execute_reply": "2024-11-21T10:12:06.871758Z"
        },
        "id": "2d34c185",
        "jupyter": {
          "outputs_hidden": false
        },
        "papermill": {
          "duration": 0.020597,
          "end_time": "2024-11-21T10:12:06.875198",
          "exception": false,
          "start_time": "2024-11-21T10:12:06.854601",
          "status": "completed"
        },
        "tags": []
      },
      "outputs": [],
      "source": [
        "def _pass(carry):\n",
        "    return carry\n",
        "\n",
        "\n",
        "def init(xc, u0=1.0, du=0.1):\n",
        "    u = u0 * jnp.sin((xc + 1.0) * jnp.pi)\n",
        "    return u"
      ]
    },
    {
      "cell_type": "markdown",
      "id": "5a9b3a51",
      "metadata": {
        "id": "5a9b3a51",
        "papermill": {
          "duration": 0.005426,
          "end_time": "2024-11-21T10:12:06.887588",
          "exception": false,
          "start_time": "2024-11-21T10:12:06.882162",
          "status": "completed"
        },
        "tags": []
      },
      "source": [
        "## Courant Functions\n",
        "\n",
        "The Courant number, also known as the Courant-Friedrichs-Lewy (CFL) number, is a dimensionless number that plays a crucial role in the stability of numerical solutions to partial differential equations (PDEs). The Courant number is a critical parameter for ensuring the stability of numerical solutions to PDEs. It is used to determine appropriate time step sizes relative to the spatial grid size and the characteristic velocity or diffusion coefficient of the problem.\n",
        "\n",
        "`Courant` function calculates the Courant number for the given velocity field u and grid spacing dx.\n",
        "\n",
        "`Courant_diff` function calculates the Courant number for diffusion with the given grid spacing dx and diffusion coefficient epsilon."
      ]
    },
    {
      "cell_type": "code",
      "execution_count": 11,
      "id": "7475cab1",
      "metadata": {
        "_cell_guid": "75671f1c-fe8d-4b62-b498-11a2e91d5164",
        "_uuid": "947ada14-a205-4539-95ea-b88d57b09607",
        "execution": {
          "iopub.execute_input": "2024-11-21T10:12:06.900601Z",
          "iopub.status.busy": "2024-11-21T10:12:06.900220Z",
          "iopub.status.idle": "2024-11-21T10:12:06.905709Z",
          "shell.execute_reply": "2024-11-21T10:12:06.904542Z"
        },
        "id": "7475cab1",
        "jupyter": {
          "outputs_hidden": false
        },
        "papermill": {
          "duration": 0.014473,
          "end_time": "2024-11-21T10:12:06.907783",
          "exception": false,
          "start_time": "2024-11-21T10:12:06.893310",
          "status": "completed"
        },
        "tags": []
      },
      "outputs": [],
      "source": [
        "def Courant(u, dx):\n",
        "    stability_adv = dx / (jnp.max(jnp.abs(u)) + 1.0e-8)\n",
        "    return stability_adv\n",
        "\n",
        "\n",
        "def Courant_diff(dx, epsilon=1.0e-3):\n",
        "    stability_dif = 0.5 * dx**2 / (epsilon + 1.0e-8)\n",
        "    return stability_dif"
      ]
    },
    {
      "cell_type": "markdown",
      "id": "5b1f7e08",
      "metadata": {
        "id": "5b1f7e08",
        "papermill": {
          "duration": 0.005433,
          "end_time": "2024-11-21T10:12:06.918871",
          "exception": false,
          "start_time": "2024-11-21T10:12:06.913438",
          "status": "completed"
        },
        "tags": []
      },
      "source": [
        "## Noise Generation\n",
        "\n",
        "This function generates a noise array with random variability, to give us noisy data of different forms, to increase the robustness of the model to the noise.\n",
        "\n",
        "  - Randomly chooses between two noise types: **skew normal** or **exponential** distribution.  \n",
        "  - If a random value `a` < 0.5, uses  a skew normal distribution with skewness randomly selected between -5 and 5.  \n",
        "  - Otherwise, uses an exponential distribution with a scale randomly selected between 0 and 4.  \n",
        "- It returns the generated noise scaled by `noise_level`.  \n",
        "- It adds diverse noise patterns for training models under different conditions."
      ]
    },
    {
      "cell_type": "code",
      "execution_count": 12,
      "id": "cba7ddb4",
      "metadata": {
        "_cell_guid": "8d8b998b-7079-4bca-b4d9-fa7366586c84",
        "_uuid": "410eea1e-a15c-4c94-a8ea-9414ccf639fc",
        "execution": {
          "iopub.execute_input": "2024-11-21T10:12:06.931797Z",
          "iopub.status.busy": "2024-11-21T10:12:06.931402Z",
          "iopub.status.idle": "2024-11-21T10:12:06.937301Z",
          "shell.execute_reply": "2024-11-21T10:12:06.936339Z"
        },
        "id": "cba7ddb4",
        "jupyter": {
          "outputs_hidden": false
        },
        "papermill": {
          "duration": 0.014781,
          "end_time": "2024-11-21T10:12:06.939277",
          "exception": false,
          "start_time": "2024-11-21T10:12:06.924496",
          "status": "completed"
        },
        "tags": []
      },
      "outputs": [],
      "source": [
        "def generate_noise(shape, noise_level):\n",
        "    a = np.random.rand()\n",
        "    if a < 0.5:\n",
        "        parameter = np.random.uniform(-5, 5)\n",
        "        return skewnorm.rvs(a=parameter, size=shape) * noise_level\n",
        "    else:\n",
        "        parameter = np.random.uniform(0, 4)\n",
        "        return np.random.exponential(scale=parameter, size=shape) * noise_level"
      ]
    },
    {
      "cell_type": "markdown",
      "id": "9df1bce1",
      "metadata": {
        "id": "9df1bce1",
        "papermill": {
          "duration": 0.005344,
          "end_time": "2024-11-21T10:12:06.950355",
          "exception": false,
          "start_time": "2024-11-21T10:12:06.945011",
          "status": "completed"
        },
        "tags": []
      },
      "source": [
        "## Boundary Condtions\n",
        "\n",
        "- Implements boundary conditions for a 1D array with optional noise addition.  \n",
        "- Takes input array `u`, grid spacing, number of interior cells `Ncell`, boundary condition mode, noise level, and an optional flag to return the noise-free version.  \n",
        "- Adds noise to boundary cells using the `generate_noise` function.  \n",
        "- Periodic condition matches boundaries to opposite edges of the array.  \n",
        "- Returns the updated array and optionally the version without noise to store both noisy and noise free versions in the dataset.\n",
        "\n",
        "Periodic boundary conditions connect the boundaries of a system so that values at one edge match those at the opposite edge, creating a continuous, looped domain. This is useful for simulating systems with cyclic or infinite behavior. In the Burgers' equation, periodic boundary conditions are often applied to study wave propagation, shock formation, and turbulence in a confined, repeating space, ensuring smooth transitions at the domain edges without artificial boundary effects."
      ]
    },
    {
      "cell_type": "code",
      "execution_count": 13,
      "id": "c919f24a",
      "metadata": {
        "_cell_guid": "680454b4-4851-40d3-bb2d-98fbfd552d46",
        "_uuid": "c4532280-b459-466d-a3d6-27a061c7e7ff",
        "execution": {
          "iopub.execute_input": "2024-11-21T10:12:06.962956Z",
          "iopub.status.busy": "2024-11-21T10:12:06.962581Z",
          "iopub.status.idle": "2024-11-21T10:12:06.969675Z",
          "shell.execute_reply": "2024-11-21T10:12:06.968591Z"
        },
        "id": "c919f24a",
        "jupyter": {
          "outputs_hidden": false
        },
        "papermill": {
          "duration": 0.016156,
          "end_time": "2024-11-21T10:12:06.971973",
          "exception": false,
          "start_time": "2024-11-21T10:12:06.955817",
          "status": "completed"
        },
        "tags": []
      },
      "outputs": [],
      "source": [
        "def bc(u, Ncell, mode=\"periodic\", noise_level=0.0):\n",
        "    _u = jnp.zeros(Ncell + 4)\n",
        "    _u = _u.at[2 : Ncell + 2].set(u)\n",
        "    if mode == \"periodic\":\n",
        "        _u = _u.at[0:2].set(u[-2:])  # Use .at for indexing in JAX\n",
        "        _u = _u.at[Ncell + 2 : Ncell + 4].set(u[0:2])  # Use .at for indexing in JAX\n",
        "    return _u"
      ]
    },
    {
      "cell_type": "markdown",
      "id": "af159939",
      "metadata": {
        "id": "af159939",
        "papermill": {
          "duration": 0.005377,
          "end_time": "2024-11-21T10:12:06.983040",
          "exception": false,
          "start_time": "2024-11-21T10:12:06.977663",
          "status": "completed"
        },
        "tags": []
      },
      "source": [
        "## Van Leer limiter function\n",
        "\n",
        "This code applies a **Van Leer limiter** to reconstruct left (`uL`) and right (`uR`) states of a solution variable `u` for finite volume methods. The `VLlimiter` limits gradients (`gradu`) between cells to ensure stability and avoid oscillations near discontinuities. These reconstructed states are used to compute numerical fluxes in PDE solvers, particularly for hyperbolic or conservation-law equations, enabling stable and accurate updates of the solution."
      ]
    },
    {
      "cell_type": "code",
      "execution_count": 14,
      "id": "09f64b25",
      "metadata": {
        "_cell_guid": "d81dd224-83b7-4349-b77e-78100496db89",
        "_uuid": "a1cd5632-fb1a-4ab7-8e0f-29c3c4c082de",
        "execution": {
          "iopub.execute_input": "2024-11-21T10:12:06.995948Z",
          "iopub.status.busy": "2024-11-21T10:12:06.995573Z",
          "iopub.status.idle": "2024-11-21T10:12:07.003921Z",
          "shell.execute_reply": "2024-11-21T10:12:07.002692Z"
        },
        "id": "09f64b25",
        "jupyter": {
          "outputs_hidden": false
        },
        "papermill": {
          "duration": 0.017808,
          "end_time": "2024-11-21T10:12:07.006404",
          "exception": false,
          "start_time": "2024-11-21T10:12:06.988596",
          "status": "completed"
        },
        "tags": []
      },
      "outputs": [],
      "source": [
        "def VLlimiter(a, b, c, alpha=2.0):\n",
        "    return (\n",
        "        jnp.sign(c)\n",
        "        * (0.5 + 0.5 * jnp.sign(a * b))\n",
        "        * jnp.minimum(alpha * jnp.minimum(jnp.abs(a), jnp.abs(b)), jnp.abs(c))\n",
        "    )\n",
        "\n",
        "\n",
        "def limiting(u, Ncell, if_second_order):\n",
        "    du_L = u[1 : Ncell + 3] - u[0 : Ncell + 2]\n",
        "    du_R = u[2 : Ncell + 4] - u[1 : Ncell + 3]\n",
        "    du_M = (u[2 : Ncell + 4] - u[0 : Ncell + 2]) * 0.5\n",
        "    gradu = VLlimiter(du_L, du_R, du_M) * if_second_order\n",
        "    uL, uR = jnp.zeros_like(u), jnp.zeros_like(u)\n",
        "    uL = uL.at[1 : Ncell + 3].set(u[1 : Ncell + 3] - 0.5 * gradu)\n",
        "    uR = uR.at[1 : Ncell + 3].set(u[1 : Ncell + 3] + 0.5 * gradu)\n",
        "    return uL, uR"
      ]
    },
    {
      "cell_type": "markdown",
      "id": "257e998e",
      "metadata": {
        "id": "257e998e",
        "papermill": {
          "duration": 0.005336,
          "end_time": "2024-11-21T10:12:07.017485",
          "exception": false,
          "start_time": "2024-11-21T10:12:07.012149",
          "status": "completed"
        },
        "tags": []
      },
      "source": [
        "## Parameters\n",
        "\n",
        "- `dt_save`: Time interval for saving simulation results.  \n",
        "- `ini_time`: Initial time of the simulation.  \n",
        "- `fin_time`: Final time of the simulation.  \n",
        "- `nx`: Number of grid points in the spatial domain.  \n",
        "- `xL`: Left boundary of the spatial domain.  \n",
        "- `xR`: Right boundary of the spatial domain.  \n",
        "- `if_second_order`: Flag to enable or disable second-order accuracy in calculations.  \n",
        "- `show_steps`: Frequency of displaying or outputting simulation results.  "
      ]
    },
    {
      "cell_type": "code",
      "execution_count": 15,
      "id": "b36bac47",
      "metadata": {
        "_cell_guid": "c58b81ad-527c-4de5-a296-840fceaf5453",
        "_uuid": "85932362-f1a0-4fe0-b40c-67cb73ebdc3c",
        "execution": {
          "iopub.execute_input": "2024-11-21T10:12:07.030272Z",
          "iopub.status.busy": "2024-11-21T10:12:07.029862Z",
          "iopub.status.idle": "2024-11-21T10:12:07.035193Z",
          "shell.execute_reply": "2024-11-21T10:12:07.033987Z"
        },
        "id": "b36bac47",
        "jupyter": {
          "outputs_hidden": false
        },
        "papermill": {
          "duration": 0.014269,
          "end_time": "2024-11-21T10:12:07.037239",
          "exception": false,
          "start_time": "2024-11-21T10:12:07.022970",
          "status": "completed"
        },
        "tags": []
      },
      "outputs": [],
      "source": [
        "dt_save = 0.01\n",
        "ini_time = 0.0\n",
        "fin_time = 2.0\n",
        "nx = 1024\n",
        "xL = -1.0\n",
        "xR = 1.0\n",
        "if_second_order = 1.0\n",
        "show_steps = 100"
      ]
    },
    {
      "cell_type": "markdown",
      "id": "c587f57c",
      "metadata": {
        "id": "c587f57c",
        "papermill": {
          "duration": 0.005378,
          "end_time": "2024-11-21T10:12:07.048143",
          "exception": false,
          "start_time": "2024-11-21T10:12:07.042765",
          "status": "completed"
        },
        "tags": []
      },
      "source": [
        "## Spatial and Temporal Grids\n",
        "\n",
        "This code computes spatial and temporal grids for a numerical simulation:\n",
        "\n",
        "- `dx`: Calculates the spatial resolution (grid spacing) as the total domain length divided by the number of grid points (`nx`).  \n",
        "- `xe`: Generates the **edge coordinates** of the grid points using `jnp.linspace`, creating `nx + 1` evenly spaced points between `xL` and `xR`.  \n",
        "- `xc`: Computes the **center coordinates** of each grid cell by averaging adjacent edge coordinates (`xe[:-1] + 0.5 * dx`).  \n",
        "- `it_tot`: Determines the total number of time steps to save results, based on the total simulation time and saving interval (`dt_save`).  \n",
        "- `tc`: Creates the time array for saved outputs, with `it_tot + 1` evenly spaced time values starting from 0."
      ]
    },
    {
      "cell_type": "code",
      "execution_count": 16,
      "id": "e4d3000a",
      "metadata": {
        "_cell_guid": "603651c0-ef0e-4984-a4ce-ebe950cab557",
        "_uuid": "bd3c3d3a-2c49-4fac-9aad-8c06a4a10ed0",
        "execution": {
          "iopub.execute_input": "2024-11-21T10:12:07.060741Z",
          "iopub.status.busy": "2024-11-21T10:12:07.060330Z",
          "iopub.status.idle": "2024-11-21T10:12:07.764950Z",
          "shell.execute_reply": "2024-11-21T10:12:07.763796Z"
        },
        "id": "e4d3000a",
        "jupyter": {
          "outputs_hidden": false
        },
        "papermill": {
          "duration": 0.71384,
          "end_time": "2024-11-21T10:12:07.767373",
          "exception": false,
          "start_time": "2024-11-21T10:12:07.053533",
          "status": "completed"
        },
        "tags": []
      },
      "outputs": [],
      "source": [
        "dx = (xR - xL) / nx\n",
        "xe = jnp.linspace(xL, xR, nx + 1)\n",
        "xc = xe[:-1] + 0.5 * dx\n",
        "it_tot = ceil((fin_time - ini_time) / dt_save) + 1\n",
        "tc = jnp.arange(it_tot + 1) * dt_save"
      ]
    },
    {
      "cell_type": "markdown",
      "id": "9655ab7f",
      "metadata": {
        "id": "9655ab7f",
        "papermill": {
          "duration": 0.005405,
          "end_time": "2024-11-21T10:12:07.778390",
          "exception": false,
          "start_time": "2024-11-21T10:12:07.772985",
          "status": "completed"
        },
        "tags": []
      },
      "source": [
        "## Hierarchial Storage\n",
        "\n",
        "HDF5 (`h5py`) is used here for efficiently storing and organizing simulation data in a structured and portable format. The reasons for using HDF5 in this case are:\n",
        "\n",
        "- **Hierarchical Organization**: The `coords` group organizes data logically, making it easy to manage related datasets (e.g., `x-coordinates` and `t-coordinates`).  \n",
        "- **Scalability**: HDF5 handles large datasets efficiently, which is useful for high-resolution simulations like this one (`nx = 1024`, potentially large time arrays).  \n",
        "\n",
        "The spatial (`xc`) and temporal (`tc`) coordinates are saved for later use or analysis in a structured and accessible way."
      ]
    },
    {
      "cell_type": "code",
      "execution_count": 9,
      "id": "572330b5",
      "metadata": {
        "_cell_guid": "46a81215-a967-4cd0-99d0-3cd8eef95b23",
        "_uuid": "fdda715d-e7d1-4fa2-881b-298ffaffeff8",
        "execution": {
          "iopub.execute_input": "2024-11-21T10:12:07.790955Z",
          "iopub.status.busy": "2024-11-21T10:12:07.790587Z",
          "iopub.status.idle": "2024-11-21T10:12:07.800431Z",
          "shell.execute_reply": "2024-11-21T10:12:07.799464Z"
        },
        "id": "572330b5",
        "jupyter": {
          "outputs_hidden": false
        },
        "papermill": {
          "duration": 0.018565,
          "end_time": "2024-11-21T10:12:07.802427",
          "exception": false,
          "start_time": "2024-11-21T10:12:07.783862",
          "status": "completed"
        },
        "tags": []
      },
      "outputs": [],
      "source": [
        "with h5py.File(\"simulation_data.h5\", \"w\") as g:\n",
        "    f = g.create_group(\"coords\")\n",
        "    f.create_dataset(\"x-coordinates\", data=xc)\n",
        "    f.create_dataset(\"t-coordinates\", data=tc)\n",
        "    g.close()"
      ]
    },
    {
      "cell_type": "markdown",
      "id": "bafef483",
      "metadata": {
        "id": "bafef483",
        "papermill": {
          "duration": 0.005274,
          "end_time": "2024-11-21T10:12:07.813339",
          "exception": false,
          "start_time": "2024-11-21T10:12:07.808065",
          "status": "completed"
        },
        "tags": []
      },
      "source": [
        "## **Dataset Generation function**  \n",
        "\n",
        "The main `gen` function generates simulation data for a PDE with configurable physical parameters and noise settings. It initializes the solution with or without noise, evolves the system over time for both cases, and stores the results (e.g., solution states, boundary conditions, and parameters) in an HDF5 file. This enables efficient storage, reproducibility, and analysis of clean and noisy simulations for future training.\n",
        "\n",
        "Parameters like viscosity(`epsilon`), `init-mode` that influence the exact behaviour of the system are randomised over a range to give us a robust dataset that represents the equation over a very wide range of physical regimes."
      ]
    },
    {
      "cell_type": "markdown",
      "id": "dfdd8099",
      "metadata": {
        "id": "dfdd8099",
        "papermill": {
          "duration": 0.005348,
          "end_time": "2024-11-21T10:12:07.824934",
          "exception": false,
          "start_time": "2024-11-21T10:12:07.819586",
          "status": "completed"
        },
        "tags": []
      },
      "source": [
        "### Inner Functions\n",
        "\n",
        "- **`evolve`**: This function handles the temporal evolution of the solution array `u` by repeatedly applying the time-stepping logic in `simulation_fn` until the final simulation time is reached. It saves intermediate results at specified time intervals (`dt_save`) and handles clean and noisy simulations separately by incorporating noise levels. The function ensures efficient looping using `jax.lax.while_loop` for compatibility with JAX's just-in-time (JIT) compilation.\n",
        "\n",
        "- **`simulation_fn`**: This function manages a single time step of the simulation. It calculates the time step size (`dt`) based on CFL constraints for advection and diffusion processes, applies the `update` function to compute the next state of `u`, and updates the time and step counters. It ensures the stability and consistency of the numerical solution through careful time-stepping.\n",
        "\n",
        "- **`update`**: This function applies a two-stage time-stepping scheme to update the solution array `u`. It computes numerical fluxes using the `flux` function and incorporates noise at each stage if specified. The result is a stable numerical integration of the PDE over one time step, accounting for noise in both the flux and the governing equation.\n",
        "\n",
        "- **`flux`**: This function calculates the fluxes needed to solve the PDE using an upwind scheme for stability and accuracy. It applies boundary conditions via the `bc` function and uses slope limiting with the `limiting` function to prevent unphysical oscillations. Additionally, it includes a source term for diffusion and optional noise to simulate variability in the flux.\n",
        "\n",
        "- **`bc`**: This function defines the boundary conditions for the solution array `u`, such as periodic or reflective boundaries, and optionally adds noise to the boundary values. It ensures that the boundaries are correctly set for accurate flux calculations and consistent evolution of the PDE."
      ]
    },
    {
      "cell_type": "code",
      "execution_count": 17,
      "id": "74a4bd39",
      "metadata": {
        "_cell_guid": "62c217f4-9872-4f7e-9659-646573dde0ae",
        "_uuid": "8e84ef8e-22c7-410c-b60d-5f6bf944cb51",
        "execution": {
          "iopub.execute_input": "2024-11-21T10:12:07.838601Z",
          "iopub.status.busy": "2024-11-21T10:12:07.838217Z",
          "iopub.status.idle": "2024-11-21T10:12:07.862219Z",
          "shell.execute_reply": "2024-11-21T10:12:07.861074Z"
        },
        "id": "74a4bd39",
        "jupyter": {
          "outputs_hidden": false
        },
        "papermill": {
          "duration": 0.033921,
          "end_time": "2024-11-21T10:12:07.864607",
          "exception": false,
          "start_time": "2024-11-21T10:12:07.830686",
          "status": "completed"
        },
        "tags": []
      },
      "outputs": [],
      "source": [
        "def gen(path) -> None:\n",
        "    epsilon = np.random.uniform(1.0e-4, 1.0e-1)\n",
        "    u0 = np.random.uniform(0.5, 2.0)\n",
        "    du = np.random.uniform(0.0, 0.5)\n",
        "    CFL = np.random.uniform(0.1, 0.9)\n",
        "    noise_level = np.random.uniform(0.0, 0.5)\n",
        "\n",
        "    pi_inv = 1.0 / jnp.pi\n",
        "    dx = (xR - xL) / nx\n",
        "    dx_inv = 1.0 / dx\n",
        "\n",
        "    @jax.jit\n",
        "    def evolve(u, noise_level=0.0, equation_noise_level=0.0):\n",
        "        t = ini_time\n",
        "        tsave = t\n",
        "        steps = 0\n",
        "        i_save = 0\n",
        "        dt = 0.0\n",
        "        uu = jnp.zeros([it_tot, u.shape[0]])\n",
        "        uu = uu.at[0].set(u)\n",
        "\n",
        "        tm_ini = time.time()\n",
        "\n",
        "        cond_fun = lambda x: x[0] < fin_time\n",
        "\n",
        "        def _body_fun(carry):\n",
        "            def _save(_carry):\n",
        "                u, tsave, i_save, uu = _carry\n",
        "                uu = uu.at[i_save].set(u)\n",
        "                tsave += dt_save\n",
        "                i_save += 1\n",
        "                return (u, tsave, i_save, uu)\n",
        "\n",
        "            t, tsave, steps, i_save, dt, u, uu = carry\n",
        "\n",
        "            # if save data\n",
        "            carry = (u, tsave, i_save, uu)\n",
        "            u, tsave, i_save, uu = lax.cond(t >= tsave, _save, _pass, carry)\n",
        "\n",
        "            # Pass noise levels to simulation_fn here\n",
        "            carry = (u, t, dt, steps, tsave)\n",
        "            u, t, dt, steps, tsave = lax.fori_loop(\n",
        "                0,\n",
        "                show_steps,\n",
        "                lambda i, carry: simulation_fn(\n",
        "                    i, carry, noise_level, equation_noise_level\n",
        "                ),\n",
        "                carry,\n",
        "            )\n",
        "            return (t, tsave, steps, i_save, dt, u, uu)\n",
        "\n",
        "        carry = t, tsave, steps, i_save, dt, u, uu\n",
        "        t, tsave, steps, i_save, dt, u, uu = lax.while_loop(cond_fun, _body_fun, carry)\n",
        "        uu = uu.at[-1].set(u)\n",
        "\n",
        "        tm_fin = time.time()\n",
        "        return uu, t\n",
        "\n",
        "    @jax.jit\n",
        "    def simulation_fn(i, carry, noise_level=0.0, equation_noise_level=0.0):\n",
        "        u, t, dt, steps, tsave = carry\n",
        "        dt_adv = Courant(u, dx) * CFL\n",
        "        dt_dif = Courant_diff(dx, epsilon * pi_inv) * CFL\n",
        "        dt = jnp.min(jnp.array([dt_adv, dt_dif, fin_time - t, tsave - t]))\n",
        "\n",
        "        def _update(carry):\n",
        "            u, dt = carry\n",
        "            u_tmp = update(u, u, dt * 0.5, noise_level, equation_noise_level)\n",
        "            u = update(u, u_tmp, dt, noise_level, equation_noise_level)\n",
        "            return u, dt\n",
        "\n",
        "        carry = u, dt\n",
        "        u, dt = lax.cond(dt > 1.0e-8, _update, _pass, carry)\n",
        "\n",
        "        t += dt\n",
        "        steps += 1\n",
        "        return u, t, dt, steps, tsave\n",
        "\n",
        "    @jax.jit\n",
        "    def update(u, u_tmp, dt, noise_level=0.0, equation_noise_level=0.0):\n",
        "        f = flux(u_tmp, noise_level)\n",
        "        noise = generate_noise(f.shape, equation_noise_level)\n",
        "        f = f + noise  # Add noise to the flux\n",
        "        u -= dt * dx_inv * (f[1 : nx + 1] - f[0:nx])\n",
        "        return u\n",
        "\n",
        "    def flux(u, noise_level=0.0):\n",
        "        _u = bc(\n",
        "            u, Ncell=nx, noise_level=noise_level\n",
        "        )  # index 2 for _U is equivalent with index 0 for u\n",
        "        uL, uR = limiting(_u, nx, if_second_order=if_second_order)\n",
        "        fL = 0.5 * uL**2\n",
        "        fR = 0.5 * uR**2\n",
        "        # Upwind advection scheme\n",
        "        f_upwd = 0.5 * (\n",
        "            fR[1 : nx + 2]\n",
        "            + fL[2 : nx + 3]\n",
        "            - 0.5\n",
        "            * jnp.abs(uL[2 : nx + 3] + uR[1 : nx + 2])\n",
        "            * (uL[2 : nx + 3] - uR[1 : nx + 2])\n",
        "        )\n",
        "        # Source term\n",
        "        f_upwd += -epsilon * pi_inv * (_u[2 : nx + 3] - _u[1 : nx + 2]) * dx_inv\n",
        "        return f_upwd\n",
        "\n",
        "    # Initialize the solution without noise\n",
        "    u = init(xc=xc, u0=u0, du=du)\n",
        "\n",
        "    # Add noise to the initial condition\n",
        "    noise = generate_noise(u.shape, noise_level)\n",
        "    u_noisy = u + noise\n",
        "\n",
        "    # Evolve the solution without noise\n",
        "    u_clean = device_put(u)  # Putting variables in GPU (not necessary??)\n",
        "    uu_clean, t_clean = evolve(u_clean)\n",
        "\n",
        "\n",
        "\n",
        "    with h5py.File(\"simulation_data.h5\", \"a\") as g:\n",
        "        f = g.create_group(f\"{path}\")\n",
        "        f.create_dataset(\"epsilon\", data=epsilon)\n",
        "        f.create_dataset(\"u0\", data=u0)\n",
        "        f.create_dataset(\"du\", data=du)\n",
        "        f.create_dataset(\"CFL\", data=CFL)\n",
        "        f.create_dataset(\"clean\", data=uu_clean)\n",
        "        g.close()"
      ]
    },
    {
      "cell_type": "markdown",
      "id": "be7aa904",
      "metadata": {
        "id": "be7aa904",
        "papermill": {
          "duration": 0.005413,
          "end_time": "2024-11-21T10:12:07.877258",
          "exception": false,
          "start_time": "2024-11-21T10:12:07.871845",
          "status": "completed"
        },
        "tags": []
      },
      "source": [
        "100 samples are generated for future training."
      ]
    },
    {
      "cell_type": "code",
      "execution_count": 18,
      "id": "4e3a0f71",
      "metadata": {
        "_cell_guid": "0e0fe78b-2e6a-44df-a945-778aa4f37914",
        "_uuid": "48635ee8-6340-41a0-8f93-a4a74956847f",
        "colab": {
          "base_uri": "https://localhost:8080/"
        },
        "execution": {
          "iopub.execute_input": "2024-11-21T10:12:07.890820Z",
          "iopub.status.busy": "2024-11-21T10:12:07.889853Z",
          "iopub.status.idle": "2024-11-21T10:24:06.221440Z",
          "shell.execute_reply": "2024-11-21T10:24:06.219704Z"
        },
        "id": "4e3a0f71",
        "jupyter": {
          "outputs_hidden": false
        },
        "outputId": "268b4d86-4dd1-4fdc-d8f4-eab1f5e6b0f7",
        "papermill": {
          "duration": 718.350826,
          "end_time": "2024-11-21T10:24:06.233729",
          "exception": false,
          "start_time": "2024-11-21T10:12:07.882903",
          "status": "completed"
        },
        "tags": []
      },
      "outputs": [
        {
          "name": "stdout",
          "output_type": "stream",
          "text": [
            "Running simulation 1/100\n",
            "Running simulation 2/100\n",
            "Running simulation 3/100\n",
            "Running simulation 4/100\n",
            "Running simulation 5/100\n",
            "Running simulation 6/100\n",
            "Running simulation 7/100\n",
            "Running simulation 8/100\n",
            "Running simulation 9/100\n",
            "Running simulation 10/100\n",
            "Running simulation 11/100\n",
            "Running simulation 12/100\n",
            "Running simulation 13/100\n",
            "Running simulation 14/100\n",
            "Running simulation 15/100\n",
            "Running simulation 16/100\n",
            "Running simulation 17/100\n",
            "Running simulation 18/100\n",
            "Running simulation 19/100\n",
            "Running simulation 20/100\n",
            "Running simulation 21/100\n",
            "Running simulation 22/100\n",
            "Running simulation 23/100\n",
            "Running simulation 24/100\n",
            "Running simulation 25/100\n",
            "Running simulation 26/100\n",
            "Running simulation 27/100\n",
            "Running simulation 28/100\n",
            "Running simulation 29/100\n",
            "Running simulation 30/100\n",
            "Running simulation 31/100\n",
            "Running simulation 32/100\n",
            "Running simulation 33/100\n",
            "Running simulation 34/100\n",
            "Running simulation 35/100\n",
            "Running simulation 36/100\n",
            "Running simulation 37/100\n",
            "Running simulation 38/100\n",
            "Running simulation 39/100\n",
            "Running simulation 40/100\n",
            "Running simulation 41/100\n",
            "Running simulation 42/100\n",
            "Running simulation 43/100\n",
            "Running simulation 44/100\n",
            "Running simulation 45/100\n",
            "Running simulation 46/100\n",
            "Running simulation 47/100\n",
            "Running simulation 48/100\n",
            "Running simulation 49/100\n",
            "Running simulation 50/100\n",
            "Running simulation 51/100\n",
            "Running simulation 52/100\n",
            "Running simulation 53/100\n",
            "Running simulation 54/100\n",
            "Running simulation 55/100\n",
            "Running simulation 56/100\n",
            "Running simulation 57/100\n",
            "Running simulation 58/100\n",
            "Running simulation 59/100\n",
            "Running simulation 60/100\n",
            "Running simulation 61/100\n",
            "Running simulation 62/100\n",
            "Running simulation 63/100\n",
            "Running simulation 64/100\n",
            "Running simulation 65/100\n",
            "Running simulation 66/100\n",
            "Running simulation 67/100\n",
            "Running simulation 68/100\n",
            "Running simulation 69/100\n",
            "Running simulation 70/100\n",
            "Running simulation 71/100\n",
            "Running simulation 72/100\n",
            "Running simulation 73/100\n",
            "Running simulation 74/100\n",
            "Running simulation 75/100\n",
            "Running simulation 76/100\n",
            "Running simulation 77/100\n",
            "Running simulation 78/100\n",
            "Running simulation 79/100\n",
            "Running simulation 80/100\n",
            "Running simulation 81/100\n"
          ]
        },
        {
          "ename": "KeyboardInterrupt",
          "evalue": "",
          "output_type": "error",
          "traceback": [
            "\u001b[0;31m---------------------------------------------------------------------------\u001b[0m",
            "\u001b[0;31mKeyboardInterrupt\u001b[0m                         Traceback (most recent call last)",
            "Cell \u001b[0;32mIn[18], line 3\u001b[0m\n\u001b[1;32m      1\u001b[0m \u001b[38;5;28;01mfor\u001b[39;00m i \u001b[38;5;129;01min\u001b[39;00m \u001b[38;5;28mrange\u001b[39m(\u001b[38;5;241m1000\u001b[39m):\n\u001b[1;32m      2\u001b[0m     \u001b[38;5;28mprint\u001b[39m(\u001b[38;5;124mf\u001b[39m\u001b[38;5;124m\"\u001b[39m\u001b[38;5;124mRunning simulation \u001b[39m\u001b[38;5;132;01m{\u001b[39;00mi\u001b[38;5;250m \u001b[39m\u001b[38;5;241m+\u001b[39m\u001b[38;5;250m \u001b[39m\u001b[38;5;241m1\u001b[39m\u001b[38;5;132;01m}\u001b[39;00m\u001b[38;5;124m/100\u001b[39m\u001b[38;5;124m\"\u001b[39m)\n\u001b[0;32m----> 3\u001b[0m     \u001b[43mgen\u001b[49m\u001b[43m(\u001b[49m\u001b[43mi\u001b[49m\u001b[43m)\u001b[49m\n",
            "Cell \u001b[0;32mIn[17], line 125\u001b[0m, in \u001b[0;36mgen\u001b[0;34m(path)\u001b[0m\n\u001b[1;32m    123\u001b[0m f\u001b[38;5;241m.\u001b[39mcreate_dataset(\u001b[38;5;124m\"\u001b[39m\u001b[38;5;124mdu\u001b[39m\u001b[38;5;124m\"\u001b[39m, data\u001b[38;5;241m=\u001b[39mdu)\n\u001b[1;32m    124\u001b[0m f\u001b[38;5;241m.\u001b[39mcreate_dataset(\u001b[38;5;124m\"\u001b[39m\u001b[38;5;124mCFL\u001b[39m\u001b[38;5;124m\"\u001b[39m, data\u001b[38;5;241m=\u001b[39mCFL)\n\u001b[0;32m--> 125\u001b[0m \u001b[43mf\u001b[49m\u001b[38;5;241;43m.\u001b[39;49m\u001b[43mcreate_dataset\u001b[49m\u001b[43m(\u001b[49m\u001b[38;5;124;43m\"\u001b[39;49m\u001b[38;5;124;43mclean\u001b[39;49m\u001b[38;5;124;43m\"\u001b[39;49m\u001b[43m,\u001b[49m\u001b[43m \u001b[49m\u001b[43mdata\u001b[49m\u001b[38;5;241;43m=\u001b[39;49m\u001b[43muu_clean\u001b[49m\u001b[43m)\u001b[49m\n\u001b[1;32m    126\u001b[0m g\u001b[38;5;241m.\u001b[39mclose()\n",
            "File \u001b[0;32m~/projects/torch/lib/python3.12/site-packages/h5py/_hl/group.py:183\u001b[0m, in \u001b[0;36mGroup.create_dataset\u001b[0;34m(self, name, shape, dtype, data, **kwds)\u001b[0m\n\u001b[1;32m    180\u001b[0m         parent_path, name \u001b[38;5;241m=\u001b[39m name\u001b[38;5;241m.\u001b[39mrsplit(\u001b[38;5;124mb\u001b[39m\u001b[38;5;124m'\u001b[39m\u001b[38;5;124m/\u001b[39m\u001b[38;5;124m'\u001b[39m, \u001b[38;5;241m1\u001b[39m)\n\u001b[1;32m    181\u001b[0m         group \u001b[38;5;241m=\u001b[39m \u001b[38;5;28mself\u001b[39m\u001b[38;5;241m.\u001b[39mrequire_group(parent_path)\n\u001b[0;32m--> 183\u001b[0m dsid \u001b[38;5;241m=\u001b[39m \u001b[43mdataset\u001b[49m\u001b[38;5;241;43m.\u001b[39;49m\u001b[43mmake_new_dset\u001b[49m\u001b[43m(\u001b[49m\u001b[43mgroup\u001b[49m\u001b[43m,\u001b[49m\u001b[43m \u001b[49m\u001b[43mshape\u001b[49m\u001b[43m,\u001b[49m\u001b[43m \u001b[49m\u001b[43mdtype\u001b[49m\u001b[43m,\u001b[49m\u001b[43m \u001b[49m\u001b[43mdata\u001b[49m\u001b[43m,\u001b[49m\u001b[43m \u001b[49m\u001b[43mname\u001b[49m\u001b[43m,\u001b[49m\u001b[43m \u001b[49m\u001b[38;5;241;43m*\u001b[39;49m\u001b[38;5;241;43m*\u001b[39;49m\u001b[43mkwds\u001b[49m\u001b[43m)\u001b[49m\n\u001b[1;32m    184\u001b[0m dset \u001b[38;5;241m=\u001b[39m dataset\u001b[38;5;241m.\u001b[39mDataset(dsid)\n\u001b[1;32m    185\u001b[0m \u001b[38;5;28;01mreturn\u001b[39;00m dset\n",
            "File \u001b[0;32m~/projects/torch/lib/python3.12/site-packages/h5py/_hl/dataset.py:47\u001b[0m, in \u001b[0;36mmake_new_dset\u001b[0;34m(parent, shape, dtype, data, name, chunks, compression, shuffle, fletcher32, maxshape, compression_opts, fillvalue, scaleoffset, track_times, external, track_order, dcpl, dapl, efile_prefix, virtual_prefix, allow_unknown_filter, rdcc_nslots, rdcc_nbytes, rdcc_w0, fill_time)\u001b[0m\n\u001b[1;32m     45\u001b[0m \u001b[38;5;66;03m# Convert data to a C-contiguous ndarray\u001b[39;00m\n\u001b[1;32m     46\u001b[0m \u001b[38;5;28;01mif\u001b[39;00m data \u001b[38;5;129;01mis\u001b[39;00m \u001b[38;5;129;01mnot\u001b[39;00m \u001b[38;5;28;01mNone\u001b[39;00m \u001b[38;5;129;01mand\u001b[39;00m \u001b[38;5;129;01mnot\u001b[39;00m \u001b[38;5;28misinstance\u001b[39m(data, Empty):\n\u001b[0;32m---> 47\u001b[0m     data \u001b[38;5;241m=\u001b[39m \u001b[43marray_for_new_object\u001b[49m\u001b[43m(\u001b[49m\u001b[43mdata\u001b[49m\u001b[43m,\u001b[49m\u001b[43m \u001b[49m\u001b[43mspecified_dtype\u001b[49m\u001b[38;5;241;43m=\u001b[39;49m\u001b[43mdtype\u001b[49m\u001b[43m)\u001b[49m\n\u001b[1;32m     49\u001b[0m \u001b[38;5;66;03m# Validate shape\u001b[39;00m\n\u001b[1;32m     50\u001b[0m \u001b[38;5;28;01mif\u001b[39;00m shape \u001b[38;5;129;01mis\u001b[39;00m \u001b[38;5;28;01mNone\u001b[39;00m:\n",
            "File \u001b[0;32m~/projects/torch/lib/python3.12/site-packages/h5py/_hl/base.py:118\u001b[0m, in \u001b[0;36marray_for_new_object\u001b[0;34m(data, specified_dtype)\u001b[0m\n\u001b[1;32m    115\u001b[0m \u001b[38;5;28;01melse\u001b[39;00m:\n\u001b[1;32m    116\u001b[0m     as_dtype \u001b[38;5;241m=\u001b[39m guess_dtype(data)\n\u001b[0;32m--> 118\u001b[0m data \u001b[38;5;241m=\u001b[39m \u001b[43mnp\u001b[49m\u001b[38;5;241;43m.\u001b[39;49m\u001b[43masarray\u001b[49m\u001b[43m(\u001b[49m\u001b[43mdata\u001b[49m\u001b[43m,\u001b[49m\u001b[43m \u001b[49m\u001b[43morder\u001b[49m\u001b[38;5;241;43m=\u001b[39;49m\u001b[38;5;124;43m\"\u001b[39;49m\u001b[38;5;124;43mC\u001b[39;49m\u001b[38;5;124;43m\"\u001b[39;49m\u001b[43m,\u001b[49m\u001b[43m \u001b[49m\u001b[43mdtype\u001b[49m\u001b[38;5;241;43m=\u001b[39;49m\u001b[43mas_dtype\u001b[49m\u001b[43m)\u001b[49m\n\u001b[1;32m    120\u001b[0m \u001b[38;5;66;03m# In most cases, this does nothing. But if data was already an array,\u001b[39;00m\n\u001b[1;32m    121\u001b[0m \u001b[38;5;66;03m# and as_dtype is a tagged h5py dtype (e.g. for an object array of strings),\u001b[39;00m\n\u001b[1;32m    122\u001b[0m \u001b[38;5;66;03m# asarray() doesn't replace its dtype object. This gives it the tagged dtype:\u001b[39;00m\n\u001b[1;32m    123\u001b[0m \u001b[38;5;28;01mif\u001b[39;00m as_dtype \u001b[38;5;129;01mis\u001b[39;00m \u001b[38;5;129;01mnot\u001b[39;00m \u001b[38;5;28;01mNone\u001b[39;00m:\n",
            "\u001b[0;31mKeyboardInterrupt\u001b[0m: "
          ]
        }
      ],
      "source": [
        "for i in range(1000):\n",
        "    print(f\"Running simulation {i + 1}/100\")\n",
        "    gen(i)"
      ]
    },
    {
      "cell_type": "markdown",
      "id": "6e9379aa",
      "metadata": {
        "id": "6e9379aa",
        "papermill": {
          "duration": 0.011177,
          "end_time": "2024-11-21T10:24:06.256735",
          "exception": false,
          "start_time": "2024-11-21T10:24:06.245558",
          "status": "completed"
        },
        "tags": []
      },
      "source": [
        "## Visualisation\n",
        "\n",
        "The `visualize_burgers` function generates an animated GIF of the Burgers equation's solution over time. It takes spatial coordinates (`xcrd`), the simulation data (`data`), and an identifier (`i`) to name the output GIF. The function iterates through the time steps of the solution, plots each one, and stores the frames for the animation. It then creates an animation using `matplotlib.animation.ArtistAnimation`, saving it as a `.gif` file with a specified frame rate."
      ]
    },
    {
      "cell_type": "code",
      "execution_count": 22,
      "id": "c7f07e69",
      "metadata": {
        "execution": {
          "iopub.execute_input": "2024-11-21T10:24:06.279880Z",
          "iopub.status.busy": "2024-11-21T10:24:06.279485Z",
          "iopub.status.idle": "2024-11-21T10:24:06.297904Z",
          "shell.execute_reply": "2024-11-21T10:24:06.296839Z"
        },
        "id": "c7f07e69",
        "papermill": {
          "duration": 0.032727,
          "end_time": "2024-11-21T10:24:06.300319",
          "exception": false,
          "start_time": "2024-11-21T10:24:06.267592",
          "status": "completed"
        },
        "tags": []
      },
      "outputs": [],
      "source": [
        "import matplotlib.pyplot as plt\n",
        "import numpy as np\n",
        "from matplotlib import animation\n",
        "from tqdm import tqdm\n",
        "\n",
        "\n",
        "def visualize_burgers(xcrd, data, name):\n",
        "    fig, ax = plt.subplots()\n",
        "\n",
        "    ims = []\n",
        "\n",
        "    for i in tqdm(range(data.shape[0])):\n",
        "        if i == 0:\n",
        "            im = ax.plot(xcrd, data[i].squeeze(), animated=True, color=\"blue\")\n",
        "        else:\n",
        "            im = ax.plot(\n",
        "                xcrd, data[i].squeeze(), animated=True, color=\"blue\"\n",
        "            )\n",
        "        ims.append([im[0]])\n",
        "    ani = animation.ArtistAnimation(fig, ims, interval=50, blit=True, repeat_delay=1000)\n",
        "\n",
        "    writer = animation.PillowWriter(fps=15, bitrate=1800)\n",
        "    ani.save(f\"{name}.gif\", writer=writer)\n",
        "    plt.close(fig)"
      ]
    },
    {
      "cell_type": "markdown",
      "id": "fbdf7784",
      "metadata": {
        "id": "fbdf7784",
        "papermill": {
          "duration": 0.010704,
          "end_time": "2024-11-21T10:24:06.321865",
          "exception": false,
          "start_time": "2024-11-21T10:24:06.311161",
          "status": "completed"
        },
        "tags": []
      },
      "source": [
        "## Visualisation\n"
      ]
    },
    {
      "cell_type": "code",
      "execution_count": 20,
      "id": "cO3PB0TB9kJ_",
      "metadata": {
        "colab": {
          "base_uri": "https://localhost:8080/"
        },
        "id": "cO3PB0TB9kJ_",
        "outputId": "51edb241-dc9f-4aa3-f606-0d6adc2af06f"
      },
      "outputs": [
        {
          "name": "stdout",
          "output_type": "stream",
          "text": [
            "0\n",
            "0\n",
            "1\n",
            "10\n",
            "11\n",
            "12\n",
            "13\n",
            "14\n",
            "15\n",
            "16\n",
            "17\n",
            "18\n",
            "19\n",
            "2\n",
            "20\n",
            "21\n",
            "22\n",
            "23\n",
            "24\n",
            "25\n",
            "26\n",
            "27\n",
            "28\n",
            "29\n",
            "3\n",
            "30\n",
            "31\n",
            "32\n",
            "33\n",
            "34\n",
            "35\n",
            "36\n",
            "37\n",
            "38\n",
            "39\n",
            "4\n",
            "40\n",
            "41\n",
            "42\n",
            "43\n",
            "44\n",
            "45\n",
            "46\n",
            "47\n",
            "48\n",
            "49\n",
            "5\n",
            "50\n",
            "51\n",
            "52\n",
            "53\n",
            "54\n",
            "55\n",
            "56\n",
            "57\n",
            "58\n",
            "59\n",
            "6\n",
            "60\n",
            "61\n",
            "62\n",
            "63\n",
            "64\n",
            "65\n",
            "66\n",
            "67\n",
            "68\n",
            "69\n",
            "7\n",
            "70\n",
            "71\n",
            "72\n",
            "73\n",
            "74\n",
            "75\n",
            "76\n",
            "77\n",
            "78\n",
            "79\n",
            "8\n",
            "80\n",
            "81\n",
            "82\n",
            "83\n",
            "84\n",
            "85\n",
            "86\n",
            "87\n",
            "88\n",
            "89\n",
            "9\n",
            "90\n",
            "91\n",
            "92\n",
            "93\n",
            "94\n",
            "95\n",
            "96\n",
            "97\n",
            "98\n",
            "99\n"
          ]
        }
      ],
      "source": [
        "from scipy.stats import skewnorm\n",
        "with h5py.File(\"simulation_data.h5\", \"a\") as f:\n",
        "    l = list(f.keys())[:-1]\n",
        "    for i in l:\n",
        "        print(i)\n",
        "        u = f[i][\"clean\"][:]\n",
        "        noise = skewnorm.rvs(a=1, scale=0.2, size=u.shape)\n",
        "        un = u + noise\n",
        "        try:\n",
        "            f[i].create_dataset(\"noisy\", data=un)\n",
        "        except:\n",
        "            print(i)\n",
        "\n"
      ]
    },
    {
      "cell_type": "code",
      "execution_count": 24,
      "id": "4e6ac23a",
      "metadata": {
        "colab": {
          "base_uri": "https://localhost:8080/"
        },
        "execution": {
          "iopub.execute_input": "2024-11-21T10:24:06.344809Z",
          "iopub.status.busy": "2024-11-21T10:24:06.343974Z",
          "iopub.status.idle": "2024-11-21T10:25:40.094053Z",
          "shell.execute_reply": "2024-11-21T10:25:40.092419Z"
        },
        "id": "4e6ac23a",
        "outputId": "661168b5-78b8-42ab-8356-369922e54afd",
        "papermill": {
          "duration": 93.764616,
          "end_time": "2024-11-21T10:25:40.096950",
          "exception": false,
          "start_time": "2024-11-21T10:24:06.332334",
          "status": "completed"
        },
        "tags": []
      },
      "outputs": [
        {
          "name": "stdout",
          "output_type": "stream",
          "text": [
            "['30', '74', '63']\n",
            "Visualizing simulation 30\n"
          ]
        },
        {
          "name": "stderr",
          "output_type": "stream",
          "text": [
            "100%|██████████| 201/201 [00:00<00:00, 1867.91it/s]\n",
            "100%|██████████| 201/201 [00:00<00:00, 2546.29it/s]\n"
          ]
        },
        {
          "name": "stdout",
          "output_type": "stream",
          "text": [
            "Visualizing simulation 74\n"
          ]
        },
        {
          "name": "stderr",
          "output_type": "stream",
          "text": [
            "100%|██████████| 201/201 [00:00<00:00, 2537.61it/s]\n",
            "100%|██████████| 201/201 [00:00<00:00, 612.85it/s]\n"
          ]
        },
        {
          "name": "stdout",
          "output_type": "stream",
          "text": [
            "Visualizing simulation 63\n"
          ]
        },
        {
          "name": "stderr",
          "output_type": "stream",
          "text": [
            "100%|██████████| 201/201 [00:00<00:00, 2704.81it/s]\n",
            "100%|██████████| 201/201 [00:00<00:00, 1540.74it/s]\n"
          ]
        }
      ],
      "source": [
        "import random\n",
        "\n",
        "\n",
        "with h5py.File(\"simulation_data.h5\", \"r\") as f:\n",
        "    l = random.choices(list(f.keys()), k=3)\n",
        "    print(l)\n",
        "    xc = f[\"coords\"][\"x-coordinates\"][:]\n",
        "    for i in l:\n",
        "        if i == 'coords':\n",
        "            continue\n",
        "        print(f\"Visualizing simulation {i}\")\n",
        "        data = f[i][\"clean\"][:]\n",
        "        visualize_burgers(xc, data, f\"{i}_clean\")\n",
        "\n",
        "        data = f[i][\"noisy\"][:]\n",
        "        visualize_burgers(xc, data, f\"{i}_noisy\")"
      ]
    }
  ],
  "metadata": {
    "accelerator": "GPU",
    "colab": {
      "gpuType": "T4",
      "provenance": []
    },
    "kaggle": {
      "accelerator": "none",
      "dataSources": [],
      "dockerImageVersionId": 30786,
      "isGpuEnabled": false,
      "isInternetEnabled": true,
      "language": "python",
      "sourceType": "notebook"
    },
    "kernelspec": {
      "display_name": "Python (myenv)",
      "language": "python",
      "name": "torch"
    },
    "language_info": {
      "codemirror_mode": {
        "name": "ipython",
        "version": 3
      },
      "file_extension": ".py",
      "mimetype": "text/x-python",
      "name": "python",
      "nbconvert_exporter": "python",
      "pygments_lexer": "ipython3",
      "version": "3.12.3"
    },
    "papermill": {
      "default_parameters": {},
      "duration": 820.15877,
      "end_time": "2024-11-21T10:25:41.462091",
      "environment_variables": {},
      "exception": null,
      "input_path": "__notebook__.ipynb",
      "output_path": "__notebook__.ipynb",
      "parameters": {},
      "start_time": "2024-11-21T10:12:01.303321",
      "version": "2.6.0"
    }
  },
  "nbformat": 4,
  "nbformat_minor": 5
}
