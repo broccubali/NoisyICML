{
 "cells": [
  {
   "cell_type": "code",
   "execution_count": 13,
   "metadata": {},
   "outputs": [],
   "source": [
    "import numpy as np\n",
    "import matplotlib.pyplot as plt\n",
    "from scipy.integrate import solve_ivp\n",
    "import h5py\n",
    "# Define parameters\n",
    "L = 1.0       # Length of the rod\n",
    "Nx = 50       # Number of spatial points\n",
    "dx = L / Nx   # Space step\n",
    "T = 0.2       # Total time\n",
    "Nt = 500     # Number of time steps\n",
    "dt = T / Nt   # Time step\n",
    "# Initial condition: Gaussian pulse\n",
    "x = np.linspace(0, L, Nx)\n",
    "u0 = np.exp(-100 * (x - L / 2) ** 2)  # Gaussian initial profile\n",
    "u0[0] = 0\n",
    "u0[-1] = 0"
   ]
  },
  {
   "cell_type": "code",
   "execution_count": 12,
   "metadata": {},
   "outputs": [],
   "source": [
    "def heat_eq(t, u):\n",
    "    u = u.reshape((Nx,))\n",
    "    du_dt = np.zeros_like(u)\n",
    "    for i in range(1, Nx - 1):\n",
    "        du_dt[i] = alpha * (u[i - 1] - 2 * u[i] + u[i + 1]) / dx**2\n",
    "    return du_dt"
   ]
  },
  {
   "cell_type": "code",
   "execution_count": 24,
   "metadata": {},
   "outputs": [
    {
     "name": "stdout",
     "output_type": "stream",
     "text": [
      "0\n",
      "100\n",
      "200\n",
      "300\n",
      "400\n",
      "500\n",
      "600\n",
      "700\n",
      "800\n",
      "900\n"
     ]
    }
   ],
   "source": [
    "for i in range(1000):\n",
    "    if i % 100 == 0:\n",
    "        print(i)\n",
    "    alpha = np.random.uniform(0.1, 0.5) \n",
    "    # Stability condition (for explicit scheme)\n",
    "    s = alpha * dt / dx**2\n",
    "    if s > 0.5:\n",
    "        print(\"Warning: Stability condition violated! Reduce dt or increase dx.\")\n",
    "        continue\n",
    "    solution = solve_ivp(heat_eq, [0, T], u0, t_eval=np.linspace(0, T, Nt), method=\"RK45\")\n",
    "    with h5py.File('data.h5', 'a') as f:\n",
    "        f.create_group(f\"{i}\")\n",
    "        f[f\"{i}\"].create_dataset('u', data=solution.y)\n",
    "        f[f\"{i}\"].create_dataset('alpha', data=alpha)\n",
    "        f.close()\n",
    "        "
   ]
  },
  {
   "cell_type": "code",
   "execution_count": 25,
   "metadata": {},
   "outputs": [],
   "source": [
    "from scipy.stats import skewnorm\n",
    "\n",
    "with h5py.File('data.h5', 'a') as f:\n",
    "    for i in f.keys():\n",
    "        u = f[i]['u'][:]\n",
    "        noise = skewnorm.rvs(a=1, scale=0.4, size=u.shape)\n",
    "        f[i].create_dataset('u_noisy', data=u + noise)\n",
    "    f.close()"
   ]
  },
  {
   "cell_type": "code",
   "execution_count": 26,
   "metadata": {},
   "outputs": [
    {
     "name": "stdout",
     "output_type": "stream",
     "text": [
      "<KeysViewHDF5 ['alpha', 'u', 'u_noisy']>\n"
     ]
    }
   ],
   "source": [
    "with h5py.File(\"data.h5\", \"r\") as f:\n",
    "    print(f[\"0\"].keys())"
   ]
  },
  {
   "cell_type": "code",
   "execution_count": 27,
   "metadata": {},
   "outputs": [],
   "source": [
    "import matplotlib.pyplot as plt\n",
    "import numpy as np\n",
    "from matplotlib import animation\n",
    "from tqdm import tqdm\n",
    "\n",
    "\n",
    "def visualize_burgers(xcrd, data, path):\n",
    "    \"\"\"\n",
    "    This function animates the Burgers equation\n",
    "\n",
    "    Args:\n",
    "    path : path to the desired file\n",
    "    param: PDE parameter of the data shard to be visualized\n",
    "    \"\"\"\n",
    "    fig, ax = plt.subplots()\n",
    "    ims = []\n",
    "\n",
    "    for i in tqdm(range(data.shape[0])):\n",
    "        if i == 0:\n",
    "            im = ax.plot(xcrd, data[i].squeeze(), animated=True, color=\"blue\")\n",
    "        else:\n",
    "            im = ax.plot(xcrd, data[i].squeeze(), animated=True, color=\"blue\")\n",
    "        ims.append([im[0]])\n",
    "\n",
    "    ani = animation.ArtistAnimation(fig, ims, interval=50, blit=True, repeat_delay=1000)\n",
    "\n",
    "    writer = animation.PillowWriter(fps=15, bitrate=1800)\n",
    "    ani.save(path, writer=writer)\n",
    "    plt.close(fig)"
   ]
  },
  {
   "cell_type": "code",
   "execution_count": 29,
   "metadata": {},
   "outputs": [
    {
     "name": "stderr",
     "output_type": "stream",
     "text": [
      "100%|██████████| 500/500 [00:00<00:00, 3382.44it/s]\n",
      "100%|██████████| 500/500 [00:00<00:00, 7768.27it/s]\n",
      "100%|██████████| 500/500 [00:00<00:00, 3558.03it/s]\n",
      "100%|██████████| 500/500 [00:00<00:00, 7977.21it/s]\n",
      "100%|██████████| 500/500 [00:00<00:00, 7848.15it/s]\n",
      "100%|██████████| 500/500 [00:00<00:00, 3244.60it/s]\n"
     ]
    }
   ],
   "source": [
    "import random\n",
    "with h5py.File(\"data.h5\", \"r\") as f:\n",
    "    l = random.choices(list(f.keys()), k=3)\n",
    "    for i in l:\n",
    "        u = f[i]['u_noisy'][:]\n",
    "        visualize_burgers(x, u.T, f\"gifs/{i}_noisy.gif\")\n",
    "        u = f[i]['u'][:]\n",
    "        visualize_burgers(x, u.T, f\"gifs/{i}.gif\")\n",
    "    f.close()"
   ]
  },
  {
   "cell_type": "code",
   "execution_count": null,
   "metadata": {},
   "outputs": [],
   "source": []
  }
 ],
 "metadata": {
  "kernelspec": {
   "display_name": "Python (myenv)",
   "language": "python",
   "name": "torch"
  },
  "language_info": {
   "codemirror_mode": {
    "name": "ipython",
    "version": 3
   },
   "file_extension": ".py",
   "mimetype": "text/x-python",
   "name": "python",
   "nbconvert_exporter": "python",
   "pygments_lexer": "ipython3",
   "version": "3.12.3"
  }
 },
 "nbformat": 4,
 "nbformat_minor": 2
}
