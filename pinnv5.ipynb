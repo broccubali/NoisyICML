{
  "cells": [
    {
      "cell_type": "code",
      "execution_count": 7,
      "metadata": {
        "colab": {
          "base_uri": "https://localhost:8080/"
        },
        "id": "EpYcl-A3SLIg",
        "outputId": "1dba9c6c-10c8-491b-b24c-4f8702f576c4"
      },
      "outputs": [
        {
          "name": "stdout",
          "output_type": "stream",
          "text": [
            "--2025-01-19 11:22:19--  https://raw.githubusercontent.com/omniscientoctopus/Physics-Informed-Neural-Networks/7d26e55cc665b79b652b226860177fa4defe9190/PyTorch/Burgers'%20Equation/Data/burgers_shock_mu_01_pi.mat\n",
            "Resolving raw.githubusercontent.com (raw.githubusercontent.com)... 185.199.110.133, 185.199.108.133, 185.199.109.133, ...\n",
            "Connecting to raw.githubusercontent.com (raw.githubusercontent.com)|185.199.110.133|:443... connected.\n",
            "HTTP request sent, awaiting response... 200 OK\n",
            "Length: 157214 (154K) [application/octet-stream]\n",
            "Saving to: ‘burgers_shock_mu_01_pi.mat’\n",
            "\n",
            "\r          burgers_s   0%[                    ]       0  --.-KB/s               \rburgers_shock_mu_01 100%[===================>] 153.53K  --.-KB/s    in 0.03s   \n",
            "\n",
            "2025-01-19 11:22:19 (4.68 MB/s) - ‘burgers_shock_mu_01_pi.mat’ saved [157214/157214]\n",
            "\n"
          ]
        }
      ],
      "source": [
        "!wget https://raw.githubusercontent.com/omniscientoctopus/Physics-Informed-Neural-Networks/7d26e55cc665b79b652b226860177fa4defe9190/PyTorch/Burgers\\'%20Equation/Data/burgers_shock_mu_01_pi.mat"
      ]
    },
    {
      "cell_type": "markdown",
      "metadata": {
        "id": "oj6BZ7YFbcg6"
      },
      "source": [
        "# pinn class"
      ]
    },
    {
      "cell_type": "code",
      "execution_count": 52,
      "metadata": {
        "colab": {
          "base_uri": "https://localhost:8080/"
        },
        "id": "7zMBM8RvSZ-B",
        "outputId": "c188794e-2082-4f5a-8eb2-a857fc72f59f"
      },
      "outputs": [
        {
          "name": "stdout",
          "output_type": "stream",
          "text": [
            "PINN(\n",
            "  (layers): ModuleList(\n",
            "    (0): Linear(in_features=2, out_features=20, bias=True)\n",
            "    (1): Tanh()\n",
            "    (2): Linear(in_features=20, out_features=20, bias=True)\n",
            "    (3): Tanh()\n",
            "    (4): Linear(in_features=20, out_features=20, bias=True)\n",
            "    (5): Tanh()\n",
            "    (6): Linear(in_features=20, out_features=20, bias=True)\n",
            "    (7): Tanh()\n",
            "    (8): Linear(in_features=20, out_features=20, bias=True)\n",
            "    (9): Tanh()\n",
            "    (10): Linear(in_features=20, out_features=20, bias=True)\n",
            "    (11): Tanh()\n",
            "    (12): Linear(in_features=20, out_features=20, bias=True)\n",
            "    (13): Tanh()\n",
            "    (14): Linear(in_features=20, out_features=20, bias=True)\n",
            "    (15): Tanh()\n",
            "    (16): Linear(in_features=20, out_features=20, bias=True)\n",
            "    (17): Tanh()\n",
            "    (18): Linear(in_features=20, out_features=20, bias=True)\n",
            "    (19): Tanh()\n",
            "    (20): Linear(in_features=20, out_features=1, bias=True)\n",
            "  )\n",
            "  (loss): MSELoss()\n",
            ")\n"
          ]
        }
      ],
      "source": [
        "import torch\n",
        "import torch.nn as nn\n",
        "import numpy as np\n",
        "from scipy.io import loadmat\n",
        "from tqdm import tqdm\n",
        "\n",
        "\n",
        "class PINN(nn.Module):\n",
        "    def __init__(self, input_size, hidden_size, output_size):\n",
        "        super(PINN, self).__init__()\n",
        "        self.layers = nn.ModuleList(\n",
        "            [\n",
        "                (\n",
        "                    nn.Linear(input_size if i == 0 else hidden_size, hidden_size)\n",
        "                    if i % 2 == 0\n",
        "                    else nn.Tanh()\n",
        "                )\n",
        "                for i in range(20)\n",
        "            ]\n",
        "        )\n",
        "        self.layers.append(nn.Linear(hidden_size, output_size))\n",
        "        self.loss = nn.MSELoss()\n",
        "        self.optimizer = torch.optim.Adam(self.parameters(), lr=0.001)\n",
        "\n",
        "    def forward(self, x):\n",
        "        for layer in self.layers:\n",
        "            x = layer(x)\n",
        "        return x\n",
        "\n",
        "    # ic and bc is of shape [x, 3]. first two columns is x and t, last column is u.\n",
        "    # predict using [:2], calc loss using [2]\n",
        "    def loss_fn(self, cond):\n",
        "        u = torch.reshape(cond[:, 2], (-1, 1))\n",
        "        u_pred = self.forward(cond[:, :2])\n",
        "        return self.loss(u_pred, u)\n",
        "\n",
        "    def residual_loss(self, x_f_train, nu, fhat):\n",
        "        x = x_f_train[:, 0]\n",
        "        t = x_f_train[:, 1]\n",
        "        g = x_f_train.clone()\n",
        "        g.requires_grad = True\n",
        "        u_pred = self.forward(g)\n",
        "        u_x_t = torch.autograd.grad(\n",
        "            u_pred,\n",
        "            g,\n",
        "            torch.ones([x_f_train.shape[0], 1]).to(\"cuda\"),\n",
        "            retain_graph=True,\n",
        "            create_graph=True,\n",
        "        )[0]\n",
        "        u_xx_tt = torch.autograd.grad(\n",
        "            u_x_t, g, torch.ones(x_f_train.shape).to(\"cuda\"), create_graph=True\n",
        "        )[0]\n",
        "        u_x = u_x_t[:, [0]]\n",
        "        u_t = u_x_t[:, [1]]\n",
        "        u_xx = u_xx_tt[:, [0]]\n",
        "        return self.loss(u_t + u_pred * u_x - (nu * u_xx), fhat)\n",
        "\n",
        "    def total_loss(self, x_f_train, ic_bc, nu, fhat):\n",
        "        return self.loss_fn(ic_bc) + self.residual_loss(x_f_train, nu, fhat)\n",
        "\n",
        "    def train_model(self, x_f_train, ic_bc, nu, epochs=1000, lr=0.001):\n",
        "        fhat = torch.zeros(x_f_train.shape[0], 1, device=\"cuda\")\n",
        "        for epoch in tqdm(range(epochs)):\n",
        "            self.optimizer.zero_grad()\n",
        "            loss = self.total_loss(x_f_train, ic_bc, nu, fhat)\n",
        "            loss.backward()\n",
        "            self.optimizer.step()\n",
        "\n",
        "\n",
        "model = PINN(input_size=2, hidden_size=20, output_size=1).to(\"cuda\")\n",
        "print(model)"
      ]
    },
    {
      "cell_type": "markdown",
      "metadata": {
        "id": "rGkiaXm9becD"
      },
      "source": [
        "# load data"
      ]
    },
    {
      "cell_type": "code",
      "execution_count": 30,
      "metadata": {
        "colab": {
          "base_uri": "https://localhost:8080/"
        },
        "id": "7rMohbkTURuR",
        "outputId": "2f5d4dcd-f422-4847-f6ee-6c351bdd2131"
      },
      "outputs": [
        {
          "data": {
            "text/plain": [
              "((100, 256), (100, 256))"
            ]
          },
          "execution_count": 30,
          "metadata": {},
          "output_type": "execute_result"
        }
      ],
      "source": [
        "data = loadmat(\"burgers_shock_mu_01_pi.mat\")\n",
        "u = data[\"usol\"]\n",
        "x = data[\"x\"]\n",
        "t = data[\"t\"]\n",
        "x = torch.tensor(x, dtype=torch.float32)\n",
        "t = torch.tensor(t, dtype=torch.float32)\n",
        "u = torch.tensor(u, dtype=torch.float32)\n",
        "# form a meshgrid, where X contains all the x points from -1 to 1, 100 times for 100 time steps.\n",
        "# T contains all 100 time steps from 0 to 1, 256 times for 256 x points\n",
        "X, T = np.meshgrid(x, t)\n",
        "X.shape, T.shape"
      ]
    },
    {
      "cell_type": "markdown",
      "metadata": {
        "id": "eVMwC7gSaXsd"
      },
      "source": [
        "# initial and boundary conditions"
      ]
    },
    {
      "cell_type": "code",
      "execution_count": 31,
      "metadata": {
        "colab": {
          "base_uri": "https://localhost:8080/"
        },
        "id": "9CSHvUkpYj-w",
        "outputId": "f27b85ed-f3b0-414c-8875-b98427c5bf89"
      },
      "outputs": [
        {
          "data": {
            "text/plain": [
              "(torch.Size([256, 3]), torch.Size([200, 3]))"
            ]
          },
          "execution_count": 31,
          "metadata": {},
          "output_type": "execute_result"
        }
      ],
      "source": [
        "# initial conditions, x at t=0. shape of 256, 1\n",
        "xic, tic, uic = X[0, :], T[0, :], u[:, 0]\n",
        "# bc1, x=1, t goes from 0 to 1. shape of 100, 1\n",
        "xbc1, tbc1, ubc1 = X[:, 0], T[:, 0], u[0, :]\n",
        "# bc2, x=-1, t goes from 0 to 1. shape of 100, 1\n",
        "xbc2, tbc2, ubc2 = X[:, -1], T[:, -1], u[-1, :]\n",
        "\n",
        "# Convert xic, tic, xbc1, tbc1, xbc2, and tbc2 to PyTorch tensors\n",
        "xic = torch.tensor(xic, dtype=torch.float32)\n",
        "tic = torch.tensor(tic, dtype=torch.float32)\n",
        "xbc1 = torch.tensor(xbc1, dtype=torch.float32)\n",
        "tbc1 = torch.tensor(tbc1, dtype=torch.float32)\n",
        "xbc2 = torch.tensor(xbc2, dtype=torch.float32)\n",
        "tbc2 = torch.tensor(tbc2, dtype=torch.float32)\n",
        "\n",
        "# stack em all together so we can pass it to the loss function. Shape of [n, 3]\n",
        "ic = torch.stack([xic, tic, uic], dim=1)\n",
        "bc1 = torch.stack([xbc1, tbc1, ubc1], dim=1)\n",
        "bc2 = torch.stack([xbc2, tbc2, ubc2], dim=1)\n",
        "bc = torch.vstack([bc1, bc2])\n",
        "\n",
        "ic.shape, bc.shape"
      ]
    },
    {
      "cell_type": "markdown",
      "metadata": {
        "id": "Slq2QveWbZ9n"
      },
      "source": [
        "# collocation points"
      ]
    },
    {
      "cell_type": "code",
      "execution_count": 32,
      "metadata": {
        "id": "TKCTUeIjYtMr"
      },
      "outputs": [
        {
          "data": {
            "text/plain": [
              "((10100, 2), (100, 3))"
            ]
          },
          "execution_count": 32,
          "metadata": {},
          "output_type": "execute_result"
        }
      ],
      "source": [
        "from pyDOE import lhs\n",
        "\n",
        "X_u_test = np.hstack((X.flatten()[:, None], T.flatten()[:, None]))\n",
        "lb = X_u_test[0]  \n",
        "ub = X_u_test[-1]\n",
        "lb, ub \n",
        "idx = np.random.choice(456, 100, replace=False)\n",
        "ic_bc_train = np.vstack([ic, bc])[idx, :]\n",
        "X_f_train = lb + (ub - lb) * lhs(2, 10000)\n",
        "X_f_train = np.vstack((X_f_train, ic_bc_train[:, :2]))\n",
        "X_f_train.shape, ic_bc_train.shape\n"
      ]
    },
    {
      "cell_type": "code",
      "execution_count": null,
      "metadata": {},
      "outputs": [],
      "source": [
        "device = torch.device(\"cuda\")\n",
        "X_f_train = torch.tensor(X_f_train, dtype=torch.float32, device=device)\n",
        "ic_bc_train = torch.tensor(ic_bc_train, dtype=torch.float32, device=device)\n",
        "\n"
      ]
    },
    {
      "cell_type": "code",
      "execution_count": 53,
      "metadata": {},
      "outputs": [
        {
          "name": "stderr",
          "output_type": "stream",
          "text": [
            "100%|██████████| 10000/10000 [00:53<00:00, 188.12it/s]\n"
          ]
        }
      ],
      "source": [
        "model.train_model(X_f_train, ic_bc_train, 0.01, 10000, 0.001)"
      ]
    },
    {
      "cell_type": "code",
      "execution_count": 61,
      "metadata": {},
      "outputs": [
        {
          "data": {
            "text/plain": [
              "tensor(0.7346)"
            ]
          },
          "execution_count": 61,
          "metadata": {},
          "output_type": "execute_result"
        }
      ],
      "source": [
        "u_pred = (\n",
        "    model.forward(torch.tensor(X_u_test, dtype=torch.float32, device=device))\n",
        "    .cpu()\n",
        "    .detach()\n",
        ")\n",
        "loss = model.loss(u_pred, u)\n",
        "loss"
      ]
    },
    {
      "cell_type": "code",
      "execution_count": 55,
      "metadata": {},
      "outputs": [],
      "source": [
        "u_pred = u_pred.reshape(X.shape)\n"
      ]
    },
    {
      "cell_type": "code",
      "execution_count": 56,
      "metadata": {},
      "outputs": [
        {
          "name": "stderr",
          "output_type": "stream",
          "text": [
            "  0%|          | 0/100 [00:00<?, ?it/s]"
          ]
        },
        {
          "name": "stderr",
          "output_type": "stream",
          "text": [
            "100%|██████████| 100/100 [00:00<00:00, 6127.01it/s]\n"
          ]
        }
      ],
      "source": [
        "import matplotlib.pyplot as plt\n",
        "import numpy as np\n",
        "from matplotlib import animation\n",
        "from tqdm import tqdm\n",
        "\n",
        "\n",
        "def visualize_burgers(xcrd, data, path):\n",
        "    \"\"\"\n",
        "    This function animates the Burgers equation\n",
        "\n",
        "    Args:\n",
        "    path : path to the desired file\n",
        "    param: PDE parameter of the data shard to be visualized\n",
        "    \"\"\"\n",
        "    fig, ax = plt.subplots()\n",
        "    ims = []\n",
        "\n",
        "    for i in tqdm(range(data.shape[0])):\n",
        "        if i == 0:\n",
        "            im = ax.plot(xcrd, data[i].squeeze(), animated=True, color=\"blue\")\n",
        "        else:\n",
        "            im = ax.plot(xcrd, data[i].squeeze(), animated=True, color=\"blue\")\n",
        "        ims.append([im[0]])\n",
        "\n",
        "    ani = animation.ArtistAnimation(fig, ims, interval=50, blit=True, repeat_delay=1000)\n",
        "\n",
        "    writer = animation.PillowWriter(fps=15, bitrate=1800)\n",
        "    ani.save(path, writer=writer)\n",
        "    plt.close(fig)\n",
        "\n",
        "\n",
        "visualize_burgers(x, u_pred, \"noisy_trained_predicted_solution.gif\")"
      ]
    },
    {
      "cell_type": "code",
      "execution_count": null,
      "metadata": {},
      "outputs": [],
      "source": []
    }
  ],
  "metadata": {
    "colab": {
      "provenance": []
    },
    "kernelspec": {
      "display_name": "torch",
      "language": "python",
      "name": "python3"
    },
    "language_info": {
      "codemirror_mode": {
        "name": "ipython",
        "version": 3
      },
      "file_extension": ".py",
      "mimetype": "text/x-python",
      "name": "python",
      "nbconvert_exporter": "python",
      "pygments_lexer": "ipython3",
      "version": "3.12.3"
    }
  },
  "nbformat": 4,
  "nbformat_minor": 0
}
