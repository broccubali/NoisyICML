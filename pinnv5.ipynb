{
  "cells": [
    {
      "cell_type": "code",
      "execution_count": 7,
      "metadata": {
        "colab": {
          "base_uri": "https://localhost:8080/"
        },
        "id": "EpYcl-A3SLIg",
        "outputId": "1dba9c6c-10c8-491b-b24c-4f8702f576c4"
      },
      "outputs": [
        {
          "name": "stdout",
          "output_type": "stream",
          "text": [
            "--2025-01-19 11:22:19--  https://raw.githubusercontent.com/omniscientoctopus/Physics-Informed-Neural-Networks/7d26e55cc665b79b652b226860177fa4defe9190/PyTorch/Burgers'%20Equation/Data/burgers_shock_mu_01_pi.mat\n",
            "Resolving raw.githubusercontent.com (raw.githubusercontent.com)... 185.199.110.133, 185.199.108.133, 185.199.109.133, ...\n",
            "Connecting to raw.githubusercontent.com (raw.githubusercontent.com)|185.199.110.133|:443... connected.\n",
            "HTTP request sent, awaiting response... 200 OK\n",
            "Length: 157214 (154K) [application/octet-stream]\n",
            "Saving to: ‘burgers_shock_mu_01_pi.mat’\n",
            "\n",
            "\r          burgers_s   0%[                    ]       0  --.-KB/s               \rburgers_shock_mu_01 100%[===================>] 153.53K  --.-KB/s    in 0.03s   \n",
            "\n",
            "2025-01-19 11:22:19 (4.68 MB/s) - ‘burgers_shock_mu_01_pi.mat’ saved [157214/157214]\n",
            "\n"
          ]
        }
      ],
      "source": [
        "!wget https://raw.githubusercontent.com/omniscientoctopus/Physics-Informed-Neural-Networks/7d26e55cc665b79b652b226860177fa4defe9190/PyTorch/Burgers\\'%20Equation/Data/burgers_shock_mu_01_pi.mat"
      ]
    },
    {
      "cell_type": "markdown",
      "metadata": {
        "id": "oj6BZ7YFbcg6"
      },
      "source": [
        "# pinn class"
      ]
    },
    {
      "cell_type": "code",
      "execution_count": 10,
      "metadata": {
        "colab": {
          "base_uri": "https://localhost:8080/"
        },
        "id": "7zMBM8RvSZ-B",
        "outputId": "c188794e-2082-4f5a-8eb2-a857fc72f59f"
      },
      "outputs": [
        {
          "name": "stdout",
          "output_type": "stream",
          "text": [
            "PINN(\n",
            "  (layers): ModuleList(\n",
            "    (0): Linear(in_features=2, out_features=10, bias=True)\n",
            "    (1): Tanh()\n",
            "    (2): Linear(in_features=10, out_features=10, bias=True)\n",
            "    (3): Tanh()\n",
            "    (4): Linear(in_features=10, out_features=10, bias=True)\n",
            "    (5): Tanh()\n",
            "    (6): Linear(in_features=10, out_features=10, bias=True)\n",
            "    (7): Tanh()\n",
            "    (8): Linear(in_features=10, out_features=10, bias=True)\n",
            "    (9): Tanh()\n",
            "    (10): Linear(in_features=10, out_features=10, bias=True)\n",
            "    (11): Tanh()\n",
            "    (12): Linear(in_features=10, out_features=10, bias=True)\n",
            "    (13): Tanh()\n",
            "    (14): Linear(in_features=10, out_features=10, bias=True)\n",
            "    (15): Tanh()\n",
            "    (16): Linear(in_features=10, out_features=10, bias=True)\n",
            "    (17): Tanh()\n",
            "    (18): Linear(in_features=10, out_features=10, bias=True)\n",
            "    (19): Tanh()\n",
            "    (20): Linear(in_features=10, out_features=1, bias=True)\n",
            "  )\n",
            "  (loss): MSELoss()\n",
            ")\n"
          ]
        }
      ],
      "source": [
        "import torch\n",
        "import torch.nn as nn\n",
        "import numpy as np\n",
        "from scipy.io import loadmat\n",
        "import tqdm\n",
        "\n",
        "class PINN(nn.Module):\n",
        "    def __init__(self, input_size, hidden_size, output_size):\n",
        "        super(PINN, self).__init__()\n",
        "        self.layers = nn.ModuleList([nn.Linear(input_size if i == 0 else hidden_size, hidden_size) if i %2 == 0 else nn.Tanh() for i in range(20)])\n",
        "        self.layers.append(nn.Linear(hidden_size, output_size))\n",
        "        self.loss = nn.MSELoss()\n",
        "\n",
        "    def forward(self, x):\n",
        "        for layer in self.layers:\n",
        "            x = layer(x)\n",
        "        return x\n",
        "\n",
        "    # ic and bc is of shape [x, 3]. first two columns is x and t, last column is u.\n",
        "    # predict using [:2], calc loss using [2]\n",
        "    def loss_fn(self, cond):\n",
        "        u_pred = self.forward(cond[:, :2])\n",
        "        return self.loss(u_pred, cond[:, 2])\n",
        "\n",
        "    def residual_loss(self, u, t, x):\n",
        "        u_pred = self.forward(torch.cat([t, x], dim=1))\n",
        "        u_t = torch.autograd.grad(u_pred, t, grad_outputs=torch.ones_like(u_pred), create_graph=True)[0]\n",
        "        u_x = torch.autograd.grad(u_pred, x, grad_outputs=torch.ones_like(u_pred), create_graph=True)[0]\n",
        "        u_xx = torch.autograd.grad(u_x, x, grad_outputs=torch.ones_like(u_x), create_graph=True)[0]\n",
        "        return torch.mean(u_t + u * u_x - u_xx)\n",
        "\n",
        "    def total_loss(self, x, u, t, initial_condition, boundary_condition):\n",
        "        return self.loss_fn(initial_condition) + self.loss_fn(boundary_condition) + self.residual_loss(u, t, x)\n",
        "\n",
        "    def train_model(self, x, u, t, initial_condition, boundary_condition, epochs=1000, lr=0.001):\n",
        "        optimizer = torch.optim.Adam(self.parameters(), lr=lr)\n",
        "        for epoch in tqdm(range(epochs)):\n",
        "            optimizer.zero_grad()\n",
        "            loss = self.total_loss(x, u, t, initial_condition, boundary_condition)\n",
        "            loss.backward()\n",
        "            optimizer.step()\n",
        "\n",
        "\n",
        "model = PINN(input_size=2, hidden_size=10, output_size=1)\n",
        "print(model)"
      ]
    },
    {
      "cell_type": "markdown",
      "metadata": {
        "id": "rGkiaXm9becD"
      },
      "source": [
        "# load data"
      ]
    },
    {
      "cell_type": "code",
      "execution_count": 12,
      "metadata": {
        "colab": {
          "base_uri": "https://localhost:8080/"
        },
        "id": "7rMohbkTURuR",
        "outputId": "2f5d4dcd-f422-4847-f6ee-6c351bdd2131"
      },
      "outputs": [
        {
          "data": {
            "text/plain": [
              "((100, 256), (100, 256))"
            ]
          },
          "execution_count": 12,
          "metadata": {},
          "output_type": "execute_result"
        }
      ],
      "source": [
        "data = loadmat(\"/content/burgers_shock_mu_01_pi.mat\")\n",
        "u = data[\"usol\"]\n",
        "x = data[\"x\"]\n",
        "t = data[\"t\"]\n",
        "x = torch.tensor(x, dtype=torch.float32)\n",
        "t = torch.tensor(t, dtype=torch.float32)\n",
        "u = torch.tensor(u, dtype=torch.float32)\n",
        "# form a meshgrid, where X contains all the x points from -1 to 1, 100 times for 100 time steps.\n",
        "# T contains all 100 time steps from 0 to 1, 256 times for 256 x points\n",
        "X, T = np.meshgrid(x, t)\n",
        "X.shape, T.shape"
      ]
    },
    {
      "cell_type": "markdown",
      "metadata": {
        "id": "eVMwC7gSaXsd"
      },
      "source": [
        "# initial and boundary conditions"
      ]
    },
    {
      "cell_type": "code",
      "execution_count": 25,
      "metadata": {
        "colab": {
          "base_uri": "https://localhost:8080/"
        },
        "id": "9CSHvUkpYj-w",
        "outputId": "f27b85ed-f3b0-414c-8875-b98427c5bf89"
      },
      "outputs": [
        {
          "data": {
            "text/plain": [
              "(torch.Size([256, 3]), torch.Size([200, 3]))"
            ]
          },
          "execution_count": 25,
          "metadata": {},
          "output_type": "execute_result"
        }
      ],
      "source": [
        "# initial conditions, x at t=0. shape of 256, 1\n",
        "xic, tic, uic = X[0, :], T[0, :], u[:, 0]\n",
        "# bc1, x=1, t goes from 0 to 1. shape of 100, 1\n",
        "xbc1, tbc1, ubc1 = X[:, 0], T[:, 0], u[0, :]\n",
        "# bc2, x=-1, t goes from 0 to 1. shape of 100, 1\n",
        "xbc2, tbc2, ubc2 = X[:, -1], T[:, -1], u[-1, :]\n",
        "\n",
        "# Convert xic, tic, xbc1, tbc1, xbc2, and tbc2 to PyTorch tensors\n",
        "xic = torch.tensor(xic, dtype=torch.float32)\n",
        "tic = torch.tensor(tic, dtype=torch.float32)\n",
        "xbc1 = torch.tensor(xbc1, dtype=torch.float32)\n",
        "tbc1 = torch.tensor(tbc1, dtype=torch.float32)\n",
        "xbc2 = torch.tensor(xbc2, dtype=torch.float32)\n",
        "tbc2 = torch.tensor(tbc2, dtype=torch.float32)\n",
        "\n",
        "# stack em all together so we can pass it to the loss function. Shape of [n, 3]\n",
        "ic = torch.stack([xic, tic, uic], dim=1)\n",
        "bc1 = torch.stack([xbc1, tbc1, ubc1], dim=1)\n",
        "bc2 = torch.stack([xbc2, tbc2, ubc2], dim=1)\n",
        "bc = torch.vstack([bc1, bc2])\n",
        "\n",
        "ic.shape, bc.shape"
      ]
    },
    {
      "cell_type": "markdown",
      "metadata": {
        "id": "Slq2QveWbZ9n"
      },
      "source": [
        "# collocation points"
      ]
    },
    {
      "cell_type": "code",
      "execution_count": 26,
      "metadata": {
        "id": "TKCTUeIjYtMr"
      },
      "outputs": [],
      "source": [
        "# didnt really understand fully, tbd."
      ]
    },
    {
      "cell_type": "code",
      "execution_count": null,
      "metadata": {
        "id": "YmY6_rxnb2wu"
      },
      "outputs": [],
      "source": []
    }
  ],
  "metadata": {
    "colab": {
      "provenance": []
    },
    "kernelspec": {
      "display_name": "Python 3",
      "name": "python3"
    },
    "language_info": {
      "name": "python"
    }
  },
  "nbformat": 4,
  "nbformat_minor": 0
}
