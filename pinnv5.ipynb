{
  "cells": [
    {
      "cell_type": "code",
      "execution_count": 7,
      "metadata": {
        "colab": {
          "base_uri": "https://localhost:8080/"
        },
        "id": "EpYcl-A3SLIg",
        "outputId": "1dba9c6c-10c8-491b-b24c-4f8702f576c4"
      },
      "outputs": [
        {
          "name": "stdout",
          "output_type": "stream",
          "text": [
            "--2025-01-19 11:22:19--  https://raw.githubusercontent.com/omniscientoctopus/Physics-Informed-Neural-Networks/7d26e55cc665b79b652b226860177fa4defe9190/PyTorch/Burgers'%20Equation/Data/burgers_shock_mu_01_pi.mat\n",
            "Resolving raw.githubusercontent.com (raw.githubusercontent.com)... 185.199.110.133, 185.199.108.133, 185.199.109.133, ...\n",
            "Connecting to raw.githubusercontent.com (raw.githubusercontent.com)|185.199.110.133|:443... connected.\n",
            "HTTP request sent, awaiting response... 200 OK\n",
            "Length: 157214 (154K) [application/octet-stream]\n",
            "Saving to: ‘burgers_shock_mu_01_pi.mat’\n",
            "\n",
            "\r          burgers_s   0%[                    ]       0  --.-KB/s               \rburgers_shock_mu_01 100%[===================>] 153.53K  --.-KB/s    in 0.03s   \n",
            "\n",
            "2025-01-19 11:22:19 (4.68 MB/s) - ‘burgers_shock_mu_01_pi.mat’ saved [157214/157214]\n",
            "\n"
          ]
        }
      ],
      "source": [
        "!wget https://raw.githubusercontent.com/omniscientoctopus/Physics-Informed-Neural-Networks/7d26e55cc665b79b652b226860177fa4defe9190/PyTorch/Burgers\\'%20Equation/Data/burgers_shock_mu_01_pi.mat"
      ]
    },
    {
      "cell_type": "markdown",
      "metadata": {
        "id": "oj6BZ7YFbcg6"
      },
      "source": [
        "# pinn class"
      ]
    },
    {
      "cell_type": "code",
      "execution_count": 26,
      "metadata": {
        "colab": {
          "base_uri": "https://localhost:8080/"
        },
        "id": "7zMBM8RvSZ-B",
        "outputId": "c188794e-2082-4f5a-8eb2-a857fc72f59f"
      },
      "outputs": [
        {
          "name": "stdout",
          "output_type": "stream",
          "text": [
            "PINN(\n",
            "  (layers): ModuleList(\n",
            "    (0): Linear(in_features=2, out_features=20, bias=True)\n",
            "    (1): Tanh()\n",
            "    (2): Linear(in_features=20, out_features=20, bias=True)\n",
            "    (3): Tanh()\n",
            "    (4): Linear(in_features=20, out_features=20, bias=True)\n",
            "    (5): Tanh()\n",
            "    (6): Linear(in_features=20, out_features=20, bias=True)\n",
            "    (7): Tanh()\n",
            "    (8): Linear(in_features=20, out_features=20, bias=True)\n",
            "    (9): Tanh()\n",
            "    (10): Linear(in_features=20, out_features=20, bias=True)\n",
            "    (11): Tanh()\n",
            "    (12): Linear(in_features=20, out_features=20, bias=True)\n",
            "    (13): Tanh()\n",
            "    (14): Linear(in_features=20, out_features=20, bias=True)\n",
            "    (15): Tanh()\n",
            "    (16): Linear(in_features=20, out_features=20, bias=True)\n",
            "    (17): Tanh()\n",
            "    (18): Linear(in_features=20, out_features=20, bias=True)\n",
            "    (19): Tanh()\n",
            "    (20): Linear(in_features=20, out_features=1, bias=True)\n",
            "  )\n",
            "  (loss): MSELoss()\n",
            ")\n"
          ]
        }
      ],
      "source": [
        "import torch\n",
        "import torch.nn as nn\n",
        "import numpy as np\n",
        "from scipy.io import loadmat\n",
        "from tqdm import tqdm\n",
        "\n",
        "class PINN(nn.Module):\n",
        "    def __init__(self, input_size, hidden_size, output_size):\n",
        "        super(PINN, self).__init__()\n",
        "        self.layers = nn.ModuleList([nn.Linear(input_size if i == 0 else hidden_size, hidden_size) if i %2 == 0 else nn.Tanh() for i in range(20)])\n",
        "        self.layers.append(nn.Linear(hidden_size, output_size))\n",
        "        self.loss = nn.MSELoss()\n",
        "        self.optimizer = torch.optim.Adam(self.parameters(), lr=0.001)\n",
        "\n",
        "    def forward(self, x):\n",
        "        for layer in self.layers:\n",
        "            x = layer(x)\n",
        "        return x\n",
        "\n",
        "    # ic and bc is of shape [x, 3]. first two columns is x and t, last column is u.\n",
        "    # predict using [:2], calc loss using [2]\n",
        "    def loss_fn(self, cond):\n",
        "        u_pred = self.forward(cond[:, :2])\n",
        "        return self.loss(u_pred, cond[:, 2])\n",
        "\n",
        "    def residual_loss(self, x_f_train, nu, fhat):\n",
        "        x = x_f_train[:, 0]\n",
        "        t = x_f_train[:, 1]\n",
        "        g = x_f_train.clone()\n",
        "        u_pred = self.forward(g)\n",
        "        u_t = torch.autograd.grad(u_pred, t, grad_outputs=torch.ones_like(u_pred), create_graph=True)[0]\n",
        "        u_x = torch.autograd.grad(u_pred, x, grad_outputs=torch.ones_like(u_pred), create_graph=True)[0]\n",
        "        u_xx = torch.autograd.grad(u_x, x, grad_outputs=torch.ones_like(u_x), create_graph=True)[0]\n",
        "        return self.loss(u_t + u_pred * u_x - (nu * u_xx), fhat)\n",
        "\n",
        "    def total_loss(self, x_f_train, ic_bc, nu, fhat):\n",
        "        return self.loss_fn(ic_bc) + self.residual_loss(x_f_train, nu, fhat)\n",
        "\n",
        "    def train_model(self, x_f_train, ic_bc, nu, epochs=1000, lr=0.001):\n",
        "        fhat = torch.zeros(x_f_train.shape[0], 1)\n",
        "        for epoch in tqdm(range(epochs)):\n",
        "            self.optimizer.zero_grad()\n",
        "            loss = self.total_loss(x_f_train, ic_bc, nu, fhat)\n",
        "            loss.backward()\n",
        "            self.optimizer.step()\n",
        "\n",
        "\n",
        "model = PINN(input_size=2, hidden_size=20, output_size=1)\n",
        "print(model)"
      ]
    },
    {
      "cell_type": "markdown",
      "metadata": {
        "id": "rGkiaXm9becD"
      },
      "source": [
        "# load data"
      ]
    },
    {
      "cell_type": "code",
      "execution_count": 3,
      "metadata": {
        "colab": {
          "base_uri": "https://localhost:8080/"
        },
        "id": "7rMohbkTURuR",
        "outputId": "2f5d4dcd-f422-4847-f6ee-6c351bdd2131"
      },
      "outputs": [
        {
          "data": {
            "text/plain": [
              "((100, 256), (100, 256))"
            ]
          },
          "execution_count": 3,
          "metadata": {},
          "output_type": "execute_result"
        }
      ],
      "source": [
        "data = loadmat(\"burgers_shock_mu_01_pi.mat\")\n",
        "u = data[\"usol\"]\n",
        "x = data[\"x\"]\n",
        "t = data[\"t\"]\n",
        "x = torch.tensor(x, dtype=torch.float32)\n",
        "t = torch.tensor(t, dtype=torch.float32)\n",
        "u = torch.tensor(u, dtype=torch.float32)\n",
        "# form a meshgrid, where X contains all the x points from -1 to 1, 100 times for 100 time steps.\n",
        "# T contains all 100 time steps from 0 to 1, 256 times for 256 x points\n",
        "X, T = np.meshgrid(x, t)\n",
        "X.shape, T.shape"
      ]
    },
    {
      "cell_type": "markdown",
      "metadata": {
        "id": "eVMwC7gSaXsd"
      },
      "source": [
        "# initial and boundary conditions"
      ]
    },
    {
      "cell_type": "code",
      "execution_count": 4,
      "metadata": {
        "colab": {
          "base_uri": "https://localhost:8080/"
        },
        "id": "9CSHvUkpYj-w",
        "outputId": "f27b85ed-f3b0-414c-8875-b98427c5bf89"
      },
      "outputs": [
        {
          "data": {
            "text/plain": [
              "(torch.Size([256, 3]), torch.Size([200, 3]))"
            ]
          },
          "execution_count": 4,
          "metadata": {},
          "output_type": "execute_result"
        }
      ],
      "source": [
        "# initial conditions, x at t=0. shape of 256, 1\n",
        "xic, tic, uic = X[0, :], T[0, :], u[:, 0]\n",
        "# bc1, x=1, t goes from 0 to 1. shape of 100, 1\n",
        "xbc1, tbc1, ubc1 = X[:, 0], T[:, 0], u[0, :]\n",
        "# bc2, x=-1, t goes from 0 to 1. shape of 100, 1\n",
        "xbc2, tbc2, ubc2 = X[:, -1], T[:, -1], u[-1, :]\n",
        "\n",
        "# Convert xic, tic, xbc1, tbc1, xbc2, and tbc2 to PyTorch tensors\n",
        "xic = torch.tensor(xic, dtype=torch.float32)\n",
        "tic = torch.tensor(tic, dtype=torch.float32)\n",
        "xbc1 = torch.tensor(xbc1, dtype=torch.float32)\n",
        "tbc1 = torch.tensor(tbc1, dtype=torch.float32)\n",
        "xbc2 = torch.tensor(xbc2, dtype=torch.float32)\n",
        "tbc2 = torch.tensor(tbc2, dtype=torch.float32)\n",
        "\n",
        "# stack em all together so we can pass it to the loss function. Shape of [n, 3]\n",
        "ic = torch.stack([xic, tic, uic], dim=1)\n",
        "bc1 = torch.stack([xbc1, tbc1, ubc1], dim=1)\n",
        "bc2 = torch.stack([xbc2, tbc2, ubc2], dim=1)\n",
        "bc = torch.vstack([bc1, bc2])\n",
        "\n",
        "ic.shape, bc.shape"
      ]
    },
    {
      "cell_type": "markdown",
      "metadata": {
        "id": "Slq2QveWbZ9n"
      },
      "source": [
        "# collocation points"
      ]
    },
    {
      "cell_type": "code",
      "execution_count": 17,
      "metadata": {
        "id": "TKCTUeIjYtMr"
      },
      "outputs": [
        {
          "data": {
            "text/plain": [
              "((10100, 2), (100, 3))"
            ]
          },
          "execution_count": 17,
          "metadata": {},
          "output_type": "execute_result"
        }
      ],
      "source": [
        "from pyDOE import lhs\n",
        "\n",
        "X_u_test = np.hstack((X.flatten()[:, None], T.flatten()[:, None]))\n",
        "lb = X_u_test[0]  \n",
        "ub = X_u_test[-1]\n",
        "lb, ub \n",
        "idx = np.random.choice(456, 100, replace=False)\n",
        "ic_bc_train = np.vstack([ic, bc])[idx, :]\n",
        "X_f_train = lb + (ub - lb) * lhs(2, 10000)\n",
        "X_f_train = np.vstack((X_f_train, ic_bc_train[:, :2]))\n",
        "X_f_train.shape, ic_bc_train.shape\n"
      ]
    },
    {
      "cell_type": "code",
      "execution_count": 27,
      "metadata": {},
      "outputs": [
        {
          "name": "stderr",
          "output_type": "stream",
          "text": [
            "/tmp/ipykernel_5546/3763497953.py:2: UserWarning: To copy construct from a tensor, it is recommended to use sourceTensor.clone().detach() or sourceTensor.clone().detach().requires_grad_(True), rather than torch.tensor(sourceTensor).\n",
            "  X_f_train = torch.tensor(X_f_train, dtype=torch.float32, device=device)\n",
            "/tmp/ipykernel_5546/3763497953.py:3: UserWarning: To copy construct from a tensor, it is recommended to use sourceTensor.clone().detach() or sourceTensor.clone().detach().requires_grad_(True), rather than torch.tensor(sourceTensor).\n",
            "  ic_bc_train = torch.tensor(ic_bc_train, dtype=torch.float32, device=device)\n"
          ]
        }
      ],
      "source": [
        "device = torch.device(\"cuda\")\n",
        "X_f_train = torch.tensor(X_f_train, dtype=torch.float32, device=device)\n",
        "ic_bc_train = torch.tensor(ic_bc_train, dtype=torch.float32, device=device)\n",
        "model = model.to(device)\n"
      ]
    },
    {
      "cell_type": "code",
      "execution_count": 28,
      "metadata": {},
      "outputs": [
        {
          "name": "stderr",
          "output_type": "stream",
          "text": [
            "  0%|          | 0/1000 [00:00<?, ?it/s]/home/shusrith/projects/torch/lib/python3.12/site-packages/torch/nn/modules/loss.py:608: UserWarning: Using a target size (torch.Size([100])) that is different to the input size (torch.Size([100, 1])). This will likely lead to incorrect results due to broadcasting. Please ensure they have the same size.\n",
            "  return F.mse_loss(input, target, reduction=self.reduction)\n",
            "  0%|          | 0/1000 [00:00<?, ?it/s]\n"
          ]
        },
        {
          "ename": "RuntimeError",
          "evalue": "One of the differentiated Tensors does not require grad",
          "output_type": "error",
          "traceback": [
            "\u001b[0;31m---------------------------------------------------------------------------\u001b[0m",
            "\u001b[0;31mRuntimeError\u001b[0m                              Traceback (most recent call last)",
            "Cell \u001b[0;32mIn[28], line 1\u001b[0m\n\u001b[0;32m----> 1\u001b[0m \u001b[43mmodel\u001b[49m\u001b[38;5;241;43m.\u001b[39;49m\u001b[43mtrain_model\u001b[49m\u001b[43m(\u001b[49m\u001b[43mX_f_train\u001b[49m\u001b[43m,\u001b[49m\u001b[43m \u001b[49m\u001b[43mic_bc_train\u001b[49m\u001b[43m,\u001b[49m\u001b[43m \u001b[49m\u001b[38;5;241;43m0.01\u001b[39;49m\u001b[43m,\u001b[49m\u001b[43m \u001b[49m\u001b[38;5;241;43m1000\u001b[39;49m\u001b[43m,\u001b[49m\u001b[43m \u001b[49m\u001b[38;5;241;43m0.001\u001b[39;49m\u001b[43m)\u001b[49m\n",
            "Cell \u001b[0;32mIn[26], line 43\u001b[0m, in \u001b[0;36mPINN.train_model\u001b[0;34m(self, x_f_train, ic_bc, nu, epochs, lr)\u001b[0m\n\u001b[1;32m     41\u001b[0m \u001b[38;5;28;01mfor\u001b[39;00m epoch \u001b[38;5;129;01min\u001b[39;00m tqdm(\u001b[38;5;28mrange\u001b[39m(epochs)):\n\u001b[1;32m     42\u001b[0m     \u001b[38;5;28mself\u001b[39m\u001b[38;5;241m.\u001b[39moptimizer\u001b[38;5;241m.\u001b[39mzero_grad()\n\u001b[0;32m---> 43\u001b[0m     loss \u001b[38;5;241m=\u001b[39m \u001b[38;5;28;43mself\u001b[39;49m\u001b[38;5;241;43m.\u001b[39;49m\u001b[43mtotal_loss\u001b[49m\u001b[43m(\u001b[49m\u001b[43mx_f_train\u001b[49m\u001b[43m,\u001b[49m\u001b[43m \u001b[49m\u001b[43mic_bc\u001b[49m\u001b[43m,\u001b[49m\u001b[43m \u001b[49m\u001b[43mnu\u001b[49m\u001b[43m,\u001b[49m\u001b[43m \u001b[49m\u001b[43mfhat\u001b[49m\u001b[43m)\u001b[49m\n\u001b[1;32m     44\u001b[0m     loss\u001b[38;5;241m.\u001b[39mbackward()\n\u001b[1;32m     45\u001b[0m     \u001b[38;5;28mself\u001b[39m\u001b[38;5;241m.\u001b[39moptimizer\u001b[38;5;241m.\u001b[39mstep()\n",
            "Cell \u001b[0;32mIn[26], line 37\u001b[0m, in \u001b[0;36mPINN.total_loss\u001b[0;34m(self, x_f_train, ic_bc, nu, fhat)\u001b[0m\n\u001b[1;32m     36\u001b[0m \u001b[38;5;28;01mdef\u001b[39;00m\u001b[38;5;250m \u001b[39m\u001b[38;5;21mtotal_loss\u001b[39m(\u001b[38;5;28mself\u001b[39m, x_f_train, ic_bc, nu, fhat):\n\u001b[0;32m---> 37\u001b[0m     \u001b[38;5;28;01mreturn\u001b[39;00m \u001b[38;5;28mself\u001b[39m\u001b[38;5;241m.\u001b[39mloss_fn(ic_bc) \u001b[38;5;241m+\u001b[39m \u001b[38;5;28;43mself\u001b[39;49m\u001b[38;5;241;43m.\u001b[39;49m\u001b[43mresidual_loss\u001b[49m\u001b[43m(\u001b[49m\u001b[43mx_f_train\u001b[49m\u001b[43m,\u001b[49m\u001b[43m \u001b[49m\u001b[43mnu\u001b[49m\u001b[43m,\u001b[49m\u001b[43m \u001b[49m\u001b[43mfhat\u001b[49m\u001b[43m)\u001b[49m\n",
            "Cell \u001b[0;32mIn[26], line 31\u001b[0m, in \u001b[0;36mPINN.residual_loss\u001b[0;34m(self, x_f_train, nu, fhat)\u001b[0m\n\u001b[1;32m     29\u001b[0m g \u001b[38;5;241m=\u001b[39m x_f_train\u001b[38;5;241m.\u001b[39mclone()\n\u001b[1;32m     30\u001b[0m u_pred \u001b[38;5;241m=\u001b[39m \u001b[38;5;28mself\u001b[39m\u001b[38;5;241m.\u001b[39mforward(g)\n\u001b[0;32m---> 31\u001b[0m u_t \u001b[38;5;241m=\u001b[39m \u001b[43mtorch\u001b[49m\u001b[38;5;241;43m.\u001b[39;49m\u001b[43mautograd\u001b[49m\u001b[38;5;241;43m.\u001b[39;49m\u001b[43mgrad\u001b[49m\u001b[43m(\u001b[49m\u001b[43mu_pred\u001b[49m\u001b[43m,\u001b[49m\u001b[43m \u001b[49m\u001b[43mt\u001b[49m\u001b[43m,\u001b[49m\u001b[43m \u001b[49m\u001b[43mgrad_outputs\u001b[49m\u001b[38;5;241;43m=\u001b[39;49m\u001b[43mtorch\u001b[49m\u001b[38;5;241;43m.\u001b[39;49m\u001b[43mones_like\u001b[49m\u001b[43m(\u001b[49m\u001b[43mu_pred\u001b[49m\u001b[43m)\u001b[49m\u001b[43m,\u001b[49m\u001b[43m \u001b[49m\u001b[43mcreate_graph\u001b[49m\u001b[38;5;241;43m=\u001b[39;49m\u001b[38;5;28;43;01mTrue\u001b[39;49;00m\u001b[43m)\u001b[49m[\u001b[38;5;241m0\u001b[39m]\n\u001b[1;32m     32\u001b[0m u_x \u001b[38;5;241m=\u001b[39m torch\u001b[38;5;241m.\u001b[39mautograd\u001b[38;5;241m.\u001b[39mgrad(u_pred, x, grad_outputs\u001b[38;5;241m=\u001b[39mtorch\u001b[38;5;241m.\u001b[39mones_like(u_pred), create_graph\u001b[38;5;241m=\u001b[39m\u001b[38;5;28;01mTrue\u001b[39;00m)[\u001b[38;5;241m0\u001b[39m]\n\u001b[1;32m     33\u001b[0m u_xx \u001b[38;5;241m=\u001b[39m torch\u001b[38;5;241m.\u001b[39mautograd\u001b[38;5;241m.\u001b[39mgrad(u_x, x, grad_outputs\u001b[38;5;241m=\u001b[39mtorch\u001b[38;5;241m.\u001b[39mones_like(u_x), create_graph\u001b[38;5;241m=\u001b[39m\u001b[38;5;28;01mTrue\u001b[39;00m)[\u001b[38;5;241m0\u001b[39m]\n",
            "File \u001b[0;32m~/projects/torch/lib/python3.12/site-packages/torch/autograd/__init__.py:496\u001b[0m, in \u001b[0;36mgrad\u001b[0;34m(outputs, inputs, grad_outputs, retain_graph, create_graph, only_inputs, allow_unused, is_grads_batched, materialize_grads)\u001b[0m\n\u001b[1;32m    492\u001b[0m     result \u001b[38;5;241m=\u001b[39m _vmap_internals\u001b[38;5;241m.\u001b[39m_vmap(vjp, \u001b[38;5;241m0\u001b[39m, \u001b[38;5;241m0\u001b[39m, allow_none_pass_through\u001b[38;5;241m=\u001b[39m\u001b[38;5;28;01mTrue\u001b[39;00m)(\n\u001b[1;32m    493\u001b[0m         grad_outputs_\n\u001b[1;32m    494\u001b[0m     )\n\u001b[1;32m    495\u001b[0m \u001b[38;5;28;01melse\u001b[39;00m:\n\u001b[0;32m--> 496\u001b[0m     result \u001b[38;5;241m=\u001b[39m \u001b[43m_engine_run_backward\u001b[49m\u001b[43m(\u001b[49m\n\u001b[1;32m    497\u001b[0m \u001b[43m        \u001b[49m\u001b[43moutputs\u001b[49m\u001b[43m,\u001b[49m\n\u001b[1;32m    498\u001b[0m \u001b[43m        \u001b[49m\u001b[43mgrad_outputs_\u001b[49m\u001b[43m,\u001b[49m\n\u001b[1;32m    499\u001b[0m \u001b[43m        \u001b[49m\u001b[43mretain_graph\u001b[49m\u001b[43m,\u001b[49m\n\u001b[1;32m    500\u001b[0m \u001b[43m        \u001b[49m\u001b[43mcreate_graph\u001b[49m\u001b[43m,\u001b[49m\n\u001b[1;32m    501\u001b[0m \u001b[43m        \u001b[49m\u001b[43minputs\u001b[49m\u001b[43m,\u001b[49m\n\u001b[1;32m    502\u001b[0m \u001b[43m        \u001b[49m\u001b[43mallow_unused\u001b[49m\u001b[43m,\u001b[49m\n\u001b[1;32m    503\u001b[0m \u001b[43m        \u001b[49m\u001b[43maccumulate_grad\u001b[49m\u001b[38;5;241;43m=\u001b[39;49m\u001b[38;5;28;43;01mFalse\u001b[39;49;00m\u001b[43m,\u001b[49m\n\u001b[1;32m    504\u001b[0m \u001b[43m    \u001b[49m\u001b[43m)\u001b[49m\n\u001b[1;32m    505\u001b[0m \u001b[38;5;28;01mif\u001b[39;00m materialize_grads:\n\u001b[1;32m    506\u001b[0m     \u001b[38;5;28;01mif\u001b[39;00m \u001b[38;5;28many\u001b[39m(\n\u001b[1;32m    507\u001b[0m         result[i] \u001b[38;5;129;01mis\u001b[39;00m \u001b[38;5;28;01mNone\u001b[39;00m \u001b[38;5;129;01mand\u001b[39;00m \u001b[38;5;129;01mnot\u001b[39;00m is_tensor_like(inputs[i])\n\u001b[1;32m    508\u001b[0m         \u001b[38;5;28;01mfor\u001b[39;00m i \u001b[38;5;129;01min\u001b[39;00m \u001b[38;5;28mrange\u001b[39m(\u001b[38;5;28mlen\u001b[39m(inputs))\n\u001b[1;32m    509\u001b[0m     ):\n",
            "File \u001b[0;32m~/projects/torch/lib/python3.12/site-packages/torch/autograd/graph.py:825\u001b[0m, in \u001b[0;36m_engine_run_backward\u001b[0;34m(t_outputs, *args, **kwargs)\u001b[0m\n\u001b[1;32m    823\u001b[0m     unregister_hooks \u001b[38;5;241m=\u001b[39m _register_logging_hooks_on_whole_graph(t_outputs)\n\u001b[1;32m    824\u001b[0m \u001b[38;5;28;01mtry\u001b[39;00m:\n\u001b[0;32m--> 825\u001b[0m     \u001b[38;5;28;01mreturn\u001b[39;00m \u001b[43mVariable\u001b[49m\u001b[38;5;241;43m.\u001b[39;49m\u001b[43m_execution_engine\u001b[49m\u001b[38;5;241;43m.\u001b[39;49m\u001b[43mrun_backward\u001b[49m\u001b[43m(\u001b[49m\u001b[43m  \u001b[49m\u001b[38;5;66;43;03m# Calls into the C++ engine to run the backward pass\u001b[39;49;00m\n\u001b[1;32m    826\u001b[0m \u001b[43m        \u001b[49m\u001b[43mt_outputs\u001b[49m\u001b[43m,\u001b[49m\u001b[43m \u001b[49m\u001b[38;5;241;43m*\u001b[39;49m\u001b[43margs\u001b[49m\u001b[43m,\u001b[49m\u001b[43m \u001b[49m\u001b[38;5;241;43m*\u001b[39;49m\u001b[38;5;241;43m*\u001b[39;49m\u001b[43mkwargs\u001b[49m\n\u001b[1;32m    827\u001b[0m \u001b[43m    \u001b[49m\u001b[43m)\u001b[49m  \u001b[38;5;66;03m# Calls into the C++ engine to run the backward pass\u001b[39;00m\n\u001b[1;32m    828\u001b[0m \u001b[38;5;28;01mfinally\u001b[39;00m:\n\u001b[1;32m    829\u001b[0m     \u001b[38;5;28;01mif\u001b[39;00m attach_logging_hooks:\n",
            "\u001b[0;31mRuntimeError\u001b[0m: One of the differentiated Tensors does not require grad"
          ]
        }
      ],
      "source": [
        "model.train_model(X_f_train, ic_bc_train, 0.01, 1000, 0.001)"
      ]
    },
    {
      "cell_type": "code",
      "execution_count": null,
      "metadata": {},
      "outputs": [],
      "source": []
    }
  ],
  "metadata": {
    "colab": {
      "provenance": []
    },
    "kernelspec": {
      "display_name": "torch",
      "language": "python",
      "name": "python3"
    },
    "language_info": {
      "codemirror_mode": {
        "name": "ipython",
        "version": 3
      },
      "file_extension": ".py",
      "mimetype": "text/x-python",
      "name": "python",
      "nbconvert_exporter": "python",
      "pygments_lexer": "ipython3",
      "version": "3.12.3"
    }
  },
  "nbformat": 4,
  "nbformat_minor": 0
}
