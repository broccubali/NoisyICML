{
  "nbformat": 4,
  "nbformat_minor": 0,
  "metadata": {
    "colab": {
      "provenance": [],
      "gpuType": "T4"
    },
    "kernelspec": {
      "name": "python3",
      "display_name": "Python 3"
    },
    "language_info": {
      "name": "python"
    },
    "accelerator": "GPU"
  },
  "cells": [
    {
      "cell_type": "code",
      "execution_count": null,
      "metadata": {
        "colab": {
          "base_uri": "https://localhost:8080/"
        },
        "id": "ZZRofdLlwU0M",
        "outputId": "118d5c39-d504-43ec-d526-1abfdcb2a47a"
      },
      "outputs": [
        {
          "output_type": "stream",
          "name": "stdout",
          "text": [
            "Warning: Looks like you're using an outdated `kagglehub` version (installed: 0.3.6), please consider upgrading to the latest version (0.3.7).\n",
            "Downloading from https://www.kaggle.com/api/v1/datasets/download/namitaachyuth/wave-equation?dataset_version_number=1...\n"
          ]
        },
        {
          "output_type": "stream",
          "name": "stderr",
          "text": [
            "100%|██████████| 2.80G/2.80G [00:43<00:00, 69.0MB/s]"
          ]
        },
        {
          "output_type": "stream",
          "name": "stdout",
          "text": [
            "Extracting files...\n"
          ]
        },
        {
          "output_type": "stream",
          "name": "stderr",
          "text": [
            "\n"
          ]
        },
        {
          "output_type": "stream",
          "name": "stdout",
          "text": [
            "Path to dataset files: /root/.cache/kagglehub/datasets/namitaachyuth/wave-equation/versions/1\n"
          ]
        }
      ],
      "source": [
        "import kagglehub\n",
        "\n",
        "# Download latest version\n",
        "path = kagglehub.dataset_download(\"namitaachyuth/wave-equation\")\n",
        "\n",
        "print(\"Path to dataset files:\", path)"
      ]
    },
    {
      "cell_type": "code",
      "source": [
        "!ls /root/.cache/kagglehub/datasets/namitaachyuth/wave-equation/versions/1"
      ],
      "metadata": {
        "colab": {
          "base_uri": "https://localhost:8080/"
        },
        "id": "hHh6EGYfw7Yk",
        "outputId": "192ba61c-49e6-4e4c-aa9e-9b48925ce9b3"
      },
      "execution_count": null,
      "outputs": [
        {
          "output_type": "stream",
          "name": "stdout",
          "text": [
            "wave_solutions_new.h5\n"
          ]
        }
      ]
    },
    {
      "cell_type": "code",
      "source": [
        "import torch\n",
        "import torch.nn as nn\n",
        "import numpy as np\n",
        "from scipy.io import loadmat\n",
        "from tqdm import tqdm\n",
        "\n",
        "\n",
        "class PINN(nn.Module):\n",
        "    def __init__(self, input_size, hidden_size, output_size):\n",
        "        super(PINN, self).__init__()\n",
        "        self.layers = nn.ModuleList(\n",
        "            [\n",
        "                (\n",
        "                    nn.Linear(input_size if i == 0 else hidden_size, hidden_size)\n",
        "                    if i % 2 == 0\n",
        "                    else nn.Tanh()\n",
        "                )\n",
        "                for i in range(20)\n",
        "            ]\n",
        "        )\n",
        "        self.layers.append(nn.Linear(hidden_size, output_size))\n",
        "        self.loss = nn.MSELoss()\n",
        "        self.c = nn.Parameter(torch.tensor([1.0], dtype=torch.float32, device=\"cuda\"))\n",
        "        self.optimizer = torch.optim.Adam(self.parameters(), lr=1e-3)\n",
        "\n",
        "    def forward(self, x):\n",
        "        for layer in self.layers:\n",
        "            x = layer(x)\n",
        "        return x\n",
        "\n",
        "    def loss_fn(self, x, u):\n",
        "        u_pred = self.forward(x)\n",
        "        return self.loss(u_pred, u)\n",
        "\n",
        "    def residual_loss(self, xtrain, fhat):\n",
        "        x = xtrain[:, 0] # spatial\n",
        "        t = xtrain[:, 1] # temporal\n",
        "        g = xtrain.clone()\n",
        "        g.requires_grad = True\n",
        "\n",
        "        u_pred = self.forward(g) # now I predict u(x,t)\n",
        "\n",
        "        u_x_t = torch.autograd.grad(\n",
        "            u_pred,\n",
        "            g,\n",
        "            torch.ones([xtrain.shape[0], 1]).to(\"cuda\"),\n",
        "            retain_graph=True,\n",
        "            create_graph=True,\n",
        "        )[0] # first derivatives wrt x and t\n",
        "\n",
        "        u_xx_tt = torch.autograd.grad(\n",
        "            u_x_t, g, torch.ones(xtrain.shape).to(\"cuda\"), create_graph=True\n",
        "        )[0] # second derivatives wrt x and t\n",
        "\n",
        "        # u_x = u_x_t[:, [0]]\n",
        "        # u_t = u_x_t[:, [1]]\n",
        "        u_xx = u_xx_tt[:, [0]] # second derivative wrt x\n",
        "        u_tt = u_xx_tt[:, [1]] # second derivative wrt t\n",
        "\n",
        "        # residual = u_tt - c^2 * u_xx\n",
        "        residual = u_tt - self.c ** 2 * u_xx\n",
        "        return self.loss(residual, fhat)\n",
        "        # return self.loss(u_t + (self.lambda1 * u_pred * u_x) - (self.lambda2 * u_xx), fhat)\n",
        "\n",
        "    def total_loss(self, xtrain, utrain, fhat):\n",
        "        return self.loss_fn(xtrain, utrain) + self.residual_loss(xtrain, fhat)\n",
        "\n",
        "    def train_model(self, xtrain, utrain, epochs=1000):\n",
        "        fhat = torch.zeros(xtrain.shape[0], 1, device=\"cuda\")\n",
        "        for epoch in tqdm(range(epochs)):\n",
        "            self.optimizer.zero_grad()\n",
        "            loss = self.total_loss(xtrain, utrain, fhat)\n",
        "            loss.backward()\n",
        "            self.optimizer.step()\n",
        "            if epoch % 1000 == 0:\n",
        "                print(f\"Epoch {epoch}, Loss {loss.item()}, c, {self.c.item()}\")"
      ],
      "metadata": {
        "id": "qnfvFlrewcYI"
      },
      "execution_count": null,
      "outputs": []
    },
    {
      "cell_type": "code",
      "source": [
        "import h5py\n",
        "import random\n",
        "random.seed(69)\n",
        "\n",
        "\n",
        "with h5py.File(\"/root/.cache/kagglehub/datasets/namitaachyuth/wave-equation/versions/1/wave_solutions_new.h5\", \"r\") as f:\n",
        "    l = random.choices(list(f.keys()), k=100)\n",
        "    utrain = f[l[1]][\"noisy\"][0]\n"
      ],
      "metadata": {
        "id": "p-vatHqAwkcj"
      },
      "execution_count": null,
      "outputs": []
    },
    {
      "cell_type": "code",
      "source": [
        "x = [i for i in range(201)]\n",
        "t = [i for i in range(1024)]\n",
        "\n",
        "X, T = np.meshgrid(x, t)\n",
        "X.shape, T.shape\n",
        "# xtrue = np.hstack((X.flatten()[:, None], T.flatten()[:, None]))\n",
        "# utrue = u.T.flatten()[:, None]\n",
        "# device = torch.device(\"cuda\")\n",
        "\n",
        "# idx = np.random.choice(xtrue.shape[0], 10000, replace=False)\n",
        "# xtrain = xtrue[idx, :]\n",
        "# utrain = utrue[idx]\n",
        "\n",
        "# xtrain = torch.tensor(xtrain, dtype=torch.float32, device=device)\n",
        "# utrain = torch.tensor(utrain, dtype=torch.float32, device=device)\n",
        "# xtrain.shape, utrain.shape\n"
      ],
      "metadata": {
        "colab": {
          "base_uri": "https://localhost:8080/"
        },
        "id": "8wAZ2XnwwhYF",
        "outputId": "5673635f-f5ed-44e8-e494-b645089c4792"
      },
      "execution_count": null,
      "outputs": [
        {
          "output_type": "execute_result",
          "data": {
            "text/plain": [
              "((1024, 201), (1024, 201))"
            ]
          },
          "metadata": {},
          "execution_count": 27
        }
      ]
    },
    {
      "cell_type": "code",
      "source": [
        "model = PINN(input_size=2, hidden_size=20, output_size=1).to(device)\n",
        "model.train_model(Xtrain, utrain, epochs=5000)"
      ],
      "metadata": {
        "id": "1pgTyIEIxctM"
      },
      "execution_count": null,
      "outputs": []
    }
  ]
}