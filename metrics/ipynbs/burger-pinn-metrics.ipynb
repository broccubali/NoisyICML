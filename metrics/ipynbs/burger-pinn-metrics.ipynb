{
 "cells": [
  {
   "cell_type": "markdown",
   "id": "99a3203e",
   "metadata": {
    "id": "oj6BZ7YFbcg6",
    "papermill": {
     "duration": 0.002668,
     "end_time": "2025-02-07T09:52:32.407883",
     "exception": false,
     "start_time": "2025-02-07T09:52:32.405215",
     "status": "completed"
    },
    "tags": []
   },
   "source": [
    "# pinn class"
   ]
  },
  {
   "cell_type": "code",
   "execution_count": null,
   "id": "1ae775e0",
   "metadata": {
    "execution": {
     "iopub.execute_input": "2025-02-07T09:52:32.413636Z",
     "iopub.status.busy": "2025-02-07T09:52:32.413302Z",
     "iopub.status.idle": "2025-02-07T09:52:39.097853Z",
     "shell.execute_reply": "2025-02-07T09:52:39.096717Z"
    },
    "id": "7zMBM8RvSZ-B",
    "outputId": "c847dc8b-6a3b-4049-8301-2d9972b7e215",
    "papermill": {
     "duration": 6.689039,
     "end_time": "2025-02-07T09:52:39.099315",
     "exception": false,
     "start_time": "2025-02-07T09:52:32.410276",
     "status": "completed"
    },
    "tags": []
   },
   "outputs": [],
   "source": [
    "import torch\n",
    "import torch.nn as nn\n",
    "import numpy as np\n",
    "\n",
    "\n",
    "class PINN(nn.Module):\n",
    "    def __init__(self, input_size, hidden_size, output_size, lambda2):\n",
    "        super(PINN, self).__init__()\n",
    "        self.layers = nn.ModuleList(\n",
    "            [\n",
    "                (\n",
    "                    nn.Linear(input_size if i == 0 else hidden_size, hidden_size)\n",
    "                    if i % 2 == 0\n",
    "                    else nn.Tanh()\n",
    "                )\n",
    "                for i in range(20)\n",
    "            ]\n",
    "        )\n",
    "        self.layers.append(nn.Linear(hidden_size, output_size))\n",
    "        self.loss = nn.MSELoss()\n",
    "        self.optimizer = torch.optim.Adam(self.parameters(), lr=1e-3)\n",
    "        self.lambda2 = lambda2\n",
    "\n",
    "    def forward(self, x):\n",
    "        for layer in self.layers:\n",
    "            x = layer(x)\n",
    "        return x\n",
    "\n",
    "    def loss_fn(self, x, u):\n",
    "        u_pred = self.forward(x)\n",
    "        return self.loss(u_pred, u)\n",
    "\n",
    "    def residual_loss(self, xtrain, fhat):\n",
    "        x = xtrain[:, 0]\n",
    "        t = xtrain[:, 1]\n",
    "        g = xtrain.clone()\n",
    "        g.requires_grad = True\n",
    "        u_pred = self.forward(g)\n",
    "        u_x_t = torch.autograd.grad(\n",
    "            u_pred,\n",
    "            g,\n",
    "            torch.ones([xtrain.shape[0], 1]).to(\"cuda\"),\n",
    "            retain_graph=True,\n",
    "            create_graph=True,\n",
    "        )[0]\n",
    "        u_xx_tt = torch.autograd.grad(\n",
    "            u_x_t, g, torch.ones(xtrain.shape).to(\"cuda\"), create_graph=True\n",
    "        )[0]\n",
    "        u_x = u_x_t[:, [0]]\n",
    "        u_t = u_x_t[:, [1]]\n",
    "        u_xx = u_xx_tt[:, [0]]\n",
    "        return self.loss(u_t + (u_pred * u_x) - (self.lambda2 * u_xx), fhat)\n",
    "\n",
    "    def total_loss(self, xtrain, utrain, fhat):\n",
    "        return self.loss_fn(xtrain, utrain) + self.residual_loss(xtrain, fhat)\n",
    "\n",
    "    def train_model(self, xtrain, utrain, epochs=1000):\n",
    "        fhat = torch.zeros(xtrain.shape[0], 1, device=\"cuda\")\n",
    "        for epoch in range(epochs):\n",
    "            self.optimizer.zero_grad()\n",
    "            loss = self.total_loss(xtrain, utrain, fhat)\n",
    "            loss.backward()\n",
    "            self.optimizer.step()\n",
    "            if epoch % 1000 == 0:\n",
    "                print(f\"Epoch {epoch}, Loss {loss.item()}\")\n",
    "        return loss.item()"
   ]
  },
  {
   "cell_type": "markdown",
   "id": "ba8290ef",
   "metadata": {
    "id": "rGkiaXm9becD",
    "papermill": {
     "duration": 0.002048,
     "end_time": "2025-02-07T09:52:39.103830",
     "exception": false,
     "start_time": "2025-02-07T09:52:39.101782",
     "status": "completed"
    },
    "tags": []
   },
   "source": [
    "# load data"
   ]
  },
  {
   "cell_type": "code",
   "execution_count": 8,
   "id": "e3906c36",
   "metadata": {
    "execution": {
     "iopub.execute_input": "2025-02-07T09:52:39.108933Z",
     "iopub.status.busy": "2025-02-07T09:52:39.108607Z",
     "iopub.status.idle": "2025-02-07T09:52:42.074904Z",
     "shell.execute_reply": "2025-02-07T09:52:42.074063Z"
    },
    "papermill": {
     "duration": 2.970406,
     "end_time": "2025-02-07T09:52:42.076283",
     "exception": false,
     "start_time": "2025-02-07T09:52:39.105877",
     "status": "completed"
    },
    "tags": []
   },
   "outputs": [
    {
     "data": {
      "text/plain": [
       "((1024,), (202,))"
      ]
     },
     "execution_count": 8,
     "metadata": {},
     "output_type": "execute_result"
    }
   ],
   "source": [
    "from math import ceil\n",
    "dt_save = 0.01\n",
    "ini_time = 0.0\n",
    "fin_time = 2.0\n",
    "nx = 1024\n",
    "xL = -1.0\n",
    "xR = 1.0\n",
    "if_second_order = 1.0\n",
    "show_steps = 100\n",
    "dx = (xR - xL) / nx\n",
    "xe = np.linspace(xL, xR, nx + 1)\n",
    "x = xe[:-1] + 0.5 * dx\n",
    "it_tot = ceil((fin_time - ini_time) / dt_save) + 1\n",
    "t = np.arange(it_tot + 1) * dt_save\n",
    "x.shape, t.shape"
   ]
  },
  {
   "cell_type": "code",
   "execution_count": 25,
   "id": "091dcda3",
   "metadata": {
    "execution": {
     "iopub.execute_input": "2025-02-07T09:52:42.082652Z",
     "iopub.status.busy": "2025-02-07T09:52:42.082306Z",
     "iopub.status.idle": "2025-02-07T09:52:42.203846Z",
     "shell.execute_reply": "2025-02-07T09:52:42.202873Z"
    },
    "papermill": {
     "duration": 0.126626,
     "end_time": "2025-02-07T09:52:42.205572",
     "exception": false,
     "start_time": "2025-02-07T09:52:42.078946",
     "status": "completed"
    },
    "tags": []
   },
   "outputs": [],
   "source": [
    "X, T = np.meshgrid(x, t[:-1])\n",
    "xtrue = np.hstack((X.flatten()[:, None], T.flatten()[:, None]))\n",
    "xtrue = torch.tensor(xtrue, dtype=torch.float32, device=\"cuda\")\n",
    "device = \"cuda\""
   ]
  },
  {
   "cell_type": "code",
   "execution_count": null,
   "id": "62a4d630",
   "metadata": {
    "execution": {
     "iopub.execute_input": "2025-02-07T09:52:42.211308Z",
     "iopub.status.busy": "2025-02-07T09:52:42.211081Z",
     "iopub.status.idle": "2025-02-07T09:52:42.215274Z",
     "shell.execute_reply": "2025-02-07T09:52:42.214635Z"
    },
    "id": "7rMohbkTURuR",
    "papermill": {
     "duration": 0.008178,
     "end_time": "2025-02-07T09:52:42.216393",
     "exception": false,
     "start_time": "2025-02-07T09:52:42.208215",
     "status": "completed"
    },
    "tags": []
   },
   "outputs": [],
   "source": [
    "import torch\n",
    "import numpy as np\n",
    "def loadAndPrep(u):\n",
    "    idx = np.random.choice(u.flatten().shape[0], 10000, replace=False)\n",
    "    xtrain = xtrue[idx, :]\n",
    "    utrain = u.flatten()[idx][:, None]\n",
    "    utrain = torch.tensor(utrain, dtype=torch.float32).to(device)\n",
    "    return xtrain, utrain"
   ]
  },
  {
   "cell_type": "code",
   "execution_count": 27,
   "id": "722233da",
   "metadata": {
    "execution": {
     "iopub.execute_input": "2025-02-07T09:52:42.221463Z",
     "iopub.status.busy": "2025-02-07T09:52:42.221262Z",
     "iopub.status.idle": "2025-02-07T09:52:42.225353Z",
     "shell.execute_reply": "2025-02-07T09:52:42.224787Z"
    },
    "id": "2FOOLeOZ1kej",
    "papermill": {
     "duration": 0.007912,
     "end_time": "2025-02-07T09:52:42.226486",
     "exception": false,
     "start_time": "2025-02-07T09:52:42.218574",
     "status": "completed"
    },
    "tags": []
   },
   "outputs": [],
   "source": [
    "import gc\n",
    "def trainAndLog(u, e):\n",
    "    xtrain, utrain = loadAndPrep(u)\n",
    "    model = PINN(input_size=2, hidden_size=20, output_size=1, lambda2=e).to(\"cuda\")\n",
    "    loss = model.train_model(xtrain, utrain, epochs=5000)\n",
    "    with torch.no_grad():\n",
    "        pred = model(xtrue).cpu().numpy()\n",
    "    l = np.mean((u.flatten() - pred.flatten())**2)\n",
    "    del model\n",
    "    gc.collect()\n",
    "    torch.cuda.empty_cache()\n",
    "    return l, loss"
   ]
  },
  {
   "cell_type": "code",
   "execution_count": null,
   "id": "370919be",
   "metadata": {
    "execution": {
     "iopub.execute_input": "2025-02-07T09:52:42.231538Z",
     "iopub.status.busy": "2025-02-07T09:52:42.231338Z",
     "iopub.status.idle": "2025-02-07T11:27:05.715013Z",
     "shell.execute_reply": "2025-02-07T11:27:05.714097Z"
    },
    "id": "piSIjloX1kek",
    "outputId": "51226dbd-bef9-4e27-f831-647d84e002aa",
    "papermill": {
     "duration": 5663.488053,
     "end_time": "2025-02-07T11:27:05.716715",
     "exception": false,
     "start_time": "2025-02-07T09:52:42.228662",
     "status": "completed"
    },
    "tags": []
   },
   "outputs": [],
   "source": [
    "import h5py\n",
    "import random\n",
    "import json\n",
    "\n",
    "random.seed(69)\n",
    "d = {}\n",
    "# /kaggle/input/burgers-clean/simulation_data.h5\n",
    "with h5py.File(\"simulation_data.h5\", \"r\") as f:\n",
    "    a = random.choices(list(f.keys()), k=50)\n",
    "    n = 0\n",
    "    for i in a:\n",
    "        print(n)\n",
    "        e = f[i][\"epsilon\"][()]\n",
    "        print(e / np.pi)\n",
    "        uclean = f[i][\"clean\"][:]\n",
    "        mse, loss = trainAndLog(uclean, e)\n",
    "        unoisy = f[i][\"noisy\"][:]\n",
    "        mse1, loss1 = trainAndLog(unoisy, e)\n",
    "        d[i] = {\n",
    "            \"clean\": {\"mse\": float(mse), \"loss\": float(loss)},\n",
    "            \"noisy\": {\"mse\": float(mse1), \"loss\": float(loss1)},\n",
    "        }\n",
    "        n += 1\n",
    "        with open(\"results.json\", \"w\") as g:\n",
    "            json.dump(d, g)"
   ]
  }
 ],
 "metadata": {
  "accelerator": "GPU",
  "colab": {
   "gpuType": "T4",
   "name": "burger-pinn-metrics",
   "provenance": []
  },
  "kaggle": {
   "accelerator": "gpu",
   "dataSources": [
    {
     "datasetId": 6553954,
     "sourceId": 10602798,
     "sourceType": "datasetVersion"
    }
   ],
   "dockerImageVersionId": 30840,
   "isGpuEnabled": true,
   "isInternetEnabled": true,
   "language": "python",
   "sourceType": "notebook"
  },
  "kernelspec": {
   "display_name": "Python (myenv)",
   "language": "python",
   "name": "torch"
  },
  "language_info": {
   "codemirror_mode": {
    "name": "ipython",
    "version": 3
   },
   "file_extension": ".py",
   "mimetype": "text/x-python",
   "name": "python",
   "nbconvert_exporter": "python",
   "pygments_lexer": "ipython3",
   "version": "3.12.3"
  },
  "papermill": {
   "default_parameters": {},
   "duration": 5677.563762,
   "end_time": "2025-02-07T11:27:07.425235",
   "environment_variables": {},
   "exception": null,
   "input_path": "__notebook__.ipynb",
   "output_path": "__notebook__.ipynb",
   "parameters": {},
   "start_time": "2025-02-07T09:52:29.861473",
   "version": "2.6.0"
  }
 },
 "nbformat": 4,
 "nbformat_minor": 5
}
