{
 "cells": [
  {
   "cell_type": "code",
   "execution_count": 1,
   "id": "552c16ea",
   "metadata": {
    "_cell_guid": "1321b850-53a7-499a-9713-0c452e67d125",
    "_uuid": "0cb88dac-e382-406b-a687-6bc20ce7067b",
    "collapsed": false,
    "execution": {
     "iopub.execute_input": "2024-11-21T11:24:29.425275Z",
     "iopub.status.busy": "2024-11-21T11:24:29.424969Z",
     "iopub.status.idle": "2024-11-21T11:24:41.649192Z",
     "shell.execute_reply": "2024-11-21T11:24:41.648511Z"
    },
    "jupyter": {
     "outputs_hidden": false
    },
    "papermill": {
     "duration": 12.231308,
     "end_time": "2024-11-21T11:24:41.651103",
     "exception": false,
     "start_time": "2024-11-21T11:24:29.419795",
     "status": "completed"
    },
    "tags": []
   },
   "outputs": [],
   "source": [
    "import numpy as np\n",
    "import tensorflow as tf\n",
    "from tensorflow.keras import layers, Model\n",
    "from scipy.io import loadmat\n",
    "\n",
    "class PINN(Model):\n",
    "    def __init__(self, layers_dims):\n",
    "        super(PINN, self).__init__()\n",
    "        self.network = tf.keras.Sequential()\n",
    "        for dim in layers_dims:\n",
    "            self.network.add(layers.Dense(dim, activation=\"tanh\"))\n",
    "        self.network.add(layers.Dense(1))  \n",
    "\n",
    "    def call(self, inputs):\n",
    "        return self.network(inputs)"
   ]
  },
  {
   "cell_type": "code",
   "execution_count": 2,
   "id": "4579e96d",
   "metadata": {
    "execution": {
     "iopub.execute_input": "2024-11-21T11:24:41.669592Z",
     "iopub.status.busy": "2024-11-21T11:24:41.669097Z",
     "iopub.status.idle": "2024-11-21T11:24:41.675838Z",
     "shell.execute_reply": "2024-11-21T11:24:41.675124Z"
    },
    "papermill": {
     "duration": 0.013066,
     "end_time": "2024-11-21T11:24:41.677344",
     "exception": false,
     "start_time": "2024-11-21T11:24:41.664278",
     "status": "completed"
    },
    "tags": []
   },
   "outputs": [],
   "source": [
    "def physics_informed_loss(\n",
    "    model, x, t, initial_condition, boundary_condition, epsilon\n",
    "):\n",
    "    with tf.GradientTape(persistent=True) as tape:\n",
    "        tape.watch([x, t])\n",
    "        u = model(tf.concat([x, t], axis=1))\n",
    "\n",
    "        u_t = tape.gradient(u, t)\n",
    "        u_x = tape.gradient(u, x)\n",
    "        u_xx = tape.gradient(u_x, x)\n",
    "\n",
    "    residual = u_t + u * u_x - epsilon * u_xx\n",
    "\n",
    "    # Initial condition loss\n",
    "    ic_loss = model(initial_condition[:, :2])\n",
    "    initial_loss = tf.reduce_mean(tf.square(ic_loss - initial_condition[:, 2]))\n",
    "\n",
    "    # Periodic boundary condition loss\n",
    "    bc_loss = model(boundary_condition[:, :2])\n",
    "    bc_loss = tf.reduce_mean(tf.square(bc_loss - boundary_condition[:, 2]))\n",
    "\n",
    "    # Residual loss\n",
    "    residual_loss = tf.reduce_mean(tf.square(residual))\n",
    "\n",
    "    return initial_loss + bc_loss + residual_loss"
   ]
  },
  {
   "cell_type": "code",
   "execution_count": 3,
   "id": "33d205eb",
   "metadata": {
    "execution": {
     "iopub.execute_input": "2024-11-21T11:24:41.693878Z",
     "iopub.status.busy": "2024-11-21T11:24:41.693641Z",
     "iopub.status.idle": "2024-11-21T11:24:41.699037Z",
     "shell.execute_reply": "2024-11-21T11:24:41.698281Z"
    },
    "papermill": {
     "duration": 0.011602,
     "end_time": "2024-11-21T11:24:41.700527",
     "exception": false,
     "start_time": "2024-11-21T11:24:41.688925",
     "status": "completed"
    },
    "tags": []
   },
   "outputs": [],
   "source": [
    "def train_model(\n",
    "    model,\n",
    "    x,\n",
    "    t,\n",
    "    initial_condition,\n",
    "    boundary_condition,\n",
    "    du,\n",
    "    epsilon,\n",
    "    epochs,\n",
    "    learning_rate,\n",
    "):\n",
    "    x_grid, t_grid = tf.meshgrid(x[:, 0], t[:, 0])  \n",
    "    x_flat = tf.reshape(x_grid, [-1, 1])  \n",
    "    t_flat = tf.reshape(t_grid, [-1, 1]) \n",
    "\n",
    "    optimizer = tf.keras.optimizers.Adam(learning_rate)\n",
    "\n",
    "    for epoch in range(epochs):\n",
    "        with tf.GradientTape() as tape:\n",
    "            loss = physics_informed_loss(\n",
    "                model,\n",
    "                x_flat,\n",
    "                t_flat,\n",
    "                initial_condition,\n",
    "                boundary_condition,\n",
    "                du,\n",
    "                epsilon,\n",
    "            )\n",
    "        grads = tape.gradient(loss, model.trainable_variables)\n",
    "        optimizer.apply_gradients(zip(grads, model.trainable_variables))\n",
    "\n",
    "        if epoch % 100 == 0:\n",
    "            print(f\"Epoch {epoch}, Loss: {loss.numpy():.6f}\")"
   ]
  },
  {
   "cell_type": "code",
   "execution_count": 4,
   "id": "59561bc4",
   "metadata": {
    "execution": {
     "iopub.execute_input": "2024-11-21T11:24:41.717270Z",
     "iopub.status.busy": "2024-11-21T11:24:41.717033Z",
     "iopub.status.idle": "2024-11-21T11:24:41.721667Z",
     "shell.execute_reply": "2024-11-21T11:24:41.720920Z"
    },
    "papermill": {
     "duration": 0.010897,
     "end_time": "2024-11-21T11:24:41.723160",
     "exception": false,
     "start_time": "2024-11-21T11:24:41.712263",
     "status": "completed"
    },
    "tags": []
   },
   "outputs": [],
   "source": [
    "def load_data(file_name, type):\n",
    "    with h5py.File(file_name, \"r\") as f:\n",
    "        initial_condition = f[f\"0/initial_condition_{type}\"][:]\n",
    "        boundary_condition = f[f\"0/boundary_condition_{type}\"][:]\n",
    "        clean_data = f[\"0/clean\"][:]\n",
    "        du = f[\"0/du\"][()]\n",
    "        epsilon = f[\"0/epsilon\"][()]\n",
    "        u0 = f[\"0/u0\"][()]\n",
    "        x = f[\"coords/x-coordinates\"][:]\n",
    "        t = f[\"coords/t-coordinates\"][:-1]\n",
    "    return (\n",
    "        initial_condition,\n",
    "        boundary_condition,\n",
    "        clean_data,\n",
    "        du,\n",
    "        epsilon,\n",
    "        u0,\n",
    "        x,\n",
    "        t,\n",
    "    )"
   ]
  },
  {
   "cell_type": "code",
   "execution_count": 5,
   "id": "7a3df704",
   "metadata": {
    "execution": {
     "iopub.execute_input": "2024-11-21T11:24:41.740150Z",
     "iopub.status.busy": "2024-11-21T11:24:41.739571Z",
     "iopub.status.idle": "2024-11-21T11:24:42.661152Z",
     "shell.execute_reply": "2024-11-21T11:24:42.660503Z"
    },
    "papermill": {
     "duration": 0.928274,
     "end_time": "2024-11-21T11:24:42.663129",
     "exception": false,
     "start_time": "2024-11-21T11:24:41.734855",
     "status": "completed"
    },
    "tags": []
   },
   "outputs": [],
   "source": [
    "# Load the data\n",
    "file_name = (\n",
    "    \"/kaggle/input/burgers-noisy/simulation_data.h5\"  # Replace with your data file\n",
    ")\n",
    "initial_condition, boundary_condition, clean_data, du, epsilon, u0, x, t = load_data(\n",
    "    file_name, \"noisy\"\n",
    ")\n",
    "\n",
    "x = tf.convert_to_tensor(x, dtype=tf.float32)[:, None]  # x-coordinates as column vector\n",
    "t = tf.convert_to_tensor(t, dtype=tf.float32)[:, None]  # t-coordinates as column vector\n",
    "initial_condition = tf.convert_to_tensor(initial_condition, dtype=tf.float32)\n",
    "boundary_condition = tf.convert_to_tensor(boundary_condition, dtype=tf.float32)\n",
    "\n",
    "layers_dims = [50, 50, 50]\n",
    "epochs = 10000\n",
    "learning_rate = 1e-3\n",
    "\n",
    "model = PINN(layers_dims)"
   ]
  },
  {
   "cell_type": "markdown",
   "id": "ef2b8f55",
   "metadata": {
    "papermill": {
     "duration": 0.003907,
     "end_time": "2024-11-21T11:24:42.671286",
     "exception": false,
     "start_time": "2024-11-21T11:24:42.667379",
     "status": "completed"
    },
    "tags": []
   },
   "source": [
    "## Training Noisy"
   ]
  },
  {
   "cell_type": "code",
   "execution_count": 6,
   "id": "b266b79b",
   "metadata": {
    "execution": {
     "iopub.execute_input": "2024-11-21T11:24:42.680521Z",
     "iopub.status.busy": "2024-11-21T11:24:42.680247Z",
     "iopub.status.idle": "2024-11-21T11:42:30.318320Z",
     "shell.execute_reply": "2024-11-21T11:42:30.317419Z"
    },
    "papermill": {
     "duration": 1067.644932,
     "end_time": "2024-11-21T11:42:30.320329",
     "exception": false,
     "start_time": "2024-11-21T11:24:42.675397",
     "status": "completed"
    },
    "tags": []
   },
   "outputs": [
    {
     "name": "stdout",
     "output_type": "stream",
     "text": [
      "Epoch 0, Loss: 1.494818\n",
      "Epoch 100, Loss: 0.554695\n",
      "Epoch 200, Loss: 0.329819\n",
      "Epoch 300, Loss: 0.261835\n",
      "Epoch 400, Loss: 0.251033\n",
      "Epoch 500, Loss: 0.243114\n",
      "Epoch 600, Loss: 0.235674\n",
      "Epoch 700, Loss: 0.225637\n",
      "Epoch 800, Loss: 0.210556\n",
      "Epoch 900, Loss: 0.192006\n",
      "Epoch 1000, Loss: 0.179609\n",
      "Epoch 1100, Loss: 0.172866\n",
      "Epoch 1200, Loss: 0.168310\n",
      "Epoch 1300, Loss: 0.166577\n",
      "Epoch 1400, Loss: 0.165576\n",
      "Epoch 1500, Loss: 0.164757\n",
      "Epoch 1600, Loss: 0.165785\n",
      "Epoch 1700, Loss: 0.163406\n",
      "Epoch 1800, Loss: 0.162896\n",
      "Epoch 1900, Loss: 0.162403\n",
      "Epoch 2000, Loss: 0.161876\n",
      "Epoch 2100, Loss: 0.161491\n",
      "Epoch 2200, Loss: 0.161090\n",
      "Epoch 2300, Loss: 0.160681\n",
      "Epoch 2400, Loss: 0.160311\n",
      "Epoch 2500, Loss: 0.159940\n",
      "Epoch 2600, Loss: 0.159551\n",
      "Epoch 2700, Loss: 0.159180\n",
      "Epoch 2800, Loss: 0.158714\n",
      "Epoch 2900, Loss: 0.158261\n",
      "Epoch 3000, Loss: 0.157784\n",
      "Epoch 3100, Loss: 0.157315\n",
      "Epoch 3200, Loss: 0.156725\n",
      "Epoch 3300, Loss: 0.156198\n",
      "Epoch 3400, Loss: 0.155630\n",
      "Epoch 3500, Loss: 0.155062\n",
      "Epoch 3600, Loss: 0.154460\n",
      "Epoch 3700, Loss: 0.153882\n",
      "Epoch 3800, Loss: 0.153300\n",
      "Epoch 3900, Loss: 0.152748\n",
      "Epoch 4000, Loss: 0.153587\n",
      "Epoch 4100, Loss: 0.151909\n",
      "Epoch 4200, Loss: 0.151253\n",
      "Epoch 4300, Loss: 0.150543\n",
      "Epoch 4400, Loss: 0.151866\n",
      "Epoch 4500, Loss: 0.149415\n",
      "Epoch 4600, Loss: 0.148859\n",
      "Epoch 4700, Loss: 0.149837\n",
      "Epoch 4800, Loss: 0.152071\n",
      "Epoch 4900, Loss: 0.147276\n",
      "Epoch 5000, Loss: 0.146805\n",
      "Epoch 5100, Loss: 0.146445\n",
      "Epoch 5200, Loss: 0.146188\n",
      "Epoch 5300, Loss: 0.145662\n",
      "Epoch 5400, Loss: 0.145928\n",
      "Epoch 5500, Loss: 0.144529\n",
      "Epoch 5600, Loss: 0.144105\n",
      "Epoch 5700, Loss: 0.143683\n",
      "Epoch 5800, Loss: 0.143281\n",
      "Epoch 5900, Loss: 0.143836\n",
      "Epoch 6000, Loss: 0.142540\n",
      "Epoch 6100, Loss: 0.142439\n",
      "Epoch 6200, Loss: 0.141555\n",
      "Epoch 6300, Loss: 0.141112\n",
      "Epoch 6400, Loss: 0.140664\n",
      "Epoch 6500, Loss: 0.140288\n",
      "Epoch 6600, Loss: 0.139788\n",
      "Epoch 6700, Loss: 0.140147\n",
      "Epoch 6800, Loss: 0.139137\n",
      "Epoch 6900, Loss: 0.138377\n",
      "Epoch 7000, Loss: 0.137921\n",
      "Epoch 7100, Loss: 0.137462\n",
      "Epoch 7200, Loss: 0.137241\n",
      "Epoch 7300, Loss: 0.136679\n",
      "Epoch 7400, Loss: 0.136104\n",
      "Epoch 7500, Loss: 0.136187\n",
      "Epoch 7600, Loss: 0.135338\n",
      "Epoch 7700, Loss: 0.134896\n",
      "Epoch 7800, Loss: 0.134627\n",
      "Epoch 7900, Loss: 0.134114\n",
      "Epoch 8000, Loss: 0.133850\n",
      "Epoch 8100, Loss: 0.133421\n",
      "Epoch 8200, Loss: 0.133079\n",
      "Epoch 8300, Loss: 0.132694\n",
      "Epoch 8400, Loss: 0.132721\n",
      "Epoch 8500, Loss: 0.131986\n",
      "Epoch 8600, Loss: 0.131680\n",
      "Epoch 8700, Loss: 0.131279\n",
      "Epoch 8800, Loss: 0.131484\n",
      "Epoch 8900, Loss: 0.130386\n",
      "Epoch 9000, Loss: 0.129773\n",
      "Epoch 9100, Loss: 0.129355\n",
      "Epoch 9200, Loss: 0.128692\n",
      "Epoch 9300, Loss: 0.128221\n",
      "Epoch 9400, Loss: 0.127765\n",
      "Epoch 9500, Loss: 0.127611\n",
      "Epoch 9600, Loss: 0.129514\n",
      "Epoch 9700, Loss: 0.126884\n",
      "Epoch 9800, Loss: 0.128018\n",
      "Epoch 9900, Loss: 0.125899\n"
     ]
    }
   ],
   "source": [
    "train_model(\n",
    "    model,\n",
    "    x,\n",
    "    t,\n",
    "    initial_condition,\n",
    "    boundary_condition,\n",
    "    du,\n",
    "    epsilon,\n",
    "    epochs,\n",
    "    learning_rate,\n",
    ")"
   ]
  },
  {
   "cell_type": "code",
   "execution_count": 10,
   "id": "6311ba3e",
   "metadata": {
    "_cell_guid": "cc034f19-6d99-4a0a-a8cd-a2a8ae4d2235",
    "_uuid": "e55ac594-e743-4f0a-ad60-018012cd0eeb",
    "collapsed": false,
    "execution": {
     "iopub.execute_input": "2024-11-21T11:42:31.673748Z",
     "iopub.status.busy": "2024-11-21T11:42:31.673038Z",
     "iopub.status.idle": "2024-11-21T11:42:44.824633Z",
     "shell.execute_reply": "2024-11-21T11:42:44.823649Z"
    },
    "jupyter": {
     "outputs_hidden": false
    },
    "papermill": {
     "duration": 13.16244,
     "end_time": "2024-11-21T11:42:44.826669",
     "exception": false,
     "start_time": "2024-11-21T11:42:31.664229",
     "status": "completed"
    },
    "tags": []
   },
   "outputs": [
    {
     "name": "stderr",
     "output_type": "stream",
     "text": [
      "100%|██████████| 201/201 [00:00<00:00, 353.87it/s]\n"
     ]
    }
   ],
   "source": [
    "import matplotlib.pyplot as plt\n",
    "import numpy as np\n",
    "from matplotlib import animation\n",
    "from tqdm import tqdm\n",
    "\n",
    "\n",
    "def visualize_burgers(xcrd, data, path):\n",
    "    \"\"\"\n",
    "    This function animates the Burgers equation\n",
    "\n",
    "    Args:\n",
    "    path : path to the desired file\n",
    "    param: PDE parameter of the data shard to be visualized\n",
    "    \"\"\"\n",
    "    fig, ax = plt.subplots()\n",
    "    ims = []\n",
    "\n",
    "    for i in tqdm(range(data.shape[0])):\n",
    "        if i == 0:\n",
    "            im = ax.plot(xcrd, data[i].squeeze(), animated=True, color=\"blue\")\n",
    "        else:\n",
    "            im = ax.plot(\n",
    "                xcrd, data[i].squeeze(), animated=True, color=\"blue\"\n",
    "            ) \n",
    "        ims.append([im[0]])\n",
    "\n",
    "    ani = animation.ArtistAnimation(fig, ims, interval=50, blit=True, repeat_delay=1000)\n",
    "\n",
    "    writer = animation.PillowWriter(fps=15, bitrate=1800)\n",
    "    ani.save(path, writer=writer)\n",
    "    plt.close(fig)\n",
    "    \n",
    "visualize_burgers(x, predicted_solution, \"noisy_trained_predicted_solution.gif\")"
   ]
  }
 ],
 "metadata": {
  "kaggle": {
   "accelerator": "nvidiaTeslaT4",
   "dataSources": [
    {
     "datasetId": 6074846,
     "sourceId": 9943646,
     "sourceType": "datasetVersion"
    }
   ],
   "dockerImageVersionId": 30787,
   "isGpuEnabled": true,
   "isInternetEnabled": true,
   "language": "python",
   "sourceType": "notebook"
  },
  "kernelspec": {
   "display_name": "Python 3",
   "language": "python",
   "name": "python3"
  },
  "language_info": {
   "codemirror_mode": {
    "name": "ipython",
    "version": 3
   },
   "file_extension": ".py",
   "mimetype": "text/x-python",
   "name": "python",
   "nbconvert_exporter": "python",
   "pygments_lexer": "ipython3",
   "version": "3.10.14"
  },
  "papermill": {
   "default_parameters": {},
   "duration": 2181.437096,
   "end_time": "2024-11-21T12:00:48.351431",
   "environment_variables": {},
   "exception": null,
   "input_path": "__notebook__.ipynb",
   "output_path": "__notebook__.ipynb",
   "parameters": {},
   "start_time": "2024-11-21T11:24:26.914335",
   "version": "2.6.0"
  }
 },
 "nbformat": 4,
 "nbformat_minor": 5
}
